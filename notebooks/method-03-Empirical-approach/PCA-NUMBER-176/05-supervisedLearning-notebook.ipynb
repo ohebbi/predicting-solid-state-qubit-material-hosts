{
 "cells": [
  {
   "cell_type": "code",
   "execution_count": 1,
   "metadata": {},
   "outputs": [
    {
     "data": {
      "text/html": [
       "\n",
       "        <script>\n",
       "            function code_toggle_11520875048339064676() {\n",
       "                $('div.cell.code_cell.rendered.selected').find('div.input').toggle();\n",
       "            }\n",
       "\n",
       "            \n",
       "        </script>\n",
       "\n",
       "        <a href=\"javascript:code_toggle_11520875048339064676()\">Toggle show/hide</a>\n",
       "    "
      ],
      "text/plain": [
       "<IPython.core.display.HTML object>"
      ]
     },
     "execution_count": 1,
     "metadata": {},
     "output_type": "execute_result"
    }
   ],
   "source": [
    "from pathlib import Path\n",
    "from src.notebookcodesnippets.hideInputs import hide_toggle \n",
    "\n",
    "hide_toggle()"
   ]
  },
  {
   "cell_type": "code",
   "execution_count": 2,
   "metadata": {},
   "outputs": [
    {
     "data": {
      "text/markdown": [
       "# 05-Supervised learning\n",
       "\n",
       "In this notebook we will train a model based on the previous 4 notebooks. This includes inspecting, finding the optimal hyperparameters (with many visualizations) and finally predict with the optimal model that has been found. This notebook is the same as every other supervised notebook in this project, but differs in training set, principal components and results. Therefore, to provide easy implementations, the notebook has been made modular to a certain degree, in particular for further implementation of other machine learning algorithms. It should be relatively straight forward to add more algorithms.\n",
       "\n",
       "## Table of contents\n",
       "\n",
       "- Imports and reading of data\n",
       "- Algorithms\n",
       "- Methods for finding optimal hyperparameters\n",
       "- Optimal hyperparameter search\n",
       "    - Visualizing the optimal parameters for dimensionality reduction\n",
       "    - Visualizing confusion metrics\n",
       "    - ROC-AUC  and precision recall curves\n",
       "    - Visualizing the cross-validated trained models\n",
       "    - Visualizing relevant features\n",
       "    - Falsely predicted entries\n",
       "- Predicting solid-state qubit candidates\n",
       "    - Save the summary and models\n",
       "\n",
       "The cell under provides the editorial difference between the different supervised notebooks in this project. \n"
      ],
      "text/plain": [
       "<IPython.core.display.Markdown object>"
      ]
     },
     "metadata": {},
     "output_type": "display_data"
    },
    {
     "data": {
      "text/html": [
       "\n",
       "        <script>\n",
       "            function code_toggle_14185948134518923768() {\n",
       "                $('div.cell.code_cell.rendered.selected').find('div.input').toggle();\n",
       "            }\n",
       "\n",
       "            \n",
       "        </script>\n",
       "\n",
       "        <a href=\"javascript:code_toggle_14185948134518923768()\">Toggle show/hide</a>\n",
       "    "
      ],
      "text/plain": [
       "<IPython.core.display.HTML object>"
      ]
     },
     "execution_count": 2,
     "metadata": {},
     "output_type": "execute_result"
    }
   ],
   "source": [
    "from IPython.display import display, Markdown\n",
    "\n",
    "with open(Path.cwd().parent.parent.parent / \"src\" / \"notebookcodesnippets\" / \"supervised\" / \"intro.md\", 'r') as fh:\n",
    "    content = fh.read()\n",
    "\n",
    "display(Markdown(content))\n",
    "hide_toggle()"
   ]
  },
  {
   "cell_type": "code",
   "execution_count": 3,
   "metadata": {},
   "outputs": [],
   "source": [
    "title = \"Empirical approach\"\n",
    "InsertApproach = \"03-empirical-approach\"\n",
    "numberOfPrincipalComponents = 176"
   ]
  },
  {
   "cell_type": "markdown",
   "metadata": {},
   "source": [
    "# Imports and reading of data\n",
    "\n",
    "Most of the code used in this notebook is found in the src library."
   ]
  },
  {
   "cell_type": "code",
   "execution_count": 4,
   "metadata": {},
   "outputs": [
    {
     "data": {
      "text/html": [
       "\n",
       "        <script>\n",
       "            function code_toggle_8604787101355602740() {\n",
       "                $('div.cell.code_cell.rendered.selected').find('div.input').toggle();\n",
       "            }\n",
       "\n",
       "            \n",
       "        </script>\n",
       "\n",
       "        <a href=\"javascript:code_toggle_8604787101355602740()\">Toggle show/hide</a>\n",
       "    "
      ],
      "text/plain": [
       "<IPython.core.display.HTML object>"
      ]
     },
     "execution_count": 4,
     "metadata": {},
     "output_type": "execute_result"
    }
   ],
   "source": [
    "# Optional: Load the \"autoreload\" extension so that code can change\n",
    "%load_ext autoreload\n",
    "\n",
    "#OPTIONAL: Always reload modules so that as you change code in src, it gets loaded\n",
    "%autoreload 2\n",
    "\n",
    "hide_toggle()"
   ]
  },
  {
   "cell_type": "code",
   "execution_count": 5,
   "metadata": {},
   "outputs": [
    {
     "name": "stdout",
     "output_type": "stream",
     "text": [
      "Current data directory /home/oliver/Dokumenter/masterprosjekt/predicting-solid-state-qubit-candidates/data\n",
      "\n",
      "If you use the ChemEnv tool for your research, please consider citing the following reference(s) :\n",
      "==================================================================================================\n",
      "David Waroquiers, Xavier Gonze, Gian-Marco Rignanese, Cathrin Welker-Nieuwoudt, Frank Rosowski,\n",
      "Michael Goebel, Stephan Schenk, Peter Degelmann, Rute Andre, Robert Glaum, and Geoffroy Hautier,\n",
      "\"Statistical analysis of coordination environments in oxides\",\n",
      "Chem. Mater., 2017, 29 (19), pp 8346-8360,\n",
      "DOI: 10.1021/acs.chemmater.7b02766\n",
      "\n"
     ]
    },
    {
     "data": {
      "text/html": [
       "\n",
       "        <script>\n",
       "            function code_toggle_14874493202976170332() {\n",
       "                $('div.cell.code_cell.rendered.selected').find('div.input').toggle();\n",
       "            }\n",
       "\n",
       "            \n",
       "        </script>\n",
       "\n",
       "        <a href=\"javascript:code_toggle_14874493202976170332()\">Toggle show/hide</a>\n",
       "    "
      ],
      "text/plain": [
       "<IPython.core.display.HTML object>"
      ]
     },
     "execution_count": 5,
     "metadata": {},
     "output_type": "execute_result"
    }
   ],
   "source": [
    "import sys\n",
    "sys.path.insert(0, \"../\")\n",
    "\n",
    "data_dir = Path.cwd().parent.parent.parent / \"data\"\n",
    "print(\"Current data directory {}\".format(data_dir))\n",
    "models_dir = Path.cwd().parent.parent.parent / \"models\" \n",
    "\n",
    "# src\n",
    "from src.models import train_model, predict_model\n",
    "from src.features import build_features\n",
    "from src.visualization import visualize\n",
    "\n",
    "#Standard libraries\n",
    "import numpy as np\n",
    "import pandas as pd\n",
    "import pickle\n",
    "\n",
    "#Models\n",
    "from sklearn.ensemble import RandomForestClassifier, GradientBoostingClassifier\n",
    "from sklearn.linear_model import LogisticRegression\n",
    "from sklearn.tree import DecisionTreeClassifier\n",
    "\n",
    "# CV\n",
    "from sklearn.model_selection import RepeatedStratifiedKFold\n",
    "\n",
    "#visualizations\n",
    "import plotly.graph_objs as go\n",
    "from tqdm import tqdm\n",
    "\n",
    "# setting random seed for reproducibility\n",
    "random_state=1\n",
    "hide_toggle()"
   ]
  },
  {
   "cell_type": "code",
   "execution_count": 6,
   "metadata": {},
   "outputs": [
    {
     "data": {
      "text/html": [
       "<div>\n",
       "<style scoped>\n",
       "    .dataframe tbody tr th:only-of-type {\n",
       "        vertical-align: middle;\n",
       "    }\n",
       "\n",
       "    .dataframe tbody tr th {\n",
       "        vertical-align: top;\n",
       "    }\n",
       "\n",
       "    .dataframe thead th {\n",
       "        text-align: right;\n",
       "    }\n",
       "</style>\n",
       "<table border=\"1\" class=\"dataframe\">\n",
       "  <thead>\n",
       "    <tr style=\"text-align: right;\">\n",
       "      <th></th>\n",
       "      <th>material_id</th>\n",
       "      <th>full_formula</th>\n",
       "      <th>AtomicOrbitals|HOMO_character</th>\n",
       "      <th>AtomicOrbitals|HOMO_element</th>\n",
       "      <th>AtomicOrbitals|HOMO_energy</th>\n",
       "      <th>AtomicOrbitals|LUMO_character</th>\n",
       "      <th>AtomicOrbitals|LUMO_element</th>\n",
       "      <th>AtomicOrbitals|LUMO_energy</th>\n",
       "      <th>AtomicPackingEfficiency|dist from 1 clusters |APE| &lt; 0.010</th>\n",
       "      <th>AtomicPackingEfficiency|dist from 3 clusters |APE| &lt; 0.010</th>\n",
       "      <th>...</th>\n",
       "      <th>AFLOWML|ml_agl_heat_capacity_Cp_300K_per_atom</th>\n",
       "      <th>AFLOWML|ml_agl_heat_capacity_Cv_300K</th>\n",
       "      <th>AFLOWML|ml_agl_heat_capacity_Cv_300K_per_atom</th>\n",
       "      <th>AFLOWML|ml_agl_thermal_conductivity_300K</th>\n",
       "      <th>AFLOWML|ml_agl_thermal_expansion_300K</th>\n",
       "      <th>MP|spacegroup.number</th>\n",
       "      <th>MP|band_gap</th>\n",
       "      <th>MP|total_magnetization</th>\n",
       "      <th>MP|efermi</th>\n",
       "      <th>MP|Polar SG</th>\n",
       "    </tr>\n",
       "  </thead>\n",
       "  <tbody>\n",
       "    <tr>\n",
       "      <th>0</th>\n",
       "      <td>mp-24</td>\n",
       "      <td>C8</td>\n",
       "      <td>2.0</td>\n",
       "      <td>6</td>\n",
       "      <td>-0.199186</td>\n",
       "      <td>2.0</td>\n",
       "      <td>6</td>\n",
       "      <td>-0.199186</td>\n",
       "      <td>1.000000</td>\n",
       "      <td>1.000000</td>\n",
       "      <td>...</td>\n",
       "      <td>0.679</td>\n",
       "      <td>4.262</td>\n",
       "      <td>0.634</td>\n",
       "      <td>3.043</td>\n",
       "      <td>0.000086</td>\n",
       "      <td>206</td>\n",
       "      <td>2.7785</td>\n",
       "      <td>0.000000</td>\n",
       "      <td>9.783159</td>\n",
       "      <td>0</td>\n",
       "    </tr>\n",
       "    <tr>\n",
       "      <th>1</th>\n",
       "      <td>mp-47</td>\n",
       "      <td>C4</td>\n",
       "      <td>2.0</td>\n",
       "      <td>6</td>\n",
       "      <td>-0.199186</td>\n",
       "      <td>2.0</td>\n",
       "      <td>6</td>\n",
       "      <td>-0.199186</td>\n",
       "      <td>1.000000</td>\n",
       "      <td>1.000000</td>\n",
       "      <td>...</td>\n",
       "      <td>0.629</td>\n",
       "      <td>1.816</td>\n",
       "      <td>0.588</td>\n",
       "      <td>3.223</td>\n",
       "      <td>0.000086</td>\n",
       "      <td>194</td>\n",
       "      <td>3.3395</td>\n",
       "      <td>0.000000</td>\n",
       "      <td>9.983070</td>\n",
       "      <td>0</td>\n",
       "    </tr>\n",
       "    <tr>\n",
       "      <th>2</th>\n",
       "      <td>mp-66</td>\n",
       "      <td>C2</td>\n",
       "      <td>2.0</td>\n",
       "      <td>6</td>\n",
       "      <td>-0.199186</td>\n",
       "      <td>2.0</td>\n",
       "      <td>6</td>\n",
       "      <td>-0.199186</td>\n",
       "      <td>1.000000</td>\n",
       "      <td>1.000000</td>\n",
       "      <td>...</td>\n",
       "      <td>0.658</td>\n",
       "      <td>1.139</td>\n",
       "      <td>0.617</td>\n",
       "      <td>4.279</td>\n",
       "      <td>0.000086</td>\n",
       "      <td>227</td>\n",
       "      <td>4.3387</td>\n",
       "      <td>0.000272</td>\n",
       "      <td>9.614764</td>\n",
       "      <td>0</td>\n",
       "    </tr>\n",
       "    <tr>\n",
       "      <th>3</th>\n",
       "      <td>mp-149</td>\n",
       "      <td>Si2</td>\n",
       "      <td>2.0</td>\n",
       "      <td>14</td>\n",
       "      <td>-0.153293</td>\n",
       "      <td>2.0</td>\n",
       "      <td>14</td>\n",
       "      <td>-0.153293</td>\n",
       "      <td>1.000000</td>\n",
       "      <td>1.000000</td>\n",
       "      <td>...</td>\n",
       "      <td>2.666</td>\n",
       "      <td>4.739</td>\n",
       "      <td>2.577</td>\n",
       "      <td>3.417</td>\n",
       "      <td>0.000061</td>\n",
       "      <td>227</td>\n",
       "      <td>0.8527</td>\n",
       "      <td>0.000307</td>\n",
       "      <td>5.564646</td>\n",
       "      <td>0</td>\n",
       "    </tr>\n",
       "    <tr>\n",
       "      <th>4</th>\n",
       "      <td>mp-165</td>\n",
       "      <td>Si4</td>\n",
       "      <td>2.0</td>\n",
       "      <td>14</td>\n",
       "      <td>-0.153293</td>\n",
       "      <td>2.0</td>\n",
       "      <td>14</td>\n",
       "      <td>-0.153293</td>\n",
       "      <td>1.000000</td>\n",
       "      <td>1.000000</td>\n",
       "      <td>...</td>\n",
       "      <td>2.637</td>\n",
       "      <td>9.976</td>\n",
       "      <td>2.549</td>\n",
       "      <td>3.443</td>\n",
       "      <td>0.000061</td>\n",
       "      <td>194</td>\n",
       "      <td>0.5139</td>\n",
       "      <td>0.000077</td>\n",
       "      <td>5.891539</td>\n",
       "      <td>0</td>\n",
       "    </tr>\n",
       "    <tr>\n",
       "      <th>...</th>\n",
       "      <td>...</td>\n",
       "      <td>...</td>\n",
       "      <td>...</td>\n",
       "      <td>...</td>\n",
       "      <td>...</td>\n",
       "      <td>...</td>\n",
       "      <td>...</td>\n",
       "      <td>...</td>\n",
       "      <td>...</td>\n",
       "      <td>...</td>\n",
       "      <td>...</td>\n",
       "      <td>...</td>\n",
       "      <td>...</td>\n",
       "      <td>...</td>\n",
       "      <td>...</td>\n",
       "      <td>...</td>\n",
       "      <td>...</td>\n",
       "      <td>...</td>\n",
       "      <td>...</td>\n",
       "      <td>...</td>\n",
       "      <td>...</td>\n",
       "    </tr>\n",
       "    <tr>\n",
       "      <th>584</th>\n",
       "      <td>mp-1275839</td>\n",
       "      <td>Co4Bi24S8O64</td>\n",
       "      <td>3.0</td>\n",
       "      <td>27</td>\n",
       "      <td>-0.322368</td>\n",
       "      <td>3.0</td>\n",
       "      <td>27</td>\n",
       "      <td>-0.322368</td>\n",
       "      <td>0.034641</td>\n",
       "      <td>0.052087</td>\n",
       "      <td>...</td>\n",
       "      <td>2.800</td>\n",
       "      <td>118.318</td>\n",
       "      <td>2.709</td>\n",
       "      <td>2.690</td>\n",
       "      <td>0.000052</td>\n",
       "      <td>3</td>\n",
       "      <td>2.3186</td>\n",
       "      <td>0.000351</td>\n",
       "      <td>3.917413</td>\n",
       "      <td>1</td>\n",
       "    </tr>\n",
       "    <tr>\n",
       "      <th>585</th>\n",
       "      <td>mp-1291058</td>\n",
       "      <td>Sr4Mn2Mo2O12</td>\n",
       "      <td>3.0</td>\n",
       "      <td>25</td>\n",
       "      <td>-0.266540</td>\n",
       "      <td>3.0</td>\n",
       "      <td>25</td>\n",
       "      <td>-0.266540</td>\n",
       "      <td>0.052116</td>\n",
       "      <td>0.058661</td>\n",
       "      <td>...</td>\n",
       "      <td>2.650</td>\n",
       "      <td>53.364</td>\n",
       "      <td>2.515</td>\n",
       "      <td>2.749</td>\n",
       "      <td>0.000060</td>\n",
       "      <td>1</td>\n",
       "      <td>0.8079</td>\n",
       "      <td>0.992766</td>\n",
       "      <td>3.987258</td>\n",
       "      <td>1</td>\n",
       "    </tr>\n",
       "    <tr>\n",
       "      <th>586</th>\n",
       "      <td>mp-1291630</td>\n",
       "      <td>Fe12O16</td>\n",
       "      <td>3.0</td>\n",
       "      <td>26</td>\n",
       "      <td>-0.295049</td>\n",
       "      <td>3.0</td>\n",
       "      <td>26</td>\n",
       "      <td>-0.295049</td>\n",
       "      <td>0.091832</td>\n",
       "      <td>0.135247</td>\n",
       "      <td>...</td>\n",
       "      <td>2.666</td>\n",
       "      <td>63.321</td>\n",
       "      <td>2.496</td>\n",
       "      <td>2.841</td>\n",
       "      <td>0.000060</td>\n",
       "      <td>5</td>\n",
       "      <td>0.8733</td>\n",
       "      <td>13.999990</td>\n",
       "      <td>4.200333</td>\n",
       "      <td>1</td>\n",
       "    </tr>\n",
       "    <tr>\n",
       "      <th>587</th>\n",
       "      <td>mp-1298346</td>\n",
       "      <td>Sr8Co4O16</td>\n",
       "      <td>3.0</td>\n",
       "      <td>27</td>\n",
       "      <td>-0.322368</td>\n",
       "      <td>3.0</td>\n",
       "      <td>27</td>\n",
       "      <td>-0.322368</td>\n",
       "      <td>0.057864</td>\n",
       "      <td>0.095274</td>\n",
       "      <td>...</td>\n",
       "      <td>2.733</td>\n",
       "      <td>35.375</td>\n",
       "      <td>2.654</td>\n",
       "      <td>2.725</td>\n",
       "      <td>0.000061</td>\n",
       "      <td>4</td>\n",
       "      <td>0.5907</td>\n",
       "      <td>0.000485</td>\n",
       "      <td>2.323107</td>\n",
       "      <td>1</td>\n",
       "    </tr>\n",
       "    <tr>\n",
       "      <th>588</th>\n",
       "      <td>mp-1539137</td>\n",
       "      <td>Rb1Cr5S8</td>\n",
       "      <td>3.0</td>\n",
       "      <td>24</td>\n",
       "      <td>-0.118123</td>\n",
       "      <td>3.0</td>\n",
       "      <td>24</td>\n",
       "      <td>-0.118123</td>\n",
       "      <td>0.033111</td>\n",
       "      <td>0.074127</td>\n",
       "      <td>...</td>\n",
       "      <td>2.957</td>\n",
       "      <td>38.302</td>\n",
       "      <td>2.773</td>\n",
       "      <td>2.708</td>\n",
       "      <td>0.000061</td>\n",
       "      <td>8</td>\n",
       "      <td>0.3523</td>\n",
       "      <td>11.000000</td>\n",
       "      <td>4.879709</td>\n",
       "      <td>1</td>\n",
       "    </tr>\n",
       "  </tbody>\n",
       "</table>\n",
       "<p>589 rows × 677 columns</p>\n",
       "</div>"
      ],
      "text/plain": [
       "    material_id  full_formula  AtomicOrbitals|HOMO_character  \\\n",
       "0         mp-24            C8                            2.0   \n",
       "1         mp-47            C4                            2.0   \n",
       "2         mp-66            C2                            2.0   \n",
       "3        mp-149           Si2                            2.0   \n",
       "4        mp-165           Si4                            2.0   \n",
       "..          ...           ...                            ...   \n",
       "584  mp-1275839  Co4Bi24S8O64                            3.0   \n",
       "585  mp-1291058  Sr4Mn2Mo2O12                            3.0   \n",
       "586  mp-1291630       Fe12O16                            3.0   \n",
       "587  mp-1298346     Sr8Co4O16                            3.0   \n",
       "588  mp-1539137      Rb1Cr5S8                            3.0   \n",
       "\n",
       "     AtomicOrbitals|HOMO_element  AtomicOrbitals|HOMO_energy  \\\n",
       "0                              6                   -0.199186   \n",
       "1                              6                   -0.199186   \n",
       "2                              6                   -0.199186   \n",
       "3                             14                   -0.153293   \n",
       "4                             14                   -0.153293   \n",
       "..                           ...                         ...   \n",
       "584                           27                   -0.322368   \n",
       "585                           25                   -0.266540   \n",
       "586                           26                   -0.295049   \n",
       "587                           27                   -0.322368   \n",
       "588                           24                   -0.118123   \n",
       "\n",
       "     AtomicOrbitals|LUMO_character  AtomicOrbitals|LUMO_element  \\\n",
       "0                              2.0                            6   \n",
       "1                              2.0                            6   \n",
       "2                              2.0                            6   \n",
       "3                              2.0                           14   \n",
       "4                              2.0                           14   \n",
       "..                             ...                          ...   \n",
       "584                            3.0                           27   \n",
       "585                            3.0                           25   \n",
       "586                            3.0                           26   \n",
       "587                            3.0                           27   \n",
       "588                            3.0                           24   \n",
       "\n",
       "     AtomicOrbitals|LUMO_energy  \\\n",
       "0                     -0.199186   \n",
       "1                     -0.199186   \n",
       "2                     -0.199186   \n",
       "3                     -0.153293   \n",
       "4                     -0.153293   \n",
       "..                          ...   \n",
       "584                   -0.322368   \n",
       "585                   -0.266540   \n",
       "586                   -0.295049   \n",
       "587                   -0.322368   \n",
       "588                   -0.118123   \n",
       "\n",
       "     AtomicPackingEfficiency|dist from 1 clusters |APE| < 0.010  \\\n",
       "0                                             1.000000            \n",
       "1                                             1.000000            \n",
       "2                                             1.000000            \n",
       "3                                             1.000000            \n",
       "4                                             1.000000            \n",
       "..                                                 ...            \n",
       "584                                           0.034641            \n",
       "585                                           0.052116            \n",
       "586                                           0.091832            \n",
       "587                                           0.057864            \n",
       "588                                           0.033111            \n",
       "\n",
       "     AtomicPackingEfficiency|dist from 3 clusters |APE| < 0.010  ...  \\\n",
       "0                                             1.000000           ...   \n",
       "1                                             1.000000           ...   \n",
       "2                                             1.000000           ...   \n",
       "3                                             1.000000           ...   \n",
       "4                                             1.000000           ...   \n",
       "..                                                 ...           ...   \n",
       "584                                           0.052087           ...   \n",
       "585                                           0.058661           ...   \n",
       "586                                           0.135247           ...   \n",
       "587                                           0.095274           ...   \n",
       "588                                           0.074127           ...   \n",
       "\n",
       "     AFLOWML|ml_agl_heat_capacity_Cp_300K_per_atom  \\\n",
       "0                                            0.679   \n",
       "1                                            0.629   \n",
       "2                                            0.658   \n",
       "3                                            2.666   \n",
       "4                                            2.637   \n",
       "..                                             ...   \n",
       "584                                          2.800   \n",
       "585                                          2.650   \n",
       "586                                          2.666   \n",
       "587                                          2.733   \n",
       "588                                          2.957   \n",
       "\n",
       "     AFLOWML|ml_agl_heat_capacity_Cv_300K  \\\n",
       "0                                   4.262   \n",
       "1                                   1.816   \n",
       "2                                   1.139   \n",
       "3                                   4.739   \n",
       "4                                   9.976   \n",
       "..                                    ...   \n",
       "584                               118.318   \n",
       "585                                53.364   \n",
       "586                                63.321   \n",
       "587                                35.375   \n",
       "588                                38.302   \n",
       "\n",
       "     AFLOWML|ml_agl_heat_capacity_Cv_300K_per_atom  \\\n",
       "0                                            0.634   \n",
       "1                                            0.588   \n",
       "2                                            0.617   \n",
       "3                                            2.577   \n",
       "4                                            2.549   \n",
       "..                                             ...   \n",
       "584                                          2.709   \n",
       "585                                          2.515   \n",
       "586                                          2.496   \n",
       "587                                          2.654   \n",
       "588                                          2.773   \n",
       "\n",
       "     AFLOWML|ml_agl_thermal_conductivity_300K  \\\n",
       "0                                       3.043   \n",
       "1                                       3.223   \n",
       "2                                       4.279   \n",
       "3                                       3.417   \n",
       "4                                       3.443   \n",
       "..                                        ...   \n",
       "584                                     2.690   \n",
       "585                                     2.749   \n",
       "586                                     2.841   \n",
       "587                                     2.725   \n",
       "588                                     2.708   \n",
       "\n",
       "     AFLOWML|ml_agl_thermal_expansion_300K  MP|spacegroup.number  MP|band_gap  \\\n",
       "0                                 0.000086                   206       2.7785   \n",
       "1                                 0.000086                   194       3.3395   \n",
       "2                                 0.000086                   227       4.3387   \n",
       "3                                 0.000061                   227       0.8527   \n",
       "4                                 0.000061                   194       0.5139   \n",
       "..                                     ...                   ...          ...   \n",
       "584                               0.000052                     3       2.3186   \n",
       "585                               0.000060                     1       0.8079   \n",
       "586                               0.000060                     5       0.8733   \n",
       "587                               0.000061                     4       0.5907   \n",
       "588                               0.000061                     8       0.3523   \n",
       "\n",
       "     MP|total_magnetization  MP|efermi  MP|Polar SG  \n",
       "0                  0.000000   9.783159            0  \n",
       "1                  0.000000   9.983070            0  \n",
       "2                  0.000272   9.614764            0  \n",
       "3                  0.000307   5.564646            0  \n",
       "4                  0.000077   5.891539            0  \n",
       "..                      ...        ...          ...  \n",
       "584                0.000351   3.917413            1  \n",
       "585                0.992766   3.987258            1  \n",
       "586               13.999990   4.200333            1  \n",
       "587                0.000485   2.323107            1  \n",
       "588               11.000000   4.879709            1  \n",
       "\n",
       "[589 rows x 677 columns]"
      ]
     },
     "execution_count": 6,
     "metadata": {},
     "output_type": "execute_result"
    }
   ],
   "source": [
    "data   = pd.read_pickle(data_dir / \"processed\" / \"processedData.pkl\")\n",
    "trainingData   = pd.read_pickle(data_dir / InsertApproach / \"processed\" / \"trainingData.pkl\")\n",
    "trainingTarget= pd.read_pickle(data_dir / InsertApproach / \"processed\" / \"trainingTarget.pkl\")\n",
    "testSet       = pd.read_pickle(data_dir / InsertApproach / \"processed\" / \"testSet.pkl\")\n",
    "\n",
    "trainingData"
   ]
  },
  {
   "cell_type": "code",
   "execution_count": 7,
   "metadata": {},
   "outputs": [
    {
     "data": {
      "text/html": [
       "<div>\n",
       "<style scoped>\n",
       "    .dataframe tbody tr th:only-of-type {\n",
       "        vertical-align: middle;\n",
       "    }\n",
       "\n",
       "    .dataframe tbody tr th {\n",
       "        vertical-align: top;\n",
       "    }\n",
       "\n",
       "    .dataframe thead th {\n",
       "        text-align: right;\n",
       "    }\n",
       "</style>\n",
       "<table border=\"1\" class=\"dataframe\">\n",
       "  <thead>\n",
       "    <tr style=\"text-align: right;\">\n",
       "      <th></th>\n",
       "      <th>material_id</th>\n",
       "      <th>pretty_formula</th>\n",
       "      <th>full_formula</th>\n",
       "      <th>candidate</th>\n",
       "      <th>AtomicOrbitals|HOMO_character</th>\n",
       "      <th>AtomicOrbitals|HOMO_element</th>\n",
       "      <th>AtomicOrbitals|HOMO_energy</th>\n",
       "      <th>AtomicOrbitals|LUMO_character</th>\n",
       "      <th>AtomicOrbitals|LUMO_element</th>\n",
       "      <th>AtomicOrbitals|LUMO_energy</th>\n",
       "      <th>...</th>\n",
       "      <th>AFLOWML|ml_agl_heat_capacity_Cp_300K_per_atom</th>\n",
       "      <th>AFLOWML|ml_agl_heat_capacity_Cv_300K</th>\n",
       "      <th>AFLOWML|ml_agl_heat_capacity_Cv_300K_per_atom</th>\n",
       "      <th>AFLOWML|ml_agl_thermal_conductivity_300K</th>\n",
       "      <th>AFLOWML|ml_agl_thermal_expansion_300K</th>\n",
       "      <th>MP|spacegroup.number</th>\n",
       "      <th>MP|band_gap</th>\n",
       "      <th>MP|total_magnetization</th>\n",
       "      <th>MP|efermi</th>\n",
       "      <th>MP|Polar SG</th>\n",
       "    </tr>\n",
       "  </thead>\n",
       "  <tbody>\n",
       "    <tr>\n",
       "      <th>589</th>\n",
       "      <td>mvc-12905</td>\n",
       "      <td>FeO2</td>\n",
       "      <td>Fe4O8</td>\n",
       "      <td>NaN</td>\n",
       "      <td>3.0</td>\n",
       "      <td>26</td>\n",
       "      <td>-0.295049</td>\n",
       "      <td>3.0</td>\n",
       "      <td>26</td>\n",
       "      <td>-0.295049</td>\n",
       "      <td>...</td>\n",
       "      <td>2.614</td>\n",
       "      <td>29.011</td>\n",
       "      <td>2.488</td>\n",
       "      <td>2.762</td>\n",
       "      <td>0.000060</td>\n",
       "      <td>87</td>\n",
       "      <td>1.2690</td>\n",
       "      <td>3.997838</td>\n",
       "      <td>-0.420994</td>\n",
       "      <td>0</td>\n",
       "    </tr>\n",
       "    <tr>\n",
       "      <th>590</th>\n",
       "      <td>mp-7</td>\n",
       "      <td>S</td>\n",
       "      <td>S6</td>\n",
       "      <td>NaN</td>\n",
       "      <td>2.0</td>\n",
       "      <td>16</td>\n",
       "      <td>-0.261676</td>\n",
       "      <td>2.0</td>\n",
       "      <td>16</td>\n",
       "      <td>-0.261676</td>\n",
       "      <td>...</td>\n",
       "      <td>2.886</td>\n",
       "      <td>17.163</td>\n",
       "      <td>2.762</td>\n",
       "      <td>3.440</td>\n",
       "      <td>0.000070</td>\n",
       "      <td>148</td>\n",
       "      <td>2.4881</td>\n",
       "      <td>0.000001</td>\n",
       "      <td>0.348895</td>\n",
       "      <td>0</td>\n",
       "    </tr>\n",
       "    <tr>\n",
       "      <th>591</th>\n",
       "      <td>mp-14</td>\n",
       "      <td>Se</td>\n",
       "      <td>Se3</td>\n",
       "      <td>NaN</td>\n",
       "      <td>2.0</td>\n",
       "      <td>34</td>\n",
       "      <td>-0.245806</td>\n",
       "      <td>2.0</td>\n",
       "      <td>34</td>\n",
       "      <td>-0.245806</td>\n",
       "      <td>...</td>\n",
       "      <td>3.106</td>\n",
       "      <td>8.771</td>\n",
       "      <td>2.926</td>\n",
       "      <td>3.010</td>\n",
       "      <td>0.000062</td>\n",
       "      <td>152</td>\n",
       "      <td>1.0119</td>\n",
       "      <td>0.000007</td>\n",
       "      <td>1.879425</td>\n",
       "      <td>0</td>\n",
       "    </tr>\n",
       "    <tr>\n",
       "      <th>592</th>\n",
       "      <td>mp-19</td>\n",
       "      <td>Te</td>\n",
       "      <td>Te3</td>\n",
       "      <td>NaN</td>\n",
       "      <td>2.0</td>\n",
       "      <td>52</td>\n",
       "      <td>-0.226594</td>\n",
       "      <td>2.0</td>\n",
       "      <td>52</td>\n",
       "      <td>-0.226594</td>\n",
       "      <td>...</td>\n",
       "      <td>3.089</td>\n",
       "      <td>9.237</td>\n",
       "      <td>2.954</td>\n",
       "      <td>3.166</td>\n",
       "      <td>0.000054</td>\n",
       "      <td>152</td>\n",
       "      <td>0.5752</td>\n",
       "      <td>0.000000</td>\n",
       "      <td>5.455518</td>\n",
       "      <td>0</td>\n",
       "    </tr>\n",
       "    <tr>\n",
       "      <th>593</th>\n",
       "      <td>mp-25</td>\n",
       "      <td>N2</td>\n",
       "      <td>N8</td>\n",
       "      <td>NaN</td>\n",
       "      <td>2.0</td>\n",
       "      <td>7</td>\n",
       "      <td>-0.266297</td>\n",
       "      <td>2.0</td>\n",
       "      <td>7</td>\n",
       "      <td>-0.266297</td>\n",
       "      <td>...</td>\n",
       "      <td>2.667</td>\n",
       "      <td>21.106</td>\n",
       "      <td>2.612</td>\n",
       "      <td>3.211</td>\n",
       "      <td>0.000063</td>\n",
       "      <td>205</td>\n",
       "      <td>7.4564</td>\n",
       "      <td>0.000008</td>\n",
       "      <td>-6.929356</td>\n",
       "      <td>0</td>\n",
       "    </tr>\n",
       "    <tr>\n",
       "      <th>...</th>\n",
       "      <td>...</td>\n",
       "      <td>...</td>\n",
       "      <td>...</td>\n",
       "      <td>...</td>\n",
       "      <td>...</td>\n",
       "      <td>...</td>\n",
       "      <td>...</td>\n",
       "      <td>...</td>\n",
       "      <td>...</td>\n",
       "      <td>...</td>\n",
       "      <td>...</td>\n",
       "      <td>...</td>\n",
       "      <td>...</td>\n",
       "      <td>...</td>\n",
       "      <td>...</td>\n",
       "      <td>...</td>\n",
       "      <td>...</td>\n",
       "      <td>...</td>\n",
       "      <td>...</td>\n",
       "      <td>...</td>\n",
       "      <td>...</td>\n",
       "    </tr>\n",
       "    <tr>\n",
       "      <th>25128</th>\n",
       "      <td>mp-1293833</td>\n",
       "      <td>0</td>\n",
       "      <td>0</td>\n",
       "      <td>NaN</td>\n",
       "      <td>3.0</td>\n",
       "      <td>26</td>\n",
       "      <td>-0.295049</td>\n",
       "      <td>3.0</td>\n",
       "      <td>26</td>\n",
       "      <td>-0.295049</td>\n",
       "      <td>...</td>\n",
       "      <td>2.695</td>\n",
       "      <td>34.854</td>\n",
       "      <td>2.533</td>\n",
       "      <td>2.792</td>\n",
       "      <td>0.000060</td>\n",
       "      <td>12</td>\n",
       "      <td>1.0858</td>\n",
       "      <td>0.997443</td>\n",
       "      <td>3.181882</td>\n",
       "      <td>0</td>\n",
       "    </tr>\n",
       "    <tr>\n",
       "      <th>25129</th>\n",
       "      <td>mp-1296711</td>\n",
       "      <td>LaCoO3</td>\n",
       "      <td>La2Co2O6</td>\n",
       "      <td>NaN</td>\n",
       "      <td>3.0</td>\n",
       "      <td>27</td>\n",
       "      <td>-0.322368</td>\n",
       "      <td>3.0</td>\n",
       "      <td>27</td>\n",
       "      <td>-0.322368</td>\n",
       "      <td>...</td>\n",
       "      <td>2.733</td>\n",
       "      <td>26.347</td>\n",
       "      <td>2.664</td>\n",
       "      <td>2.757</td>\n",
       "      <td>0.000052</td>\n",
       "      <td>148</td>\n",
       "      <td>0.2793</td>\n",
       "      <td>1.999366</td>\n",
       "      <td>6.644448</td>\n",
       "      <td>0</td>\n",
       "    </tr>\n",
       "    <tr>\n",
       "      <th>25130</th>\n",
       "      <td>mp-1299874</td>\n",
       "      <td>LiLa4CoO8</td>\n",
       "      <td>Li4La16Co4O32</td>\n",
       "      <td>NaN</td>\n",
       "      <td>3.0</td>\n",
       "      <td>27</td>\n",
       "      <td>-0.322368</td>\n",
       "      <td>3.0</td>\n",
       "      <td>27</td>\n",
       "      <td>-0.322368</td>\n",
       "      <td>...</td>\n",
       "      <td>2.754</td>\n",
       "      <td>37.571</td>\n",
       "      <td>2.712</td>\n",
       "      <td>2.644</td>\n",
       "      <td>0.000052</td>\n",
       "      <td>65</td>\n",
       "      <td>1.2604</td>\n",
       "      <td>0.031775</td>\n",
       "      <td>6.781522</td>\n",
       "      <td>0</td>\n",
       "    </tr>\n",
       "    <tr>\n",
       "      <th>25131</th>\n",
       "      <td>mp-1304797</td>\n",
       "      <td>Sr3InNiO6</td>\n",
       "      <td>Sr12In4Ni4O24</td>\n",
       "      <td>NaN</td>\n",
       "      <td>2.0</td>\n",
       "      <td>8</td>\n",
       "      <td>-0.338381</td>\n",
       "      <td>2.0</td>\n",
       "      <td>8</td>\n",
       "      <td>-0.338381</td>\n",
       "      <td>...</td>\n",
       "      <td>2.850</td>\n",
       "      <td>121.983</td>\n",
       "      <td>2.753</td>\n",
       "      <td>2.534</td>\n",
       "      <td>0.000060</td>\n",
       "      <td>14</td>\n",
       "      <td>0.6870</td>\n",
       "      <td>0.000060</td>\n",
       "      <td>3.330769</td>\n",
       "      <td>0</td>\n",
       "    </tr>\n",
       "    <tr>\n",
       "      <th>25132</th>\n",
       "      <td>mp-1542038</td>\n",
       "      <td>CsSnSe3</td>\n",
       "      <td>Cs2Sn2Se6</td>\n",
       "      <td>NaN</td>\n",
       "      <td>2.0</td>\n",
       "      <td>34</td>\n",
       "      <td>-0.245806</td>\n",
       "      <td>2.0</td>\n",
       "      <td>34</td>\n",
       "      <td>-0.245806</td>\n",
       "      <td>...</td>\n",
       "      <td>3.139</td>\n",
       "      <td>28.917</td>\n",
       "      <td>2.938</td>\n",
       "      <td>2.698</td>\n",
       "      <td>0.000047</td>\n",
       "      <td>2</td>\n",
       "      <td>1.2498</td>\n",
       "      <td>0.000473</td>\n",
       "      <td>2.408452</td>\n",
       "      <td>0</td>\n",
       "    </tr>\n",
       "  </tbody>\n",
       "</table>\n",
       "<p>24544 rows × 679 columns</p>\n",
       "</div>"
      ],
      "text/plain": [
       "      material_id pretty_formula   full_formula  candidate  \\\n",
       "589     mvc-12905           FeO2          Fe4O8        NaN   \n",
       "590          mp-7              S             S6        NaN   \n",
       "591         mp-14             Se            Se3        NaN   \n",
       "592         mp-19             Te            Te3        NaN   \n",
       "593         mp-25             N2             N8        NaN   \n",
       "...           ...            ...            ...        ...   \n",
       "25128  mp-1293833              0              0        NaN   \n",
       "25129  mp-1296711         LaCoO3       La2Co2O6        NaN   \n",
       "25130  mp-1299874      LiLa4CoO8  Li4La16Co4O32        NaN   \n",
       "25131  mp-1304797      Sr3InNiO6  Sr12In4Ni4O24        NaN   \n",
       "25132  mp-1542038        CsSnSe3      Cs2Sn2Se6        NaN   \n",
       "\n",
       "       AtomicOrbitals|HOMO_character  AtomicOrbitals|HOMO_element  \\\n",
       "589                              3.0                           26   \n",
       "590                              2.0                           16   \n",
       "591                              2.0                           34   \n",
       "592                              2.0                           52   \n",
       "593                              2.0                            7   \n",
       "...                              ...                          ...   \n",
       "25128                            3.0                           26   \n",
       "25129                            3.0                           27   \n",
       "25130                            3.0                           27   \n",
       "25131                            2.0                            8   \n",
       "25132                            2.0                           34   \n",
       "\n",
       "       AtomicOrbitals|HOMO_energy  AtomicOrbitals|LUMO_character  \\\n",
       "589                     -0.295049                            3.0   \n",
       "590                     -0.261676                            2.0   \n",
       "591                     -0.245806                            2.0   \n",
       "592                     -0.226594                            2.0   \n",
       "593                     -0.266297                            2.0   \n",
       "...                           ...                            ...   \n",
       "25128                   -0.295049                            3.0   \n",
       "25129                   -0.322368                            3.0   \n",
       "25130                   -0.322368                            3.0   \n",
       "25131                   -0.338381                            2.0   \n",
       "25132                   -0.245806                            2.0   \n",
       "\n",
       "       AtomicOrbitals|LUMO_element  AtomicOrbitals|LUMO_energy  ...  \\\n",
       "589                             26                   -0.295049  ...   \n",
       "590                             16                   -0.261676  ...   \n",
       "591                             34                   -0.245806  ...   \n",
       "592                             52                   -0.226594  ...   \n",
       "593                              7                   -0.266297  ...   \n",
       "...                            ...                         ...  ...   \n",
       "25128                           26                   -0.295049  ...   \n",
       "25129                           27                   -0.322368  ...   \n",
       "25130                           27                   -0.322368  ...   \n",
       "25131                            8                   -0.338381  ...   \n",
       "25132                           34                   -0.245806  ...   \n",
       "\n",
       "       AFLOWML|ml_agl_heat_capacity_Cp_300K_per_atom  \\\n",
       "589                                            2.614   \n",
       "590                                            2.886   \n",
       "591                                            3.106   \n",
       "592                                            3.089   \n",
       "593                                            2.667   \n",
       "...                                              ...   \n",
       "25128                                          2.695   \n",
       "25129                                          2.733   \n",
       "25130                                          2.754   \n",
       "25131                                          2.850   \n",
       "25132                                          3.139   \n",
       "\n",
       "       AFLOWML|ml_agl_heat_capacity_Cv_300K  \\\n",
       "589                                  29.011   \n",
       "590                                  17.163   \n",
       "591                                   8.771   \n",
       "592                                   9.237   \n",
       "593                                  21.106   \n",
       "...                                     ...   \n",
       "25128                                34.854   \n",
       "25129                                26.347   \n",
       "25130                                37.571   \n",
       "25131                               121.983   \n",
       "25132                                28.917   \n",
       "\n",
       "       AFLOWML|ml_agl_heat_capacity_Cv_300K_per_atom  \\\n",
       "589                                            2.488   \n",
       "590                                            2.762   \n",
       "591                                            2.926   \n",
       "592                                            2.954   \n",
       "593                                            2.612   \n",
       "...                                              ...   \n",
       "25128                                          2.533   \n",
       "25129                                          2.664   \n",
       "25130                                          2.712   \n",
       "25131                                          2.753   \n",
       "25132                                          2.938   \n",
       "\n",
       "       AFLOWML|ml_agl_thermal_conductivity_300K  \\\n",
       "589                                       2.762   \n",
       "590                                       3.440   \n",
       "591                                       3.010   \n",
       "592                                       3.166   \n",
       "593                                       3.211   \n",
       "...                                         ...   \n",
       "25128                                     2.792   \n",
       "25129                                     2.757   \n",
       "25130                                     2.644   \n",
       "25131                                     2.534   \n",
       "25132                                     2.698   \n",
       "\n",
       "       AFLOWML|ml_agl_thermal_expansion_300K  MP|spacegroup.number  \\\n",
       "589                                 0.000060                    87   \n",
       "590                                 0.000070                   148   \n",
       "591                                 0.000062                   152   \n",
       "592                                 0.000054                   152   \n",
       "593                                 0.000063                   205   \n",
       "...                                      ...                   ...   \n",
       "25128                               0.000060                    12   \n",
       "25129                               0.000052                   148   \n",
       "25130                               0.000052                    65   \n",
       "25131                               0.000060                    14   \n",
       "25132                               0.000047                     2   \n",
       "\n",
       "       MP|band_gap  MP|total_magnetization  MP|efermi  MP|Polar SG  \n",
       "589         1.2690                3.997838  -0.420994            0  \n",
       "590         2.4881                0.000001   0.348895            0  \n",
       "591         1.0119                0.000007   1.879425            0  \n",
       "592         0.5752                0.000000   5.455518            0  \n",
       "593         7.4564                0.000008  -6.929356            0  \n",
       "...            ...                     ...        ...          ...  \n",
       "25128       1.0858                0.997443   3.181882            0  \n",
       "25129       0.2793                1.999366   6.644448            0  \n",
       "25130       1.2604                0.031775   6.781522            0  \n",
       "25131       0.6870                0.000060   3.330769            0  \n",
       "25132       1.2498                0.000473   2.408452            0  \n",
       "\n",
       "[24544 rows x 679 columns]"
      ]
     },
     "execution_count": 7,
     "metadata": {},
     "output_type": "execute_result"
    }
   ],
   "source": [
    "testSet"
   ]
  },
  {
   "cell_type": "code",
   "execution_count": 8,
   "metadata": {},
   "outputs": [
    {
     "data": {
      "text/markdown": [
       "# Algorithms\n",
       "Below we define the algorithm to use and its abbreviation. Parameters that are optional to tune are the parameters to the algorithms, with the default value as their optimised value. Another parameter to tune is how many cross-validations one wants to iterate through for the analysis. In addition, one has to find the best features for a new algorithm which will be added further down in the notebook.\n"
      ],
      "text/plain": [
       "<IPython.core.display.Markdown object>"
      ]
     },
     "metadata": {},
     "output_type": "display_data"
    },
    {
     "data": {
      "text/html": [
       "\n",
       "        <script>\n",
       "            function code_toggle_7964028693406534245() {\n",
       "                $('div.cell.code_cell.rendered.selected').find('div.input').toggle();\n",
       "            }\n",
       "\n",
       "            \n",
       "        </script>\n",
       "\n",
       "        <a href=\"javascript:code_toggle_7964028693406534245()\">Toggle show/hide</a>\n",
       "    "
      ],
      "text/plain": [
       "<IPython.core.display.HTML object>"
      ]
     },
     "execution_count": 8,
     "metadata": {},
     "output_type": "execute_result"
    }
   ],
   "source": [
    "from IPython.display import display, Markdown\n",
    "\n",
    "with open(Path.cwd().parent.parent.parent / \"src\" / \"notebookcodesnippets\" / \"supervised\" / \"algorithms.md\", 'r') as fh:\n",
    "    content = fh.read()\n",
    "\n",
    "display(Markdown(content))\n",
    "hide_toggle()"
   ]
  },
  {
   "cell_type": "code",
   "execution_count": 9,
   "metadata": {},
   "outputs": [],
   "source": [
    "InsertAlgorithms    = [LogisticRegression        (random_state = random_state, max_iter=200),\n",
    "                       DecisionTreeClassifier    (random_state = random_state, max_features = \"auto\"),\n",
    "                       RandomForestClassifier    (random_state = random_state, max_features = \"auto\", max_depth=6),\\\n",
    "                       GradientBoostingClassifier(random_state = random_state, max_features = \"auto\")]\n",
    "InsertAbbreviations = [\"LOG\", \"DT\", \"RF\", \"GB\"]\n",
    "InsertprettyNames   = [\"Logistic regression\", \"Decision Tree\", \"Random Forest\", \"Gradient Boost\"]"
   ]
  },
  {
   "cell_type": "code",
   "execution_count": 10,
   "metadata": {},
   "outputs": [
    {
     "data": {
      "text/markdown": [
       "# Methods for finding optimal hyperparameters\n",
       "\n",
       "### Cross-validation\n",
       "\n",
       "Cross-validation is a technique to evaluate predictive models by partitioning the original sample into a training set to train the model, and a test set to evaluate it. It is crucial that we avoid at all cost to fit anything to the test data, since this will introduce bias in the model and might reduce the generalization potential of a model.\n",
       "\n",
       "### k-fold cross-validation\n",
       "\n",
       "In k-fold cross-validation, the sample is partioned into k equal sized subsamples. Of the k samples, a single sample is used as validation set while the remaining k-1 samples are used as training data. The process is then repeated k-times, such that each of the k-th subsample is used as validation set exactly one time. Therefore, all observations are used for both training and validation, and each observation is used for validation exactly once. The k results from the folds can then be averaged to produce an estimate.\n",
       "\n",
       "### Stratified k-fold cross-validation\n",
       "\n",
       "In stratified k-fold cross validation, the fold that is selected contains roughly the same proportions of existing class labels.\n",
       "\n",
       "### n-repeated stratified k-fold cross-validation\n",
       "\n",
       "In n-repeated stratified k-fold cross-validation, the stratified k-fold cross-validation is repeated n times, which yields n random partitions of the original sample. The n results can be averaged to produce a single estimation.\n",
       "\n",
       "## Sample size\n",
       "To not discrimate a class, we make sure that each class is equally represented in the subsamples. Underneath shows a brief overview of the different methods involved to deal with this challenge.\n",
       "\n",
       "### Random oversampling of minority class\n",
       "\n",
       "Random oversampling can be achived by randomly duplicating examples from the minority class and adding them to the training dataset.\n",
       "\n",
       "The approach can be effective to algorithms that are vulnerable to a skewed dsitribution, however, it can also affect algorithms to overfit the minority class.\n",
       "\n",
       "### Random Undersampling of majority class\n",
       "\n",
       "Random undersampling involves randomly selecting examples from the majority class to delete from the training dataset.\n",
       "\n",
       "This can prove problematic, since the loss of data can make the decision boundary between minority and majority instances harder to learn. Additionally, there is a chance that the model might loose valuable information.\n",
       "\n",
       "### Both oversampling and undersampling\n",
       "\n",
       "A third option might be to combine the two of them.\n",
       "\n",
       "\n",
       "# Optimal hyperparameters search\n",
       "\n",
       "In this section we will find the optimal parameters used for the various algorithms. We will use imblearn's Pipeline to provide the option of implementing sampling such as SMOTE and RandomUnderSampler. The advantage of using imblearn instead of sklearn, is that sklearn's pipeline will fit the samplers to the validation data as well, while imblearn only fit the resamplers to the training data. We store the best estimators and use them again under this section.\n",
       "\n",
       "It is possible to have a large search over a wide amount of properties, but that is indeed extremely cpu-demanding. Therefore, we restrict ourself to the standard choice of some properties, but include a search for properties that can reduce the variance.\n",
       "\n",
       "## Standardscaler and principal component analysis\n",
       "Since we will scale the data, it is neccessary to combine the target and training data and scale it together. We fit the standardscaler to the training data, and then transform the test data with the same scaling as we fitted from the training data. Thereafter, we will apply a principal component analysis to potentially reduce the dimensions of the data.\n"
      ],
      "text/plain": [
       "<IPython.core.display.Markdown object>"
      ]
     },
     "metadata": {},
     "output_type": "display_data"
    },
    {
     "data": {
      "text/html": [
       "\n",
       "        <script>\n",
       "            function code_toggle_13978494358961409658() {\n",
       "                $('div.cell.code_cell.rendered.selected').find('div.input').toggle();\n",
       "            }\n",
       "\n",
       "            \n",
       "        </script>\n",
       "\n",
       "        <a href=\"javascript:code_toggle_13978494358961409658()\">Toggle show/hide</a>\n",
       "    "
      ],
      "text/plain": [
       "<IPython.core.display.HTML object>"
      ]
     },
     "execution_count": 10,
     "metadata": {},
     "output_type": "execute_result"
    }
   ],
   "source": [
    "from IPython.display import display, Markdown\n",
    "\n",
    "with open(Path.cwd().parent.parent.parent / \"src\" / \"notebookcodesnippets\" / \"supervised\" / \"optimalparameters.md\", 'r') as fh:\n",
    "    content = fh.read()\n",
    "\n",
    "display(Markdown(content))\n",
    "hide_toggle()"
   ]
  },
  {
   "cell_type": "code",
   "execution_count": 11,
   "metadata": {},
   "outputs": [],
   "source": [
    "# Optional to include any sampling method. Default is none. \n",
    "includeSampleMethods = [\"\"]#, \"under\", \"over\", \"both\"]"
   ]
  },
  {
   "cell_type": "code",
   "execution_count": 12,
   "metadata": {},
   "outputs": [],
   "source": [
    "numberRuns   = 5\n",
    "numberSplits = 5\n",
    "\n",
    "rskfold = RepeatedStratifiedKFold(n_splits=numberSplits, n_repeats=numberRuns, random_state=random_state)"
   ]
  },
  {
   "cell_type": "code",
   "execution_count": 13,
   "metadata": {
    "scrolled": false
   },
   "outputs": [
    {
     "name": "stderr",
     "output_type": "stream",
     "text": [
      "\r",
      "0it [00:00, ?it/s]"
     ]
    },
    {
     "name": "stdout",
     "output_type": "stream",
     "text": [
      "Finding best params for: LOG \n",
      "Fitting 25 folds for each of 1232 candidates, totalling 30800 fits\n"
     ]
    },
    {
     "name": "stderr",
     "output_type": "stream",
     "text": [
      "\r",
      "1it [11:50, 710.84s/it]"
     ]
    },
    {
     "name": "stdout",
     "output_type": "stream",
     "text": [
      "Pipeline(steps=[('scale', StandardScaler()), ('pca', PCA(n_components=61)),\n",
      "                ('model',\n",
      "                 LogisticRegression(C=0.021544346900318832, max_iter=400,\n",
      "                                    random_state=1))])\n",
      "Finding best params for: DT \n",
      "Fitting 25 folds for each of 616 candidates, totalling 15400 fits\n"
     ]
    },
    {
     "name": "stderr",
     "output_type": "stream",
     "text": [
      "\r",
      "2it [17:05, 478.03s/it]"
     ]
    },
    {
     "name": "stdout",
     "output_type": "stream",
     "text": [
      "Pipeline(steps=[('scale', StandardScaler()), ('pca', PCA(n_components=9)),\n",
      "                ('model',\n",
      "                 DecisionTreeClassifier(max_depth=6, max_features='sqrt',\n",
      "                                        random_state=1))])\n",
      "Finding best params for: RF \n",
      "Fitting 25 folds for each of 616 candidates, totalling 15400 fits\n"
     ]
    },
    {
     "name": "stderr",
     "output_type": "stream",
     "text": [
      "\r",
      "3it [30:12, 619.10s/it]"
     ]
    },
    {
     "name": "stdout",
     "output_type": "stream",
     "text": [
      "Pipeline(steps=[('scale', StandardScaler()), ('pca', PCA(n_components=27)),\n",
      "                ('model', RandomForestClassifier(max_depth=6, random_state=1))])\n",
      "Finding best params for: GB \n",
      "Fitting 25 folds for each of 616 candidates, totalling 15400 fits\n"
     ]
    },
    {
     "name": "stderr",
     "output_type": "stream",
     "text": [
      "4it [1:12:40, 1090.22s/it]"
     ]
    },
    {
     "name": "stdout",
     "output_type": "stream",
     "text": [
      "Pipeline(steps=[('scale', StandardScaler()), ('pca', PCA(n_components=13)),\n",
      "                ('model',\n",
      "                 GradientBoostingClassifier(max_depth=4, max_features='auto',\n",
      "                                            random_state=1))])\n"
     ]
    },
    {
     "name": "stderr",
     "output_type": "stream",
     "text": [
      "\n"
     ]
    }
   ],
   "source": [
    "ModelsBestParams = pd.Series({}, dtype=\"string\")\n",
    "\n",
    "Abbreviations = []\n",
    "prettyNames   = []\n",
    "Algorithms = []\n",
    "\n",
    "for i, algorithm in tqdm(enumerate(InsertAlgorithms)):\n",
    "    for method in includeSampleMethods:\n",
    "        print(\"Finding best params for: {}\".format(InsertAbbreviations[i] + \" \" + method))\n",
    "        bestEstimator, ModelsBestParams[InsertAbbreviations[i] + \" \" + method] = train_model.applyGridSearch(\n",
    "                                                                             X = trainingData.drop([\"material_id\", \"full_formula\"], axis=1), \n",
    "                                                                             y = trainingTarget.values.reshape(-1,),\n",
    "                                                                        model = algorithm, \n",
    "                                                                           cv = rskfold,\n",
    "                                                                        numPC = numberOfPrincipalComponents,\n",
    "                                                                 sampleMethod = method,\n",
    "                                                                     searchPC = True )\n",
    "        Abbreviations.append(InsertAbbreviations[i] + \" \" + method)\n",
    "        prettyNames.append(InsertAbbreviations[i] + \" \" + method)\n",
    "        Algorithms.append(bestEstimator)"
   ]
  },
  {
   "cell_type": "code",
   "execution_count": 14,
   "metadata": {},
   "outputs": [
    {
     "data": {
      "text/markdown": [
       "## Visualizing the optimal parameters for dimensionality reduction\n"
      ],
      "text/plain": [
       "<IPython.core.display.Markdown object>"
      ]
     },
     "metadata": {},
     "output_type": "display_data"
    },
    {
     "data": {
      "text/html": [
       "\n",
       "        <script>\n",
       "            function code_toggle_8715439895169925197() {\n",
       "                $('div.cell.code_cell.rendered.selected').find('div.input').toggle();\n",
       "            }\n",
       "\n",
       "            \n",
       "        </script>\n",
       "\n",
       "        <a href=\"javascript:code_toggle_8715439895169925197()\">Toggle show/hide</a>\n",
       "    "
      ],
      "text/plain": [
       "<IPython.core.display.HTML object>"
      ]
     },
     "execution_count": 14,
     "metadata": {},
     "output_type": "execute_result"
    }
   ],
   "source": [
    "from IPython.display import display, Markdown\n",
    "\n",
    "with open(Path.cwd().parent.parent.parent / \"src\" / \"notebookcodesnippets\" / \"supervised\" / \"visualoptimalparameters.md\", 'r') as fh:\n",
    "    content = fh.read()\n",
    "\n",
    "display(Markdown(content))\n",
    "hide_toggle()"
   ]
  },
  {
   "cell_type": "code",
   "execution_count": 40,
   "metadata": {
    "scrolled": false
   },
   "outputs": [
    {
     "data": {
      "text/html": [
       "<div>\n",
       "<style scoped>\n",
       "    .dataframe tbody tr th:only-of-type {\n",
       "        vertical-align: middle;\n",
       "    }\n",
       "\n",
       "    .dataframe tbody tr th {\n",
       "        vertical-align: top;\n",
       "    }\n",
       "\n",
       "    .dataframe thead th {\n",
       "        text-align: right;\n",
       "    }\n",
       "</style>\n",
       "<table border=\"1\" class=\"dataframe\">\n",
       "  <thead>\n",
       "    <tr style=\"text-align: right;\">\n",
       "      <th></th>\n",
       "      <th></th>\n",
       "      <th>mean_test_accuracy</th>\n",
       "      <th>mean_test_precision</th>\n",
       "      <th>mean_test_recall</th>\n",
       "      <th>mean_test_f1</th>\n",
       "    </tr>\n",
       "    <tr>\n",
       "      <th>param_pca__n_components</th>\n",
       "      <th></th>\n",
       "      <th></th>\n",
       "      <th></th>\n",
       "      <th></th>\n",
       "      <th></th>\n",
       "    </tr>\n",
       "  </thead>\n",
       "  <tbody>\n",
       "    <tr>\n",
       "      <th>61</th>\n",
       "      <th>294</th>\n",
       "      <td>0.989335</td>\n",
       "      <td>0.96983</td>\n",
       "      <td>0.99357</td>\n",
       "      <td>0.981198</td>\n",
       "    </tr>\n",
       "  </tbody>\n",
       "</table>\n",
       "</div>"
      ],
      "text/plain": [
       "                             mean_test_accuracy  mean_test_precision  \\\n",
       "param_pca__n_components                                                \n",
       "61                      294            0.989335              0.96983   \n",
       "\n",
       "                             mean_test_recall  mean_test_f1  \n",
       "param_pca__n_components                                      \n",
       "61                      294           0.99357      0.981198  "
      ]
     },
     "metadata": {},
     "output_type": "display_data"
    },
    {
     "data": {
      "text/html": [
       "<div>\n",
       "<style scoped>\n",
       "    .dataframe tbody tr th:only-of-type {\n",
       "        vertical-align: middle;\n",
       "    }\n",
       "\n",
       "    .dataframe tbody tr th {\n",
       "        vertical-align: top;\n",
       "    }\n",
       "\n",
       "    .dataframe thead th {\n",
       "        text-align: right;\n",
       "    }\n",
       "</style>\n",
       "<table border=\"1\" class=\"dataframe\">\n",
       "  <thead>\n",
       "    <tr style=\"text-align: right;\">\n",
       "      <th></th>\n",
       "      <th></th>\n",
       "      <th>std_test_accuracy</th>\n",
       "      <th>std_test_precision</th>\n",
       "      <th>std_test_recall</th>\n",
       "      <th>std_test_f1</th>\n",
       "    </tr>\n",
       "    <tr>\n",
       "      <th>param_pca__n_components</th>\n",
       "      <th></th>\n",
       "      <th></th>\n",
       "      <th></th>\n",
       "      <th></th>\n",
       "      <th></th>\n",
       "    </tr>\n",
       "  </thead>\n",
       "  <tbody>\n",
       "    <tr>\n",
       "      <th>61</th>\n",
       "      <th>294</th>\n",
       "      <td>0.011006</td>\n",
       "      <td>0.031495</td>\n",
       "      <td>0.015645</td>\n",
       "      <td>0.017883</td>\n",
       "    </tr>\n",
       "  </tbody>\n",
       "</table>\n",
       "</div>"
      ],
      "text/plain": [
       "                             std_test_accuracy  std_test_precision  \\\n",
       "param_pca__n_components                                              \n",
       "61                      294           0.011006            0.031495   \n",
       "\n",
       "                             std_test_recall  std_test_f1  \n",
       "param_pca__n_components                                    \n",
       "61                      294         0.015645     0.017883  "
      ]
     },
     "metadata": {},
     "output_type": "display_data"
    },
    {
     "data": {
      "image/png": "[encoded data removed]",
      "text/plain": [
       "<Figure size 409.606x409.606 with 1 Axes>"
      ]
     },
     "metadata": {
      "needs_background": "light"
     },
     "output_type": "display_data"
    },
    {
     "data": {
      "text/html": [
       "<div>\n",
       "<style scoped>\n",
       "    .dataframe tbody tr th:only-of-type {\n",
       "        vertical-align: middle;\n",
       "    }\n",
       "\n",
       "    .dataframe tbody tr th {\n",
       "        vertical-align: top;\n",
       "    }\n",
       "\n",
       "    .dataframe thead th {\n",
       "        text-align: right;\n",
       "    }\n",
       "</style>\n",
       "<table border=\"1\" class=\"dataframe\">\n",
       "  <thead>\n",
       "    <tr style=\"text-align: right;\">\n",
       "      <th></th>\n",
       "      <th></th>\n",
       "      <th>mean_test_accuracy</th>\n",
       "      <th>mean_test_precision</th>\n",
       "      <th>mean_test_recall</th>\n",
       "      <th>mean_test_f1</th>\n",
       "    </tr>\n",
       "    <tr>\n",
       "      <th>param_pca__n_components</th>\n",
       "      <th></th>\n",
       "      <th></th>\n",
       "      <th></th>\n",
       "      <th></th>\n",
       "      <th></th>\n",
       "    </tr>\n",
       "  </thead>\n",
       "  <tbody>\n",
       "    <tr>\n",
       "      <th>9</th>\n",
       "      <th>444</th>\n",
       "      <td>0.964355</td>\n",
       "      <td>0.952596</td>\n",
       "      <td>0.95155</td>\n",
       "      <td>0.951329</td>\n",
       "    </tr>\n",
       "  </tbody>\n",
       "</table>\n",
       "</div>"
      ],
      "text/plain": [
       "                             mean_test_accuracy  mean_test_precision  \\\n",
       "param_pca__n_components                                                \n",
       "9                       444            0.964355             0.952596   \n",
       "\n",
       "                             mean_test_recall  mean_test_f1  \n",
       "param_pca__n_components                                      \n",
       "9                       444           0.95155      0.951329  "
      ]
     },
     "metadata": {},
     "output_type": "display_data"
    },
    {
     "data": {
      "text/html": [
       "<div>\n",
       "<style scoped>\n",
       "    .dataframe tbody tr th:only-of-type {\n",
       "        vertical-align: middle;\n",
       "    }\n",
       "\n",
       "    .dataframe tbody tr th {\n",
       "        vertical-align: top;\n",
       "    }\n",
       "\n",
       "    .dataframe thead th {\n",
       "        text-align: right;\n",
       "    }\n",
       "</style>\n",
       "<table border=\"1\" class=\"dataframe\">\n",
       "  <thead>\n",
       "    <tr style=\"text-align: right;\">\n",
       "      <th></th>\n",
       "      <th></th>\n",
       "      <th>std_test_accuracy</th>\n",
       "      <th>std_test_precision</th>\n",
       "      <th>std_test_recall</th>\n",
       "      <th>std_test_f1</th>\n",
       "    </tr>\n",
       "    <tr>\n",
       "      <th>param_pca__n_components</th>\n",
       "      <th></th>\n",
       "      <th></th>\n",
       "      <th></th>\n",
       "      <th></th>\n",
       "      <th></th>\n",
       "    </tr>\n",
       "  </thead>\n",
       "  <tbody>\n",
       "    <tr>\n",
       "      <th>9</th>\n",
       "      <th>444</th>\n",
       "      <td>0.018733</td>\n",
       "      <td>0.039725</td>\n",
       "      <td>0.032473</td>\n",
       "      <td>0.026161</td>\n",
       "    </tr>\n",
       "  </tbody>\n",
       "</table>\n",
       "</div>"
      ],
      "text/plain": [
       "                             std_test_accuracy  std_test_precision  \\\n",
       "param_pca__n_components                                              \n",
       "9                       444           0.018733            0.039725   \n",
       "\n",
       "                             std_test_recall  std_test_f1  \n",
       "param_pca__n_components                                    \n",
       "9                       444         0.032473     0.026161  "
      ]
     },
     "metadata": {},
     "output_type": "display_data"
    },
    {
     "data": {
      "image/png": "[encoded data removed]",
      "text/plain": [
       "<Figure size 409.606x409.606 with 1 Axes>"
      ]
     },
     "metadata": {
      "needs_background": "light"
     },
     "output_type": "display_data"
    },
    {
     "data": {
      "text/html": [
       "<div>\n",
       "<style scoped>\n",
       "    .dataframe tbody tr th:only-of-type {\n",
       "        vertical-align: middle;\n",
       "    }\n",
       "\n",
       "    .dataframe tbody tr th {\n",
       "        vertical-align: top;\n",
       "    }\n",
       "\n",
       "    .dataframe thead th {\n",
       "        text-align: right;\n",
       "    }\n",
       "</style>\n",
       "<table border=\"1\" class=\"dataframe\">\n",
       "  <thead>\n",
       "    <tr style=\"text-align: right;\">\n",
       "      <th></th>\n",
       "      <th></th>\n",
       "      <th>mean_test_accuracy</th>\n",
       "      <th>mean_test_precision</th>\n",
       "      <th>mean_test_recall</th>\n",
       "      <th>mean_test_f1</th>\n",
       "    </tr>\n",
       "    <tr>\n",
       "      <th>param_pca__n_components</th>\n",
       "      <th></th>\n",
       "      <th></th>\n",
       "      <th></th>\n",
       "      <th></th>\n",
       "      <th></th>\n",
       "    </tr>\n",
       "  </thead>\n",
       "  <tbody>\n",
       "    <tr>\n",
       "      <th>27</th>\n",
       "      <th>453</th>\n",
       "      <td>0.979136</td>\n",
       "      <td>0.966953</td>\n",
       "      <td>0.974168</td>\n",
       "      <td>0.97014</td>\n",
       "    </tr>\n",
       "  </tbody>\n",
       "</table>\n",
       "</div>"
      ],
      "text/plain": [
       "                             mean_test_accuracy  mean_test_precision  \\\n",
       "param_pca__n_components                                                \n",
       "27                      453            0.979136             0.966953   \n",
       "\n",
       "                             mean_test_recall  mean_test_f1  \n",
       "param_pca__n_components                                      \n",
       "27                      453          0.974168       0.97014  "
      ]
     },
     "metadata": {},
     "output_type": "display_data"
    },
    {
     "data": {
      "text/html": [
       "<div>\n",
       "<style scoped>\n",
       "    .dataframe tbody tr th:only-of-type {\n",
       "        vertical-align: middle;\n",
       "    }\n",
       "\n",
       "    .dataframe tbody tr th {\n",
       "        vertical-align: top;\n",
       "    }\n",
       "\n",
       "    .dataframe thead th {\n",
       "        text-align: right;\n",
       "    }\n",
       "</style>\n",
       "<table border=\"1\" class=\"dataframe\">\n",
       "  <thead>\n",
       "    <tr style=\"text-align: right;\">\n",
       "      <th></th>\n",
       "      <th></th>\n",
       "      <th>std_test_accuracy</th>\n",
       "      <th>std_test_precision</th>\n",
       "      <th>std_test_recall</th>\n",
       "      <th>std_test_f1</th>\n",
       "    </tr>\n",
       "    <tr>\n",
       "      <th>param_pca__n_components</th>\n",
       "      <th></th>\n",
       "      <th></th>\n",
       "      <th></th>\n",
       "      <th></th>\n",
       "      <th></th>\n",
       "    </tr>\n",
       "  </thead>\n",
       "  <tbody>\n",
       "    <tr>\n",
       "      <th>27</th>\n",
       "      <th>453</th>\n",
       "      <td>0.019244</td>\n",
       "      <td>0.032972</td>\n",
       "      <td>0.030981</td>\n",
       "      <td>0.025965</td>\n",
       "    </tr>\n",
       "  </tbody>\n",
       "</table>\n",
       "</div>"
      ],
      "text/plain": [
       "                             std_test_accuracy  std_test_precision  \\\n",
       "param_pca__n_components                                              \n",
       "27                      453           0.019244            0.032972   \n",
       "\n",
       "                             std_test_recall  std_test_f1  \n",
       "param_pca__n_components                                    \n",
       "27                      453         0.030981     0.025965  "
      ]
     },
     "metadata": {},
     "output_type": "display_data"
    },
    {
     "data": {
      "image/png": "[encoded data removed]",
      "text/plain": [
       "<Figure size 409.606x409.606 with 1 Axes>"
      ]
     },
     "metadata": {
      "needs_background": "light"
     },
     "output_type": "display_data"
    },
    {
     "data": {
      "text/html": [
       "<div>\n",
       "<style scoped>\n",
       "    .dataframe tbody tr th:only-of-type {\n",
       "        vertical-align: middle;\n",
       "    }\n",
       "\n",
       "    .dataframe tbody tr th {\n",
       "        vertical-align: top;\n",
       "    }\n",
       "\n",
       "    .dataframe thead th {\n",
       "        text-align: right;\n",
       "    }\n",
       "</style>\n",
       "<table border=\"1\" class=\"dataframe\">\n",
       "  <thead>\n",
       "    <tr style=\"text-align: right;\">\n",
       "      <th></th>\n",
       "      <th></th>\n",
       "      <th>mean_test_accuracy</th>\n",
       "      <th>mean_test_precision</th>\n",
       "      <th>mean_test_recall</th>\n",
       "      <th>mean_test_f1</th>\n",
       "    </tr>\n",
       "    <tr>\n",
       "      <th>param_pca__n_components</th>\n",
       "      <th></th>\n",
       "      <th></th>\n",
       "      <th></th>\n",
       "      <th></th>\n",
       "      <th></th>\n",
       "    </tr>\n",
       "  </thead>\n",
       "  <tbody>\n",
       "    <tr>\n",
       "      <th>13</th>\n",
       "      <th>270</th>\n",
       "      <td>0.973612</td>\n",
       "      <td>0.960112</td>\n",
       "      <td>0.9666</td>\n",
       "      <td>0.962721</td>\n",
       "    </tr>\n",
       "  </tbody>\n",
       "</table>\n",
       "</div>"
      ],
      "text/plain": [
       "                             mean_test_accuracy  mean_test_precision  \\\n",
       "param_pca__n_components                                                \n",
       "13                      270            0.973612             0.960112   \n",
       "\n",
       "                             mean_test_recall  mean_test_f1  \n",
       "param_pca__n_components                                      \n",
       "13                      270            0.9666      0.962721  "
      ]
     },
     "metadata": {},
     "output_type": "display_data"
    },
    {
     "data": {
      "text/html": [
       "<div>\n",
       "<style scoped>\n",
       "    .dataframe tbody tr th:only-of-type {\n",
       "        vertical-align: middle;\n",
       "    }\n",
       "\n",
       "    .dataframe tbody tr th {\n",
       "        vertical-align: top;\n",
       "    }\n",
       "\n",
       "    .dataframe thead th {\n",
       "        text-align: right;\n",
       "    }\n",
       "</style>\n",
       "<table border=\"1\" class=\"dataframe\">\n",
       "  <thead>\n",
       "    <tr style=\"text-align: right;\">\n",
       "      <th></th>\n",
       "      <th></th>\n",
       "      <th>std_test_accuracy</th>\n",
       "      <th>std_test_precision</th>\n",
       "      <th>std_test_recall</th>\n",
       "      <th>std_test_f1</th>\n",
       "    </tr>\n",
       "    <tr>\n",
       "      <th>param_pca__n_components</th>\n",
       "      <th></th>\n",
       "      <th></th>\n",
       "      <th></th>\n",
       "      <th></th>\n",
       "      <th></th>\n",
       "    </tr>\n",
       "  </thead>\n",
       "  <tbody>\n",
       "    <tr>\n",
       "      <th>13</th>\n",
       "      <th>270</th>\n",
       "      <td>0.016174</td>\n",
       "      <td>0.03569</td>\n",
       "      <td>0.028862</td>\n",
       "      <td>0.022462</td>\n",
       "    </tr>\n",
       "  </tbody>\n",
       "</table>\n",
       "</div>"
      ],
      "text/plain": [
       "                             std_test_accuracy  std_test_precision  \\\n",
       "param_pca__n_components                                              \n",
       "13                      270           0.016174             0.03569   \n",
       "\n",
       "                             std_test_recall  std_test_f1  \n",
       "param_pca__n_components                                    \n",
       "13                      270         0.028862     0.022462  "
      ]
     },
     "metadata": {},
     "output_type": "display_data"
    },
    {
     "data": {
      "image/png": "[encoded data removed]",
      "text/plain": [
       "<Figure size 409.606x409.606 with 1 Axes>"
      ]
     },
     "metadata": {
      "needs_background": "light"
     },
     "output_type": "display_data"
    }
   ],
   "source": [
    "visualize.principalComponentsVSscores(X = trainingData.drop([\"material_id\", \"full_formula\"], axis=1),\n",
    "                                     ModelsBestParams = ModelsBestParams,\n",
    "                                     prettyNames = prettyNames,\n",
    "                                     numPC = numberOfPrincipalComponents,\n",
    "                                     approach = InsertApproach)"
   ]
  },
  {
   "cell_type": "code",
   "execution_count": 16,
   "metadata": {},
   "outputs": [
    {
     "data": {
      "image/png": "[encoded data removed]",
      "text/plain": [
       "<Figure size 204.803x204.803 with 1 Axes>"
      ]
     },
     "metadata": {
      "needs_background": "light"
     },
     "output_type": "display_data"
    },
    {
     "data": {
      "image/png": "[encoded data removed]",
      "text/plain": [
       "<Figure size 204.803x204.803 with 1 Axes>"
      ]
     },
     "metadata": {
      "needs_background": "light"
     },
     "output_type": "display_data"
    },
    {
     "data": {
      "image/png": "[encoded data removed]",
      "text/plain": [
       "<Figure size 204.803x204.803 with 1 Axes>"
      ]
     },
     "metadata": {
      "needs_background": "light"
     },
     "output_type": "display_data"
    },
    {
     "data": {
      "image/png": "[encoded data removed]",
      "text/plain": [
       "<Figure size 204.803x204.803 with 1 Axes>"
      ]
     },
     "metadata": {
      "needs_background": "light"
     },
     "output_type": "display_data"
    }
   ],
   "source": [
    "visualize.gridsearchVSscores(X = trainingData.drop([\"material_id\", \"full_formula\"], axis=1), \n",
    "                             ModelsBestParams = ModelsBestParams,\n",
    "                            prettyNames = prettyNames,\n",
    "                            approach = InsertApproach)"
   ]
  },
  {
   "cell_type": "code",
   "execution_count": 17,
   "metadata": {},
   "outputs": [
    {
     "data": {
      "text/plain": [
       "Pipeline(steps=[('scale', StandardScaler()), ('pca', PCA(n_components=27)),\n",
       "                ('model', RandomForestClassifier(max_depth=6, random_state=1))])"
      ]
     },
     "execution_count": 17,
     "metadata": {},
     "output_type": "execute_result"
    }
   ],
   "source": [
    "from scikitplot.metrics import plot_calibration_curve\n",
    "#plot_calibration_curve()\n",
    "ModelsBestParams[\"RF \"].best_estimator_"
   ]
  },
  {
   "cell_type": "code",
   "execution_count": 18,
   "metadata": {},
   "outputs": [
    {
     "data": {
      "text/markdown": [
       "## ROC-AUC and precision recall curves\n"
      ],
      "text/plain": [
       "<IPython.core.display.Markdown object>"
      ]
     },
     "metadata": {},
     "output_type": "display_data"
    },
    {
     "data": {
      "text/html": [
       "\n",
       "        <script>\n",
       "            function code_toggle_3102470013242446892() {\n",
       "                $('div.cell.code_cell.rendered.selected').find('div.input').toggle();\n",
       "            }\n",
       "\n",
       "            \n",
       "        </script>\n",
       "\n",
       "        <a href=\"javascript:code_toggle_3102470013242446892()\">Toggle show/hide</a>\n",
       "    "
      ],
      "text/plain": [
       "<IPython.core.display.HTML object>"
      ]
     },
     "execution_count": 18,
     "metadata": {},
     "output_type": "execute_result"
    }
   ],
   "source": [
    "from IPython.display import display, Markdown\n",
    "\n",
    "with open(Path.cwd().parent.parent.parent / \"src\" / \"notebookcodesnippets\" / \"supervised\" / \"roc-auc.md\", 'r') as fh:\n",
    "    content = fh.read()\n",
    "\n",
    "display(Markdown(content))\n",
    "hide_toggle() "
   ]
  },
  {
   "cell_type": "code",
   "execution_count": 19,
   "metadata": {
    "scrolled": false
   },
   "outputs": [
    {
     "name": "stderr",
     "output_type": "stream",
     "text": [
      "1it [00:00,  7.62it/s]"
     ]
    },
    {
     "name": "stdout",
     "output_type": "stream",
     "text": [
      "Current training algorithm: LOG \n"
     ]
    },
    {
     "name": "stderr",
     "output_type": "stream",
     "text": [
      "25it [00:05,  4.18it/s]\n"
     ]
    },
    {
     "data": {
      "image/png": "[encoded data removed]",
      "text/plain": [
       "<Figure size 409.606x409.606 with 1 Axes>"
      ]
     },
     "metadata": {
      "needs_background": "light"
     },
     "output_type": "display_data"
    },
    {
     "data": {
      "image/png": "[encoded data removed]",
      "text/plain": [
       "<Figure size 409.606x409.606 with 1 Axes>"
      ]
     },
     "metadata": {
      "needs_background": "light"
     },
     "output_type": "display_data"
    },
    {
     "name": "stderr",
     "output_type": "stream",
     "text": [
      "1it [00:00,  8.72it/s]"
     ]
    },
    {
     "name": "stdout",
     "output_type": "stream",
     "text": [
      "Mean accuracy:0.98575\n",
      "Standard deviation:0.01306\n",
      "f1-score:0.98667\n",
      "Current training algorithm: DT \n"
     ]
    },
    {
     "name": "stderr",
     "output_type": "stream",
     "text": [
      "25it [00:04,  5.42it/s]\n"
     ]
    },
    {
     "data": {
      "image/png": "[encoded data removed]",
      "text/plain": [
       "<Figure size 409.606x409.606 with 1 Axes>"
      ]
     },
     "metadata": {
      "needs_background": "light"
     },
     "output_type": "display_data"
    },
    {
     "data": {
      "image/png": "[encoded data removed]",
      "text/plain": [
       "<Figure size 409.606x409.606 with 1 Axes>"
      ]
     },
     "metadata": {
      "needs_background": "light"
     },
     "output_type": "display_data"
    },
    {
     "name": "stderr",
     "output_type": "stream",
     "text": [
      "\r",
      "0it [00:00, ?it/s]"
     ]
    },
    {
     "name": "stdout",
     "output_type": "stream",
     "text": [
      "Mean accuracy:0.96912\n",
      "Standard deviation:0.01727\n",
      "f1-score:0.98630\n",
      "Current training algorithm: RF \n"
     ]
    },
    {
     "name": "stderr",
     "output_type": "stream",
     "text": [
      "25it [00:19,  1.31it/s]\n"
     ]
    },
    {
     "data": {
      "image/png": "[encoded data removed]",
      "text/plain": [
       "<Figure size 409.606x409.606 with 1 Axes>"
      ]
     },
     "metadata": {
      "needs_background": "light"
     },
     "output_type": "display_data"
    },
    {
     "data": {
      "image/png": "[encoded data removed]",
      "text/plain": [
       "<Figure size 409.606x409.606 with 1 Axes>"
      ]
     },
     "metadata": {
      "needs_background": "light"
     },
     "output_type": "display_data"
    },
    {
     "name": "stderr",
     "output_type": "stream",
     "text": [
      "\r",
      "0it [00:00, ?it/s]"
     ]
    },
    {
     "name": "stdout",
     "output_type": "stream",
     "text": [
      "Mean accuracy:0.98134\n",
      "Standard deviation:0.01761\n",
      "f1-score:0.97297\n",
      "Current training algorithm: GB \n"
     ]
    },
    {
     "name": "stderr",
     "output_type": "stream",
     "text": [
      "25it [01:39,  3.97s/it]\n"
     ]
    },
    {
     "data": {
      "image/png": "[encoded data removed]",
      "text/plain": [
       "<Figure size 409.606x409.606 with 1 Axes>"
      ]
     },
     "metadata": {
      "needs_background": "light"
     },
     "output_type": "display_data"
    },
    {
     "data": {
      "image/png": "[encoded data removed]",
      "text/plain": [
       "<Figure size 409.606x409.606 with 1 Axes>"
      ]
     },
     "metadata": {
      "needs_background": "light"
     },
     "output_type": "display_data"
    },
    {
     "name": "stdout",
     "output_type": "stream",
     "text": [
      "Mean accuracy:0.97624\n",
      "Standard deviation:0.01497\n",
      "f1-score:0.95890\n"
     ]
    }
   ],
   "source": [
    "SupervisedModels = pd.Series({}, dtype=\"string\")\n",
    "\n",
    "for i, algorithm in enumerate(Algorithms): \n",
    "    print(\"Current training algorithm: {}\".format(prettyNames[i]))\n",
    "    SupervisedModels[Abbreviations[i]] = (\n",
    "        visualize.evaluatePrecisionRecallMetrics(classifier  = algorithm, \n",
    "                                     X = trainingData.drop([\"material_id\", \"full_formula\"], axis=1), \n",
    "                                     y = trainingTarget.values.reshape(-1,),\n",
    "                                     k = numberSplits,\n",
    "                                     n = numberRuns,\n",
    "                                    cv = rskfold,\n",
    "                     featureImportance = True,\n",
    "                                 title = prettyNames[i],\n",
    "                                 numPC = numberOfPrincipalComponents,\n",
    "                              approach = InsertApproach )\n",
    "    )"
   ]
  },
  {
   "cell_type": "code",
   "execution_count": 20,
   "metadata": {},
   "outputs": [
    {
     "data": {
      "text/markdown": [
       "# Visualizing the cross-validated trained models \n"
      ],
      "text/plain": [
       "<IPython.core.display.Markdown object>"
      ]
     },
     "metadata": {},
     "output_type": "display_data"
    },
    {
     "data": {
      "text/html": [
       "\n",
       "        <script>\n",
       "            function code_toggle_1876815254904608508() {\n",
       "                $('div.cell.code_cell.rendered.selected').find('div.input').toggle();\n",
       "            }\n",
       "\n",
       "            \n",
       "        </script>\n",
       "\n",
       "        <a href=\"javascript:code_toggle_1876815254904608508()\">Toggle show/hide</a>\n",
       "    "
      ],
      "text/plain": [
       "<IPython.core.display.HTML object>"
      ]
     },
     "execution_count": 20,
     "metadata": {},
     "output_type": "execute_result"
    }
   ],
   "source": [
    "from IPython.display import display, Markdown\n",
    "\n",
    "with open(Path.cwd().parent.parent.parent / \"src\" / \"notebookcodesnippets\" / \"supervised\" / \"visualize-cv.md\", 'r') as fh:\n",
    "    content = fh.read()\n",
    "\n",
    "display(Markdown(content))\n",
    "hide_toggle()"
   ]
  },
  {
   "cell_type": "code",
   "execution_count": 21,
   "metadata": {
    "scrolled": false
   },
   "outputs": [
    {
     "data": {
      "image/png": "[encoded data removed]",
      "text/plain": [
       "<Figure size 307.205x569.589 with 3 Axes>"
      ]
     },
     "metadata": {
      "needs_background": "light"
     },
     "output_type": "display_data"
    }
   ],
   "source": [
    "visualize.plot_accuracy(SupervisedModels, prettyNames,                                       \n",
    "                     prettyNames = prettyNames,\n",
    "                           numPC = numberOfPrincipalComponents,\n",
    "                        approach = InsertApproach)"
   ]
  },
  {
   "cell_type": "code",
   "execution_count": 22,
   "metadata": {},
   "outputs": [
    {
     "data": {
      "text/markdown": [
       "## Visualizing relevant features\n",
       "\n",
       "Which features are the most important in predicting to give a label $0$ or $1$?\n"
      ],
      "text/plain": [
       "<IPython.core.display.Markdown object>"
      ]
     },
     "metadata": {},
     "output_type": "display_data"
    },
    {
     "data": {
      "text/html": [
       "\n",
       "        <script>\n",
       "            function code_toggle_3802300725573881233() {\n",
       "                $('div.cell.code_cell.rendered.selected').find('div.input').toggle();\n",
       "            }\n",
       "\n",
       "            \n",
       "        </script>\n",
       "\n",
       "        <a href=\"javascript:code_toggle_3802300725573881233()\">Toggle show/hide</a>\n",
       "    "
      ],
      "text/plain": [
       "<IPython.core.display.HTML object>"
      ]
     },
     "execution_count": 22,
     "metadata": {},
     "output_type": "execute_result"
    }
   ],
   "source": [
    "from IPython.display import display, Markdown\n",
    "\n",
    "with open(Path.cwd().parent.parent.parent / \"src\" / \"notebookcodesnippets\" / \"supervised\" / \"visualizerelevant.md\", 'r') as fh:\n",
    "    content = fh.read()\n",
    "\n",
    "display(Markdown(content))\n",
    "hide_toggle()"
   ]
  },
  {
   "cell_type": "code",
   "execution_count": 38,
   "metadata": {
    "scrolled": false
   },
   "outputs": [
    {
     "data": {
      "application/vnd.plotly.v1+json": {
       "config": {
        "plotlyServerURL": "https://plot.ly"
       },
       "data": [
        {
         "error_y": {
          "array": [
           0.33368146328318843,
           0.016954762557520046,
           0.017599627884578264,
           0.06920277598341201,
           0.06137928241026507,
           0.04458536943605216,
           0.05082318944402518,
           0.05090282924665827,
           0.06055458109917218,
           0.06704539995922326,
           0.04636058869584895,
           0.05866799402700657,
           0.04311148903688722,
           0.05751237209193657,
           0.03980689255315325,
           0.030579759654177644,
           0.04225282732074668,
           0.05470038132439447,
           0.05359998360904949,
           0.0435820887446757,
           0.04601070521809014,
           0.05604329388399032,
           0.04836929318186352,
           0.03330147463511269,
           0.03573897977700135,
           0.03462190742783605,
           0.039706215095266256,
           0.03174975967737027,
           0.03836939716396783,
           0.0473896695743103,
           0.038600728564263866,
           0.050786164068330204,
           0.04985444627735646,
           0.04306805600940691,
           0.054425494929095077,
           0.04412252403748741,
           0.03554457510868961,
           0.050777021473888725,
           0.05405815854377353,
           0.05844357685624927,
           0.045799977448657075,
           0.06233979089253758,
           0.04402997891587598,
           0.05464755901776738,
           0.045451893450189934,
           0.03603299100868811,
           0.05529203083885224,
           0.04720633364001788,
           0.03600996777646778,
           0.044140889227826184,
           0.04725115866675399,
           0.03724753951164331,
           0.03884184351766836,
           0.0395943806404434,
           0.03264381277034853,
           0.041618363317904195,
           0.04658073567202635,
           0.04390926536030297,
           0.045374383247211804,
           0.030187339688998192,
           0.04462399457379466
          ],
          "type": "data"
         },
         "name": "LOG ",
         "type": "bar",
         "x": [
          1,
          2,
          3,
          4,
          5,
          6,
          7,
          8,
          9,
          10,
          11,
          12,
          13,
          14,
          15,
          16,
          17,
          18,
          19,
          20,
          21,
          22,
          23,
          24,
          25,
          26,
          27,
          28,
          29,
          30,
          31,
          32,
          33,
          34,
          35,
          36,
          37,
          38,
          39,
          40,
          41,
          42,
          43,
          44,
          45,
          46,
          47,
          48,
          49,
          50,
          51,
          52,
          53,
          54,
          55,
          56,
          57,
          58,
          59,
          60,
          61,
          62,
          63,
          64,
          65,
          66,
          67,
          68,
          69,
          70,
          71,
          72,
          73,
          74,
          75,
          76,
          77,
          78,
          79,
          80,
          81,
          82,
          83,
          84,
          85,
          86,
          87,
          88,
          89,
          90,
          91,
          92,
          93,
          94,
          95,
          96,
          97,
          98,
          99,
          100,
          101,
          102,
          103,
          104,
          105,
          106,
          107,
          108,
          109,
          110,
          111,
          112,
          113,
          114,
          115,
          116,
          117,
          118,
          119,
          120,
          121,
          122,
          123,
          124,
          125,
          126,
          127,
          128,
          129,
          130,
          131,
          132,
          133,
          134,
          135,
          136,
          137,
          138,
          139,
          140,
          141,
          142,
          143,
          144,
          145,
          146,
          147,
          148,
          149,
          150,
          151,
          152,
          153,
          154,
          155,
          156,
          157,
          158,
          159,
          160,
          161,
          162,
          163,
          164,
          165,
          166,
          167,
          168,
          169,
          170,
          171,
          172,
          173,
          174,
          175,
          176
         ],
         "xaxis": "x",
         "y": [
          -0.25346114112639473,
          0.09011714869764471,
          0.08639474830498559,
          -0.07729686849054532,
          0.030055441352605385,
          0.06444478259231987,
          0.000906315046421985,
          0.05270249645152788,
          -0.06424845684071233,
          -0.11100743084811338,
          0.014818321053974366,
          -0.0005538365908138615,
          0.10074164881447879,
          0.03787663085584549,
          0.018101424436277457,
          0.0012314833535251415,
          0.004710139699969067,
          -0.009613296923976507,
          -0.006877052315027232,
          -0.014845975590296736,
          -0.02708616794214053,
          -0.019530202925921142,
          -0.016712446631082272,
          -0.01612968140127904,
          -0.01185056291575984,
          -0.006472013709786521,
          0.013139618758505193,
          0.006279377680245707,
          0.0037827904790063093,
          -0.003717260808365835,
          0.02077193370119146,
          -0.007794699799427341,
          -0.0007930016639618692,
          -0.004501666036745325,
          0.0061835443224198365,
          -0.0038320623306000736,
          0.01280140126826792,
          0.0075339049763397045,
          0.0007476169018668663,
          0.0014458243548991618,
          0.014009297645320445,
          0.003908008423665581,
          -0.0042896765566592275,
          -0.003279876860520364,
          -0.010035998533465937,
          -0.004920585365221666,
          -0.01235615204810693,
          -0.014859750446334297,
          0.004377705889829219,
          -0.01049767045563568,
          0.00019077024890938962,
          0.004923807174413686,
          0.01436578966953505,
          0.018303394798268757,
          -0.013442079127678546,
          -0.0017443712594399166,
          -0.001373867043818909,
          0.020808298963412172,
          -0.011417121659288662,
          0.009472437710098827,
          -0.003700433726752197
         ],
         "yaxis": "y"
        },
        {
         "error_y": {
          "array": [
           0.021929328730299697,
           0.021344110238707716,
           0.0061062084784145095,
           0.013630314452418838,
           0.017734614606190004,
           0.015611614948945167,
           0.005320665016741241,
           0.011864221849099656,
           0.015387193577388866
          ],
          "type": "data"
         },
         "name": "DT ",
         "type": "bar",
         "x": [
          1,
          2,
          3,
          4,
          5,
          6,
          7,
          8,
          9,
          10,
          11,
          12,
          13,
          14,
          15,
          16,
          17,
          18,
          19,
          20,
          21,
          22,
          23,
          24,
          25,
          26,
          27,
          28,
          29,
          30,
          31,
          32,
          33,
          34,
          35,
          36,
          37,
          38,
          39,
          40,
          41,
          42,
          43,
          44,
          45,
          46,
          47,
          48,
          49,
          50,
          51,
          52,
          53,
          54,
          55,
          56,
          57,
          58,
          59,
          60,
          61,
          62,
          63,
          64,
          65,
          66,
          67,
          68,
          69,
          70,
          71,
          72,
          73,
          74,
          75,
          76,
          77,
          78,
          79,
          80,
          81,
          82,
          83,
          84,
          85,
          86,
          87,
          88,
          89,
          90,
          91,
          92,
          93,
          94,
          95,
          96,
          97,
          98,
          99,
          100,
          101,
          102,
          103,
          104,
          105,
          106,
          107,
          108,
          109,
          110,
          111,
          112,
          113,
          114,
          115,
          116,
          117,
          118,
          119,
          120,
          121,
          122,
          123,
          124,
          125,
          126,
          127,
          128,
          129,
          130,
          131,
          132,
          133,
          134,
          135,
          136,
          137,
          138,
          139,
          140,
          141,
          142,
          143,
          144,
          145,
          146,
          147,
          148,
          149,
          150,
          151,
          152,
          153,
          154,
          155,
          156,
          157,
          158,
          159,
          160,
          161,
          162,
          163,
          164,
          165,
          166,
          167,
          168,
          169,
          170,
          171,
          172,
          173,
          174,
          175,
          176
         ],
         "xaxis": "x2",
         "y": [
          0.7316195475277714,
          0.18113983898671995,
          0.003454027283740341,
          0.02087053108192076,
          0.01557393654675818,
          0.023772491165149377,
          0.0030039226137690035,
          0.009234254034562654,
          0.011331450759608331
         ],
         "yaxis": "y2"
        },
        {
         "error_y": {
          "array": [
           0.01680760243977373,
           0.013815948281131972,
           0.009027000700300769,
           0.0132856778505533,
           0.013356883834943002,
           0.013015309514257894,
           0.01117650916897904,
           0.014980930766791382,
           0.011076106153325254,
           0.011436550986134062,
           0.009112261895097815,
           0.008155980930975762,
           0.010614463785290608,
           0.006295951366737243,
           0.0037429028035288617,
           0.007882021941050506,
           0.005713969342328693,
           0.0049294702282325345,
           0.004170236315235995,
           0.002353036567505021,
           0.005725584470399861,
           0.004267732403266929,
           0.005016611454902579,
           0.004835579679905936,
           0.004545760277122271,
           0.003956653193934543,
           0.0035341525588490023
          ],
          "type": "data"
         },
         "name": "RF ",
         "type": "bar",
         "x": [
          1,
          2,
          3,
          4,
          5,
          6,
          7,
          8,
          9,
          10,
          11,
          12,
          13,
          14,
          15,
          16,
          17,
          18,
          19,
          20,
          21,
          22,
          23,
          24,
          25,
          26,
          27,
          28,
          29,
          30,
          31,
          32,
          33,
          34,
          35,
          36,
          37,
          38,
          39,
          40,
          41,
          42,
          43,
          44,
          45,
          46,
          47,
          48,
          49,
          50,
          51,
          52,
          53,
          54,
          55,
          56,
          57,
          58,
          59,
          60,
          61,
          62,
          63,
          64,
          65,
          66,
          67,
          68,
          69,
          70,
          71,
          72,
          73,
          74,
          75,
          76,
          77,
          78,
          79,
          80,
          81,
          82,
          83,
          84,
          85,
          86,
          87,
          88,
          89,
          90,
          91,
          92,
          93,
          94,
          95,
          96,
          97,
          98,
          99,
          100,
          101,
          102,
          103,
          104,
          105,
          106,
          107,
          108,
          109,
          110,
          111,
          112,
          113,
          114,
          115,
          116,
          117,
          118,
          119,
          120,
          121,
          122,
          123,
          124,
          125,
          126,
          127,
          128,
          129,
          130,
          131,
          132,
          133,
          134,
          135,
          136,
          137,
          138,
          139,
          140,
          141,
          142,
          143,
          144,
          145,
          146,
          147,
          148,
          149,
          150,
          151,
          152,
          153,
          154,
          155,
          156,
          157,
          158,
          159,
          160,
          161,
          162,
          163,
          164,
          165,
          166,
          167,
          168,
          169,
          170,
          171,
          172,
          173,
          174,
          175,
          176
         ],
         "xaxis": "x3",
         "y": [
          0.4059411022645935,
          0.09808750275798875,
          0.048776110224330996,
          0.030769514602003195,
          0.02252849127935218,
          0.03769124065218076,
          0.040863972968278324,
          0.045335673528206465,
          0.025868504784836342,
          0.03411991038898562,
          0.02256696006895472,
          0.0197271830187896,
          0.02942605993129471,
          0.010073208203025506,
          0.007680125762960637,
          0.0117158860207811,
          0.011974742484751243,
          0.011054437594098155,
          0.009106114018343735,
          0.006141075217683971,
          0.009098480504355551,
          0.00806030968345798,
          0.00895307579346868,
          0.011919601757425409,
          0.01212059593331542,
          0.01089043487307541,
          0.009509685683461989
         ],
         "yaxis": "y3"
        },
        {
         "error_y": {
          "array": [
           0.01622264784147947,
           0.012677199176869556,
           0.002718704853749334,
           0.010034200517221491,
           0.028100110032459994,
           0.02460063459989204,
           0.007834509686598812,
           0.005333521262009879,
           0.008011290664225318,
           0.010783214004289261,
           0.007601336005613172,
           0.0034883615533335805,
           0.015357839550583128
          ],
          "type": "data"
         },
         "name": "GB ",
         "type": "bar",
         "x": [
          1,
          2,
          3,
          4,
          5,
          6,
          7,
          8,
          9,
          10,
          11,
          12,
          13,
          14,
          15,
          16,
          17,
          18,
          19,
          20,
          21,
          22,
          23,
          24,
          25,
          26,
          27,
          28,
          29,
          30,
          31,
          32,
          33,
          34,
          35,
          36,
          37,
          38,
          39,
          40,
          41,
          42,
          43,
          44,
          45,
          46,
          47,
          48,
          49,
          50,
          51,
          52,
          53,
          54,
          55,
          56,
          57,
          58,
          59,
          60,
          61,
          62,
          63,
          64,
          65,
          66,
          67,
          68,
          69,
          70,
          71,
          72,
          73,
          74,
          75,
          76,
          77,
          78,
          79,
          80,
          81,
          82,
          83,
          84,
          85,
          86,
          87,
          88,
          89,
          90,
          91,
          92,
          93,
          94,
          95,
          96,
          97,
          98,
          99,
          100,
          101,
          102,
          103,
          104,
          105,
          106,
          107,
          108,
          109,
          110,
          111,
          112,
          113,
          114,
          115,
          116,
          117,
          118,
          119,
          120,
          121,
          122,
          123,
          124,
          125,
          126,
          127,
          128,
          129,
          130,
          131,
          132,
          133,
          134,
          135,
          136,
          137,
          138,
          139,
          140,
          141,
          142,
          143,
          144,
          145,
          146,
          147,
          148,
          149,
          150,
          151,
          152,
          153,
          154,
          155,
          156,
          157,
          158,
          159,
          160,
          161,
          162,
          163,
          164,
          165,
          166,
          167,
          168,
          169,
          170,
          171,
          172,
          173,
          174,
          175,
          176
         ],
         "xaxis": "x4",
         "y": [
          0.871178662009005,
          0.021756851184003726,
          0.002536049963906951,
          0.01927081961339837,
          0.019892227550654902,
          0.026037542469628066,
          0.006335681500672604,
          0.0031986951740627066,
          0.005401951760078037,
          0.006957716402514557,
          0.003122709716064269,
          0.0030932299465921964,
          0.01121786270941868
         ],
         "yaxis": "y4"
        }
       ],
       "layout": {
        "autosize": false,
        "barmode": "group",
        "font": {
         "color": "Black",
         "family": "Palatino",
         "size": 12
        },
        "height": 407.3235447076888,
        "margin": {
         "b": 0,
         "l": 0,
         "r": 0,
         "t": 25
        },
        "paper_bgcolor": "rgba(0, 0, 0, 0)",
        "plot_bgcolor": "rgba(0, 0, 0, 0)",
        "template": {
         "data": {
          "bar": [
           {
            "error_x": {
             "color": "#2a3f5f"
            },
            "error_y": {
             "color": "#2a3f5f"
            },
            "marker": {
             "line": {
              "color": "#E5ECF6",
              "width": 0.5
             }
            },
            "type": "bar"
           }
          ],
          "barpolar": [
           {
            "marker": {
             "line": {
              "color": "#E5ECF6",
              "width": 0.5
             }
            },
            "type": "barpolar"
           }
          ],
          "carpet": [
           {
            "aaxis": {
             "endlinecolor": "#2a3f5f",
             "gridcolor": "white",
             "linecolor": "white",
             "minorgridcolor": "white",
             "startlinecolor": "#2a3f5f"
            },
            "baxis": {
             "endlinecolor": "#2a3f5f",
             "gridcolor": "white",
             "linecolor": "white",
             "minorgridcolor": "white",
             "startlinecolor": "#2a3f5f"
            },
            "type": "carpet"
           }
          ],
          "choropleth": [
           {
            "colorbar": {
             "outlinewidth": 0,
             "ticks": ""
            },
            "type": "choropleth"
           }
          ],
          "contour": [
           {
            "colorbar": {
             "outlinewidth": 0,
             "ticks": ""
            },
            "colorscale": [
             [
              0,
              "#0d0887"
             ],
             [
              0.1111111111111111,
              "#46039f"
             ],
             [
              0.2222222222222222,
              "#7201a8"
             ],
             [
              0.3333333333333333,
              "#9c179e"
             ],
             [
              0.4444444444444444,
              "#bd3786"
             ],
             [
              0.5555555555555556,
              "#d8576b"
             ],
             [
              0.6666666666666666,
              "#ed7953"
             ],
             [
              0.7777777777777778,
              "#fb9f3a"
             ],
             [
              0.8888888888888888,
              "#fdca26"
             ],
             [
              1,
              "#f0f921"
             ]
            ],
            "type": "contour"
           }
          ],
          "contourcarpet": [
           {
            "colorbar": {
             "outlinewidth": 0,
             "ticks": ""
            },
            "type": "contourcarpet"
           }
          ],
          "heatmap": [
           {
            "colorbar": {
             "outlinewidth": 0,
             "ticks": ""
            },
            "colorscale": [
             [
              0,
              "#0d0887"
             ],
             [
              0.1111111111111111,
              "#46039f"
             ],
             [
              0.2222222222222222,
              "#7201a8"
             ],
             [
              0.3333333333333333,
              "#9c179e"
             ],
             [
              0.4444444444444444,
              "#bd3786"
             ],
             [
              0.5555555555555556,
              "#d8576b"
             ],
             [
              0.6666666666666666,
              "#ed7953"
             ],
             [
              0.7777777777777778,
              "#fb9f3a"
             ],
             [
              0.8888888888888888,
              "#fdca26"
             ],
             [
              1,
              "#f0f921"
             ]
            ],
            "type": "heatmap"
           }
          ],
          "heatmapgl": [
           {
            "colorbar": {
             "outlinewidth": 0,
             "ticks": ""
            },
            "colorscale": [
             [
              0,
              "#0d0887"
             ],
             [
              0.1111111111111111,
              "#46039f"
             ],
             [
              0.2222222222222222,
              "#7201a8"
             ],
             [
              0.3333333333333333,
              "#9c179e"
             ],
             [
              0.4444444444444444,
              "#bd3786"
             ],
             [
              0.5555555555555556,
              "#d8576b"
             ],
             [
              0.6666666666666666,
              "#ed7953"
             ],
             [
              0.7777777777777778,
              "#fb9f3a"
             ],
             [
              0.8888888888888888,
              "#fdca26"
             ],
             [
              1,
              "#f0f921"
             ]
            ],
            "type": "heatmapgl"
           }
          ],
          "histogram": [
           {
            "marker": {
             "colorbar": {
              "outlinewidth": 0,
              "ticks": ""
             }
            },
            "type": "histogram"
           }
          ],
          "histogram2d": [
           {
            "colorbar": {
             "outlinewidth": 0,
             "ticks": ""
            },
            "colorscale": [
             [
              0,
              "#0d0887"
             ],
             [
              0.1111111111111111,
              "#46039f"
             ],
             [
              0.2222222222222222,
              "#7201a8"
             ],
             [
              0.3333333333333333,
              "#9c179e"
             ],
             [
              0.4444444444444444,
              "#bd3786"
             ],
             [
              0.5555555555555556,
              "#d8576b"
             ],
             [
              0.6666666666666666,
              "#ed7953"
             ],
             [
              0.7777777777777778,
              "#fb9f3a"
             ],
             [
              0.8888888888888888,
              "#fdca26"
             ],
             [
              1,
              "#f0f921"
             ]
            ],
            "type": "histogram2d"
           }
          ],
          "histogram2dcontour": [
           {
            "colorbar": {
             "outlinewidth": 0,
             "ticks": ""
            },
            "colorscale": [
             [
              0,
              "#0d0887"
             ],
             [
              0.1111111111111111,
              "#46039f"
             ],
             [
              0.2222222222222222,
              "#7201a8"
             ],
             [
              0.3333333333333333,
              "#9c179e"
             ],
             [
              0.4444444444444444,
              "#bd3786"
             ],
             [
              0.5555555555555556,
              "#d8576b"
             ],
             [
              0.6666666666666666,
              "#ed7953"
             ],
             [
              0.7777777777777778,
              "#fb9f3a"
             ],
             [
              0.8888888888888888,
              "#fdca26"
             ],
             [
              1,
              "#f0f921"
             ]
            ],
            "type": "histogram2dcontour"
           }
          ],
          "mesh3d": [
           {
            "colorbar": {
             "outlinewidth": 0,
             "ticks": ""
            },
            "type": "mesh3d"
           }
          ],
          "parcoords": [
           {
            "line": {
             "colorbar": {
              "outlinewidth": 0,
              "ticks": ""
             }
            },
            "type": "parcoords"
           }
          ],
          "pie": [
           {
            "automargin": true,
            "type": "pie"
           }
          ],
          "scatter": [
           {
            "marker": {
             "colorbar": {
              "outlinewidth": 0,
              "ticks": ""
             }
            },
            "type": "scatter"
           }
          ],
          "scatter3d": [
           {
            "line": {
             "colorbar": {
              "outlinewidth": 0,
              "ticks": ""
             }
            },
            "marker": {
             "colorbar": {
              "outlinewidth": 0,
              "ticks": ""
             }
            },
            "type": "scatter3d"
           }
          ],
          "scattercarpet": [
           {
            "marker": {
             "colorbar": {
              "outlinewidth": 0,
              "ticks": ""
             }
            },
            "type": "scattercarpet"
           }
          ],
          "scattergeo": [
           {
            "marker": {
             "colorbar": {
              "outlinewidth": 0,
              "ticks": ""
             }
            },
            "type": "scattergeo"
           }
          ],
          "scattergl": [
           {
            "marker": {
             "colorbar": {
              "outlinewidth": 0,
              "ticks": ""
             }
            },
            "type": "scattergl"
           }
          ],
          "scattermapbox": [
           {
            "marker": {
             "colorbar": {
              "outlinewidth": 0,
              "ticks": ""
             }
            },
            "type": "scattermapbox"
           }
          ],
          "scatterpolar": [
           {
            "marker": {
             "colorbar": {
              "outlinewidth": 0,
              "ticks": ""
             }
            },
            "type": "scatterpolar"
           }
          ],
          "scatterpolargl": [
           {
            "marker": {
             "colorbar": {
              "outlinewidth": 0,
              "ticks": ""
             }
            },
            "type": "scatterpolargl"
           }
          ],
          "scatterternary": [
           {
            "marker": {
             "colorbar": {
              "outlinewidth": 0,
              "ticks": ""
             }
            },
            "type": "scatterternary"
           }
          ],
          "surface": [
           {
            "colorbar": {
             "outlinewidth": 0,
             "ticks": ""
            },
            "colorscale": [
             [
              0,
              "#0d0887"
             ],
             [
              0.1111111111111111,
              "#46039f"
             ],
             [
              0.2222222222222222,
              "#7201a8"
             ],
             [
              0.3333333333333333,
              "#9c179e"
             ],
             [
              0.4444444444444444,
              "#bd3786"
             ],
             [
              0.5555555555555556,
              "#d8576b"
             ],
             [
              0.6666666666666666,
              "#ed7953"
             ],
             [
              0.7777777777777778,
              "#fb9f3a"
             ],
             [
              0.8888888888888888,
              "#fdca26"
             ],
             [
              1,
              "#f0f921"
             ]
            ],
            "type": "surface"
           }
          ],
          "table": [
           {
            "cells": {
             "fill": {
              "color": "#EBF0F8"
             },
             "line": {
              "color": "white"
             }
            },
            "header": {
             "fill": {
              "color": "#C8D4E3"
             },
             "line": {
              "color": "white"
             }
            },
            "type": "table"
           }
          ]
         },
         "layout": {
          "annotationdefaults": {
           "arrowcolor": "#2a3f5f",
           "arrowhead": 0,
           "arrowwidth": 1
          },
          "autotypenumbers": "strict",
          "coloraxis": {
           "colorbar": {
            "outlinewidth": 0,
            "ticks": ""
           }
          },
          "colorscale": {
           "diverging": [
            [
             0,
             "#8e0152"
            ],
            [
             0.1,
             "#c51b7d"
            ],
            [
             0.2,
             "#de77ae"
            ],
            [
             0.3,
             "#f1b6da"
            ],
            [
             0.4,
             "#fde0ef"
            ],
            [
             0.5,
             "#f7f7f7"
            ],
            [
             0.6,
             "#e6f5d0"
            ],
            [
             0.7,
             "#b8e186"
            ],
            [
             0.8,
             "#7fbc41"
            ],
            [
             0.9,
             "#4d9221"
            ],
            [
             1,
             "#276419"
            ]
           ],
           "sequential": [
            [
             0,
             "#0d0887"
            ],
            [
             0.1111111111111111,
             "#46039f"
            ],
            [
             0.2222222222222222,
             "#7201a8"
            ],
            [
             0.3333333333333333,
             "#9c179e"
            ],
            [
             0.4444444444444444,
             "#bd3786"
            ],
            [
             0.5555555555555556,
             "#d8576b"
            ],
            [
             0.6666666666666666,
             "#ed7953"
            ],
            [
             0.7777777777777778,
             "#fb9f3a"
            ],
            [
             0.8888888888888888,
             "#fdca26"
            ],
            [
             1,
             "#f0f921"
            ]
           ],
           "sequentialminus": [
            [
             0,
             "#0d0887"
            ],
            [
             0.1111111111111111,
             "#46039f"
            ],
            [
             0.2222222222222222,
             "#7201a8"
            ],
            [
             0.3333333333333333,
             "#9c179e"
            ],
            [
             0.4444444444444444,
             "#bd3786"
            ],
            [
             0.5555555555555556,
             "#d8576b"
            ],
            [
             0.6666666666666666,
             "#ed7953"
            ],
            [
             0.7777777777777778,
             "#fb9f3a"
            ],
            [
             0.8888888888888888,
             "#fdca26"
            ],
            [
             1,
             "#f0f921"
            ]
           ]
          },
          "colorway": [
           "#636efa",
           "#EF553B",
           "#00cc96",
           "#ab63fa",
           "#FFA15A",
           "#19d3f3",
           "#FF6692",
           "#B6E880",
           "#FF97FF",
           "#FECB52"
          ],
          "font": {
           "color": "#2a3f5f"
          },
          "geo": {
           "bgcolor": "white",
           "lakecolor": "white",
           "landcolor": "#E5ECF6",
           "showlakes": true,
           "showland": true,
           "subunitcolor": "white"
          },
          "hoverlabel": {
           "align": "left"
          },
          "hovermode": "closest",
          "mapbox": {
           "style": "light"
          },
          "paper_bgcolor": "white",
          "plot_bgcolor": "#E5ECF6",
          "polar": {
           "angularaxis": {
            "gridcolor": "white",
            "linecolor": "white",
            "ticks": ""
           },
           "bgcolor": "#E5ECF6",
           "radialaxis": {
            "gridcolor": "white",
            "linecolor": "white",
            "ticks": ""
           }
          },
          "scene": {
           "xaxis": {
            "backgroundcolor": "#E5ECF6",
            "gridcolor": "white",
            "gridwidth": 2,
            "linecolor": "white",
            "showbackground": true,
            "ticks": "",
            "zerolinecolor": "white"
           },
           "yaxis": {
            "backgroundcolor": "#E5ECF6",
            "gridcolor": "white",
            "gridwidth": 2,
            "linecolor": "white",
            "showbackground": true,
            "ticks": "",
            "zerolinecolor": "white"
           },
           "zaxis": {
            "backgroundcolor": "#E5ECF6",
            "gridcolor": "white",
            "gridwidth": 2,
            "linecolor": "white",
            "showbackground": true,
            "ticks": "",
            "zerolinecolor": "white"
           }
          },
          "shapedefaults": {
           "line": {
            "color": "#2a3f5f"
           }
          },
          "ternary": {
           "aaxis": {
            "gridcolor": "white",
            "linecolor": "white",
            "ticks": ""
           },
           "baxis": {
            "gridcolor": "white",
            "linecolor": "white",
            "ticks": ""
           },
           "bgcolor": "#E5ECF6",
           "caxis": {
            "gridcolor": "white",
            "linecolor": "white",
            "ticks": ""
           }
          },
          "title": {
           "x": 0.05
          },
          "xaxis": {
           "automargin": true,
           "gridcolor": "white",
           "linecolor": "white",
           "ticks": "",
           "title": {
            "standoff": 15
           },
           "zerolinecolor": "white",
           "zerolinewidth": 2
          },
          "yaxis": {
           "automargin": true,
           "gridcolor": "white",
           "linecolor": "white",
           "ticks": "",
           "title": {
            "standoff": 15
           },
           "zerolinecolor": "white",
           "zerolinewidth": 2
          }
         }
        },
        "title": {
         "text": "Mean feature importance for 25 iterations"
        },
        "width": 548.1896533333334,
        "xaxis": {
         "anchor": "y",
         "domain": [
          0,
          1
         ],
         "matches": "x4",
         "showticklabels": false,
         "title": {
          "text": "Number principal component"
         }
        },
        "xaxis2": {
         "anchor": "y2",
         "domain": [
          0,
          1
         ],
         "matches": "x4",
         "showticklabels": false
        },
        "xaxis3": {
         "anchor": "y3",
         "domain": [
          0,
          1
         ],
         "matches": "x4",
         "showticklabels": false
        },
        "xaxis4": {
         "anchor": "y4",
         "domain": [
          0,
          1
         ]
        },
        "yaxis": {
         "anchor": "x",
         "domain": [
          0.80625,
          1
         ]
        },
        "yaxis2": {
         "anchor": "x2",
         "domain": [
          0.5375,
          0.73125
         ]
        },
        "yaxis3": {
         "anchor": "x3",
         "domain": [
          0.26875,
          0.4625
         ]
        },
        "yaxis4": {
         "anchor": "x4",
         "domain": [
          0,
          0.19375
         ]
        }
       }
      },
      "text/html": [
       "<div>                            <div id=\"60da4d37-05c4-4dfd-81e9-a9c29718448b\" class=\"plotly-graph-div\" style=\"height:407.3235447076888px; width:548.1896533333334px;\"></div>            <script type=\"text/javascript\">                require([\"plotly\"], function(Plotly) {                    window.PLOTLYENV=window.PLOTLYENV || {};                                    if (document.getElementById(\"60da4d37-05c4-4dfd-81e9-a9c29718448b\")) {                    Plotly.newPlot(                        \"60da4d37-05c4-4dfd-81e9-a9c29718448b\",                        [{\"error_y\": {\"array\": [0.33368146328318843, 0.016954762557520046, 0.017599627884578264, 0.06920277598341201, 0.06137928241026507, 0.04458536943605216, 0.05082318944402518, 0.05090282924665827, 0.06055458109917218, 0.06704539995922326, 0.04636058869584895, 0.05866799402700657, 0.04311148903688722, 0.05751237209193657, 0.03980689255315325, 0.030579759654177644, 0.04225282732074668, 0.05470038132439447, 0.05359998360904949, 0.0435820887446757, 0.04601070521809014, 0.05604329388399032, 0.04836929318186352, 0.03330147463511269, 0.03573897977700135, 0.03462190742783605, 0.039706215095266256, 0.03174975967737027, 0.03836939716396783, 0.0473896695743103, 0.038600728564263866, 0.050786164068330204, 0.04985444627735646, 0.04306805600940691, 0.054425494929095077, 0.04412252403748741, 0.03554457510868961, 0.050777021473888725, 0.05405815854377353, 0.05844357685624927, 0.045799977448657075, 0.06233979089253758, 0.04402997891587598, 0.05464755901776738, 0.045451893450189934, 0.03603299100868811, 0.05529203083885224, 0.04720633364001788, 0.03600996777646778, 0.044140889227826184, 0.04725115866675399, 0.03724753951164331, 0.03884184351766836, 0.0395943806404434, 0.03264381277034853, 0.041618363317904195, 0.04658073567202635, 0.04390926536030297, 0.045374383247211804, 0.030187339688998192, 0.04462399457379466], \"type\": \"data\"}, \"name\": \"LOG \", \"type\": \"bar\", \"x\": [1, 2, 3, 4, 5, 6, 7, 8, 9, 10, 11, 12, 13, 14, 15, 16, 17, 18, 19, 20, 21, 22, 23, 24, 25, 26, 27, 28, 29, 30, 31, 32, 33, 34, 35, 36, 37, 38, 39, 40, 41, 42, 43, 44, 45, 46, 47, 48, 49, 50, 51, 52, 53, 54, 55, 56, 57, 58, 59, 60, 61, 62, 63, 64, 65, 66, 67, 68, 69, 70, 71, 72, 73, 74, 75, 76, 77, 78, 79, 80, 81, 82, 83, 84, 85, 86, 87, 88, 89, 90, 91, 92, 93, 94, 95, 96, 97, 98, 99, 100, 101, 102, 103, 104, 105, 106, 107, 108, 109, 110, 111, 112, 113, 114, 115, 116, 117, 118, 119, 120, 121, 122, 123, 124, 125, 126, 127, 128, 129, 130, 131, 132, 133, 134, 135, 136, 137, 138, 139, 140, 141, 142, 143, 144, 145, 146, 147, 148, 149, 150, 151, 152, 153, 154, 155, 156, 157, 158, 159, 160, 161, 162, 163, 164, 165, 166, 167, 168, 169, 170, 171, 172, 173, 174, 175, 176], \"xaxis\": \"x\", \"y\": [-0.25346114112639473, 0.09011714869764471, 0.08639474830498559, -0.07729686849054532, 0.030055441352605385, 0.06444478259231987, 0.000906315046421985, 0.05270249645152788, -0.06424845684071233, -0.11100743084811338, 0.014818321053974366, -0.0005538365908138615, 0.10074164881447879, 0.03787663085584549, 0.018101424436277457, 0.0012314833535251415, 0.004710139699969067, -0.009613296923976507, -0.006877052315027232, -0.014845975590296736, -0.02708616794214053, -0.019530202925921142, -0.016712446631082272, -0.01612968140127904, -0.01185056291575984, -0.006472013709786521, 0.013139618758505193, 0.006279377680245707, 0.0037827904790063093, -0.003717260808365835, 0.02077193370119146, -0.007794699799427341, -0.0007930016639618692, -0.004501666036745325, 0.0061835443224198365, -0.0038320623306000736, 0.01280140126826792, 0.0075339049763397045, 0.0007476169018668663, 0.0014458243548991618, 0.014009297645320445, 0.003908008423665581, -0.0042896765566592275, -0.003279876860520364, -0.010035998533465937, -0.004920585365221666, -0.01235615204810693, -0.014859750446334297, 0.004377705889829219, -0.01049767045563568, 0.00019077024890938962, 0.004923807174413686, 0.01436578966953505, 0.018303394798268757, -0.013442079127678546, -0.0017443712594399166, -0.001373867043818909, 0.020808298963412172, -0.011417121659288662, 0.009472437710098827, -0.003700433726752197], \"yaxis\": \"y\"}, {\"error_y\": {\"array\": [0.021929328730299697, 0.021344110238707716, 0.0061062084784145095, 0.013630314452418838, 0.017734614606190004, 0.015611614948945167, 0.005320665016741241, 0.011864221849099656, 0.015387193577388866], \"type\": \"data\"}, \"name\": \"DT \", \"type\": \"bar\", \"x\": [1, 2, 3, 4, 5, 6, 7, 8, 9, 10, 11, 12, 13, 14, 15, 16, 17, 18, 19, 20, 21, 22, 23, 24, 25, 26, 27, 28, 29, 30, 31, 32, 33, 34, 35, 36, 37, 38, 39, 40, 41, 42, 43, 44, 45, 46, 47, 48, 49, 50, 51, 52, 53, 54, 55, 56, 57, 58, 59, 60, 61, 62, 63, 64, 65, 66, 67, 68, 69, 70, 71, 72, 73, 74, 75, 76, 77, 78, 79, 80, 81, 82, 83, 84, 85, 86, 87, 88, 89, 90, 91, 92, 93, 94, 95, 96, 97, 98, 99, 100, 101, 102, 103, 104, 105, 106, 107, 108, 109, 110, 111, 112, 113, 114, 115, 116, 117, 118, 119, 120, 121, 122, 123, 124, 125, 126, 127, 128, 129, 130, 131, 132, 133, 134, 135, 136, 137, 138, 139, 140, 141, 142, 143, 144, 145, 146, 147, 148, 149, 150, 151, 152, 153, 154, 155, 156, 157, 158, 159, 160, 161, 162, 163, 164, 165, 166, 167, 168, 169, 170, 171, 172, 173, 174, 175, 176], \"xaxis\": \"x2\", \"y\": [0.7316195475277714, 0.18113983898671995, 0.003454027283740341, 0.02087053108192076, 0.01557393654675818, 0.023772491165149377, 0.0030039226137690035, 0.009234254034562654, 0.011331450759608331], \"yaxis\": \"y2\"}, {\"error_y\": {\"array\": [0.01680760243977373, 0.013815948281131972, 0.009027000700300769, 0.0132856778505533, 0.013356883834943002, 0.013015309514257894, 0.01117650916897904, 0.014980930766791382, 0.011076106153325254, 0.011436550986134062, 0.009112261895097815, 0.008155980930975762, 0.010614463785290608, 0.006295951366737243, 0.0037429028035288617, 0.007882021941050506, 0.005713969342328693, 0.0049294702282325345, 0.004170236315235995, 0.002353036567505021, 0.005725584470399861, 0.004267732403266929, 0.005016611454902579, 0.004835579679905936, 0.004545760277122271, 0.003956653193934543, 0.0035341525588490023], \"type\": \"data\"}, \"name\": \"RF \", \"type\": \"bar\", \"x\": [1, 2, 3, 4, 5, 6, 7, 8, 9, 10, 11, 12, 13, 14, 15, 16, 17, 18, 19, 20, 21, 22, 23, 24, 25, 26, 27, 28, 29, 30, 31, 32, 33, 34, 35, 36, 37, 38, 39, 40, 41, 42, 43, 44, 45, 46, 47, 48, 49, 50, 51, 52, 53, 54, 55, 56, 57, 58, 59, 60, 61, 62, 63, 64, 65, 66, 67, 68, 69, 70, 71, 72, 73, 74, 75, 76, 77, 78, 79, 80, 81, 82, 83, 84, 85, 86, 87, 88, 89, 90, 91, 92, 93, 94, 95, 96, 97, 98, 99, 100, 101, 102, 103, 104, 105, 106, 107, 108, 109, 110, 111, 112, 113, 114, 115, 116, 117, 118, 119, 120, 121, 122, 123, 124, 125, 126, 127, 128, 129, 130, 131, 132, 133, 134, 135, 136, 137, 138, 139, 140, 141, 142, 143, 144, 145, 146, 147, 148, 149, 150, 151, 152, 153, 154, 155, 156, 157, 158, 159, 160, 161, 162, 163, 164, 165, 166, 167, 168, 169, 170, 171, 172, 173, 174, 175, 176], \"xaxis\": \"x3\", \"y\": [0.4059411022645935, 0.09808750275798875, 0.048776110224330996, 0.030769514602003195, 0.02252849127935218, 0.03769124065218076, 0.040863972968278324, 0.045335673528206465, 0.025868504784836342, 0.03411991038898562, 0.02256696006895472, 0.0197271830187896, 0.02942605993129471, 0.010073208203025506, 0.007680125762960637, 0.0117158860207811, 0.011974742484751243, 0.011054437594098155, 0.009106114018343735, 0.006141075217683971, 0.009098480504355551, 0.00806030968345798, 0.00895307579346868, 0.011919601757425409, 0.01212059593331542, 0.01089043487307541, 0.009509685683461989], \"yaxis\": \"y3\"}, {\"error_y\": {\"array\": [0.01622264784147947, 0.012677199176869556, 0.002718704853749334, 0.010034200517221491, 0.028100110032459994, 0.02460063459989204, 0.007834509686598812, 0.005333521262009879, 0.008011290664225318, 0.010783214004289261, 0.007601336005613172, 0.0034883615533335805, 0.015357839550583128], \"type\": \"data\"}, \"name\": \"GB \", \"type\": \"bar\", \"x\": [1, 2, 3, 4, 5, 6, 7, 8, 9, 10, 11, 12, 13, 14, 15, 16, 17, 18, 19, 20, 21, 22, 23, 24, 25, 26, 27, 28, 29, 30, 31, 32, 33, 34, 35, 36, 37, 38, 39, 40, 41, 42, 43, 44, 45, 46, 47, 48, 49, 50, 51, 52, 53, 54, 55, 56, 57, 58, 59, 60, 61, 62, 63, 64, 65, 66, 67, 68, 69, 70, 71, 72, 73, 74, 75, 76, 77, 78, 79, 80, 81, 82, 83, 84, 85, 86, 87, 88, 89, 90, 91, 92, 93, 94, 95, 96, 97, 98, 99, 100, 101, 102, 103, 104, 105, 106, 107, 108, 109, 110, 111, 112, 113, 114, 115, 116, 117, 118, 119, 120, 121, 122, 123, 124, 125, 126, 127, 128, 129, 130, 131, 132, 133, 134, 135, 136, 137, 138, 139, 140, 141, 142, 143, 144, 145, 146, 147, 148, 149, 150, 151, 152, 153, 154, 155, 156, 157, 158, 159, 160, 161, 162, 163, 164, 165, 166, 167, 168, 169, 170, 171, 172, 173, 174, 175, 176], \"xaxis\": \"x4\", \"y\": [0.871178662009005, 0.021756851184003726, 0.002536049963906951, 0.01927081961339837, 0.019892227550654902, 0.026037542469628066, 0.006335681500672604, 0.0031986951740627066, 0.005401951760078037, 0.006957716402514557, 0.003122709716064269, 0.0030932299465921964, 0.01121786270941868], \"yaxis\": \"y4\"}],                        {\"autosize\": false, \"barmode\": \"group\", \"font\": {\"color\": \"Black\", \"family\": \"Palatino\", \"size\": 12}, \"height\": 407.3235447076888, \"margin\": {\"b\": 0, \"l\": 0, \"r\": 0, \"t\": 25}, \"paper_bgcolor\": \"rgba(0, 0, 0, 0)\", \"plot_bgcolor\": \"rgba(0, 0, 0, 0)\", \"template\": {\"data\": {\"bar\": [{\"error_x\": {\"color\": \"#2a3f5f\"}, \"error_y\": {\"color\": \"#2a3f5f\"}, \"marker\": {\"line\": {\"color\": \"#E5ECF6\", \"width\": 0.5}}, \"type\": \"bar\"}], \"barpolar\": [{\"marker\": {\"line\": {\"color\": \"#E5ECF6\", \"width\": 0.5}}, \"type\": \"barpolar\"}], \"carpet\": [{\"aaxis\": {\"endlinecolor\": \"#2a3f5f\", \"gridcolor\": \"white\", \"linecolor\": \"white\", \"minorgridcolor\": \"white\", \"startlinecolor\": \"#2a3f5f\"}, \"baxis\": {\"endlinecolor\": \"#2a3f5f\", \"gridcolor\": \"white\", \"linecolor\": \"white\", \"minorgridcolor\": \"white\", \"startlinecolor\": \"#2a3f5f\"}, \"type\": \"carpet\"}], \"choropleth\": [{\"colorbar\": {\"outlinewidth\": 0, \"ticks\": \"\"}, \"type\": \"choropleth\"}], \"contour\": [{\"colorbar\": {\"outlinewidth\": 0, \"ticks\": \"\"}, \"colorscale\": [[0.0, \"#0d0887\"], [0.1111111111111111, \"#46039f\"], [0.2222222222222222, \"#7201a8\"], [0.3333333333333333, \"#9c179e\"], [0.4444444444444444, \"#bd3786\"], [0.5555555555555556, \"#d8576b\"], [0.6666666666666666, \"#ed7953\"], [0.7777777777777778, \"#fb9f3a\"], [0.8888888888888888, \"#fdca26\"], [1.0, \"#f0f921\"]], \"type\": \"contour\"}], \"contourcarpet\": [{\"colorbar\": {\"outlinewidth\": 0, \"ticks\": \"\"}, \"type\": \"contourcarpet\"}], \"heatmap\": [{\"colorbar\": {\"outlinewidth\": 0, \"ticks\": \"\"}, \"colorscale\": [[0.0, \"#0d0887\"], [0.1111111111111111, \"#46039f\"], [0.2222222222222222, \"#7201a8\"], [0.3333333333333333, \"#9c179e\"], [0.4444444444444444, \"#bd3786\"], [0.5555555555555556, \"#d8576b\"], [0.6666666666666666, \"#ed7953\"], [0.7777777777777778, \"#fb9f3a\"], [0.8888888888888888, \"#fdca26\"], [1.0, \"#f0f921\"]], \"type\": \"heatmap\"}], \"heatmapgl\": [{\"colorbar\": {\"outlinewidth\": 0, \"ticks\": \"\"}, \"colorscale\": [[0.0, \"#0d0887\"], [0.1111111111111111, \"#46039f\"], [0.2222222222222222, \"#7201a8\"], [0.3333333333333333, \"#9c179e\"], [0.4444444444444444, \"#bd3786\"], [0.5555555555555556, \"#d8576b\"], [0.6666666666666666, \"#ed7953\"], [0.7777777777777778, \"#fb9f3a\"], [0.8888888888888888, \"#fdca26\"], [1.0, \"#f0f921\"]], \"type\": \"heatmapgl\"}], \"histogram\": [{\"marker\": {\"colorbar\": {\"outlinewidth\": 0, \"ticks\": \"\"}}, \"type\": \"histogram\"}], \"histogram2d\": [{\"colorbar\": {\"outlinewidth\": 0, \"ticks\": \"\"}, \"colorscale\": [[0.0, \"#0d0887\"], [0.1111111111111111, \"#46039f\"], [0.2222222222222222, \"#7201a8\"], [0.3333333333333333, \"#9c179e\"], [0.4444444444444444, \"#bd3786\"], [0.5555555555555556, \"#d8576b\"], [0.6666666666666666, \"#ed7953\"], [0.7777777777777778, \"#fb9f3a\"], [0.8888888888888888, \"#fdca26\"], [1.0, \"#f0f921\"]], \"type\": \"histogram2d\"}], \"histogram2dcontour\": [{\"colorbar\": {\"outlinewidth\": 0, \"ticks\": \"\"}, \"colorscale\": [[0.0, \"#0d0887\"], [0.1111111111111111, \"#46039f\"], [0.2222222222222222, \"#7201a8\"], [0.3333333333333333, \"#9c179e\"], [0.4444444444444444, \"#bd3786\"], [0.5555555555555556, \"#d8576b\"], [0.6666666666666666, \"#ed7953\"], [0.7777777777777778, \"#fb9f3a\"], [0.8888888888888888, \"#fdca26\"], [1.0, \"#f0f921\"]], \"type\": \"histogram2dcontour\"}], \"mesh3d\": [{\"colorbar\": {\"outlinewidth\": 0, \"ticks\": \"\"}, \"type\": \"mesh3d\"}], \"parcoords\": [{\"line\": {\"colorbar\": {\"outlinewidth\": 0, \"ticks\": \"\"}}, \"type\": \"parcoords\"}], \"pie\": [{\"automargin\": true, \"type\": \"pie\"}], \"scatter\": [{\"marker\": {\"colorbar\": {\"outlinewidth\": 0, \"ticks\": \"\"}}, \"type\": \"scatter\"}], \"scatter3d\": [{\"line\": {\"colorbar\": {\"outlinewidth\": 0, \"ticks\": \"\"}}, \"marker\": {\"colorbar\": {\"outlinewidth\": 0, \"ticks\": \"\"}}, \"type\": \"scatter3d\"}], \"scattercarpet\": [{\"marker\": {\"colorbar\": {\"outlinewidth\": 0, \"ticks\": \"\"}}, \"type\": \"scattercarpet\"}], \"scattergeo\": [{\"marker\": {\"colorbar\": {\"outlinewidth\": 0, \"ticks\": \"\"}}, \"type\": \"scattergeo\"}], \"scattergl\": [{\"marker\": {\"colorbar\": {\"outlinewidth\": 0, \"ticks\": \"\"}}, \"type\": \"scattergl\"}], \"scattermapbox\": [{\"marker\": {\"colorbar\": {\"outlinewidth\": 0, \"ticks\": \"\"}}, \"type\": \"scattermapbox\"}], \"scatterpolar\": [{\"marker\": {\"colorbar\": {\"outlinewidth\": 0, \"ticks\": \"\"}}, \"type\": \"scatterpolar\"}], \"scatterpolargl\": [{\"marker\": {\"colorbar\": {\"outlinewidth\": 0, \"ticks\": \"\"}}, \"type\": \"scatterpolargl\"}], \"scatterternary\": [{\"marker\": {\"colorbar\": {\"outlinewidth\": 0, \"ticks\": \"\"}}, \"type\": \"scatterternary\"}], \"surface\": [{\"colorbar\": {\"outlinewidth\": 0, \"ticks\": \"\"}, \"colorscale\": [[0.0, \"#0d0887\"], [0.1111111111111111, \"#46039f\"], [0.2222222222222222, \"#7201a8\"], [0.3333333333333333, \"#9c179e\"], [0.4444444444444444, \"#bd3786\"], [0.5555555555555556, \"#d8576b\"], [0.6666666666666666, \"#ed7953\"], [0.7777777777777778, \"#fb9f3a\"], [0.8888888888888888, \"#fdca26\"], [1.0, \"#f0f921\"]], \"type\": \"surface\"}], \"table\": [{\"cells\": {\"fill\": {\"color\": \"#EBF0F8\"}, \"line\": {\"color\": \"white\"}}, \"header\": {\"fill\": {\"color\": \"#C8D4E3\"}, \"line\": {\"color\": \"white\"}}, \"type\": \"table\"}]}, \"layout\": {\"annotationdefaults\": {\"arrowcolor\": \"#2a3f5f\", \"arrowhead\": 0, \"arrowwidth\": 1}, \"autotypenumbers\": \"strict\", \"coloraxis\": {\"colorbar\": {\"outlinewidth\": 0, \"ticks\": \"\"}}, \"colorscale\": {\"diverging\": [[0, \"#8e0152\"], [0.1, \"#c51b7d\"], [0.2, \"#de77ae\"], [0.3, \"#f1b6da\"], [0.4, \"#fde0ef\"], [0.5, \"#f7f7f7\"], [0.6, \"#e6f5d0\"], [0.7, \"#b8e186\"], [0.8, \"#7fbc41\"], [0.9, \"#4d9221\"], [1, \"#276419\"]], \"sequential\": [[0.0, \"#0d0887\"], [0.1111111111111111, \"#46039f\"], [0.2222222222222222, \"#7201a8\"], [0.3333333333333333, \"#9c179e\"], [0.4444444444444444, \"#bd3786\"], [0.5555555555555556, \"#d8576b\"], [0.6666666666666666, \"#ed7953\"], [0.7777777777777778, \"#fb9f3a\"], [0.8888888888888888, \"#fdca26\"], [1.0, \"#f0f921\"]], \"sequentialminus\": [[0.0, \"#0d0887\"], [0.1111111111111111, \"#46039f\"], [0.2222222222222222, \"#7201a8\"], [0.3333333333333333, \"#9c179e\"], [0.4444444444444444, \"#bd3786\"], [0.5555555555555556, \"#d8576b\"], [0.6666666666666666, \"#ed7953\"], [0.7777777777777778, \"#fb9f3a\"], [0.8888888888888888, \"#fdca26\"], [1.0, \"#f0f921\"]]}, \"colorway\": [\"#636efa\", \"#EF553B\", \"#00cc96\", \"#ab63fa\", \"#FFA15A\", \"#19d3f3\", \"#FF6692\", \"#B6E880\", \"#FF97FF\", \"#FECB52\"], \"font\": {\"color\": \"#2a3f5f\"}, \"geo\": {\"bgcolor\": \"white\", \"lakecolor\": \"white\", \"landcolor\": \"#E5ECF6\", \"showlakes\": true, \"showland\": true, \"subunitcolor\": \"white\"}, \"hoverlabel\": {\"align\": \"left\"}, \"hovermode\": \"closest\", \"mapbox\": {\"style\": \"light\"}, \"paper_bgcolor\": \"white\", \"plot_bgcolor\": \"#E5ECF6\", \"polar\": {\"angularaxis\": {\"gridcolor\": \"white\", \"linecolor\": \"white\", \"ticks\": \"\"}, \"bgcolor\": \"#E5ECF6\", \"radialaxis\": {\"gridcolor\": \"white\", \"linecolor\": \"white\", \"ticks\": \"\"}}, \"scene\": {\"xaxis\": {\"backgroundcolor\": \"#E5ECF6\", \"gridcolor\": \"white\", \"gridwidth\": 2, \"linecolor\": \"white\", \"showbackground\": true, \"ticks\": \"\", \"zerolinecolor\": \"white\"}, \"yaxis\": {\"backgroundcolor\": \"#E5ECF6\", \"gridcolor\": \"white\", \"gridwidth\": 2, \"linecolor\": \"white\", \"showbackground\": true, \"ticks\": \"\", \"zerolinecolor\": \"white\"}, \"zaxis\": {\"backgroundcolor\": \"#E5ECF6\", \"gridcolor\": \"white\", \"gridwidth\": 2, \"linecolor\": \"white\", \"showbackground\": true, \"ticks\": \"\", \"zerolinecolor\": \"white\"}}, \"shapedefaults\": {\"line\": {\"color\": \"#2a3f5f\"}}, \"ternary\": {\"aaxis\": {\"gridcolor\": \"white\", \"linecolor\": \"white\", \"ticks\": \"\"}, \"baxis\": {\"gridcolor\": \"white\", \"linecolor\": \"white\", \"ticks\": \"\"}, \"bgcolor\": \"#E5ECF6\", \"caxis\": {\"gridcolor\": \"white\", \"linecolor\": \"white\", \"ticks\": \"\"}}, \"title\": {\"x\": 0.05}, \"xaxis\": {\"automargin\": true, \"gridcolor\": \"white\", \"linecolor\": \"white\", \"ticks\": \"\", \"title\": {\"standoff\": 15}, \"zerolinecolor\": \"white\", \"zerolinewidth\": 2}, \"yaxis\": {\"automargin\": true, \"gridcolor\": \"white\", \"linecolor\": \"white\", \"ticks\": \"\", \"title\": {\"standoff\": 15}, \"zerolinecolor\": \"white\", \"zerolinewidth\": 2}}}, \"title\": {\"text\": \"Mean feature importance for 25 iterations\"}, \"width\": 548.1896533333334, \"xaxis\": {\"anchor\": \"y\", \"domain\": [0.0, 1.0], \"matches\": \"x4\", \"showticklabels\": false, \"title\": {\"text\": \"Number principal component\"}}, \"xaxis2\": {\"anchor\": \"y2\", \"domain\": [0.0, 1.0], \"matches\": \"x4\", \"showticklabels\": false}, \"xaxis3\": {\"anchor\": \"y3\", \"domain\": [0.0, 1.0], \"matches\": \"x4\", \"showticklabels\": false}, \"xaxis4\": {\"anchor\": \"y4\", \"domain\": [0.0, 1.0]}, \"yaxis\": {\"anchor\": \"x\", \"domain\": [0.80625, 1.0]}, \"yaxis2\": {\"anchor\": \"x2\", \"domain\": [0.5375, 0.73125]}, \"yaxis3\": {\"anchor\": \"x3\", \"domain\": [0.26875, 0.4625]}, \"yaxis4\": {\"anchor\": \"x4\", \"domain\": [0.0, 0.19375]}},                        {\"responsive\": true}                    ).then(function(){\n",
       "                            \n",
       "var gd = document.getElementById('60da4d37-05c4-4dfd-81e9-a9c29718448b');\n",
       "var x = new MutationObserver(function (mutations, observer) {{\n",
       "        var display = window.getComputedStyle(gd).display;\n",
       "        if (!display || display === 'none') {{\n",
       "            console.log([gd, 'removed!']);\n",
       "            Plotly.purge(gd);\n",
       "            observer.disconnect();\n",
       "        }}\n",
       "}});\n",
       "\n",
       "// Listen for the removal of the full notebook cells\n",
       "var notebookContainer = gd.closest('#notebook-container');\n",
       "if (notebookContainer) {{\n",
       "    x.observe(notebookContainer, {childList: true});\n",
       "}}\n",
       "\n",
       "// Listen for the clearing of the current output cell\n",
       "var outputEl = gd.closest('.output');\n",
       "if (outputEl) {{\n",
       "    x.observe(outputEl, {childList: true});\n",
       "}}\n",
       "\n",
       "                        })                };                });            </script>        </div>"
      ]
     },
     "metadata": {},
     "output_type": "display_data"
    },
    {
     "data": {
      "image/png": "[encoded data removed]",
      "text/plain": [
       "<Figure size 409.606x614.409 with 5 Axes>"
      ]
     },
     "metadata": {
      "needs_background": "light"
     },
     "output_type": "display_data"
    },
    {
     "name": "stdout",
     "output_type": "stream",
     "text": [
      "['LOG ', 'DT ', 'RF ', 'GB ']\n"
     ]
    },
    {
     "name": "stderr",
     "output_type": "stream",
     "text": [
      "/home/oliver/Dokumenter/masterprosjekt/predicting-solid-state-qubit-candidates/src/visualization/visualize.py:539: UserWarning:\n",
      "\n",
      "Matplotlib is currently using module://ipykernel.pylab.backend_inline, which is a non-GUI backend, so cannot show the figure.\n",
      "\n",
      "/home/oliver/Dokumenter/masterprosjekt/predicting-solid-state-qubit-candidates/src/visualization/visualize.py:552: UserWarning:\n",
      "\n",
      "Matplotlib is currently using module://ipykernel.pylab.backend_inline, which is a non-GUI backend, so cannot show the figure.\n",
      "\n"
     ]
    },
    {
     "data": {
      "image/png": "[encoded data removed]",
      "text/plain": [
       "<Figure size 409.606x409.606 with 1 Axes>"
      ]
     },
     "metadata": {
      "needs_background": "light"
     },
     "output_type": "display_data"
    },
    {
     "data": {
      "image/png": "[encoded data removed]",
      "text/plain": [
       "<Figure size 409.606x409.606 with 1 Axes>"
      ]
     },
     "metadata": {
      "needs_background": "light"
     },
     "output_type": "display_data"
    },
    {
     "data": {
      "image/png": "[encoded data removed]",
      "text/plain": [
       "<Figure size 409.606x409.606 with 1 Axes>"
      ]
     },
     "metadata": {
      "needs_background": "light"
     },
     "output_type": "display_data"
    },
    {
     "data": {
      "image/png": "[encoded data removed]",
      "text/plain": [
       "<Figure size 409.606x409.606 with 1 Axes>"
      ]
     },
     "metadata": {
      "needs_background": "light"
     },
     "output_type": "display_data"
    },
    {
     "data": {
      "image/png": "[encoded data removed]",
      "text/plain": [
       "<Figure size 409.606x409.606 with 1 Axes>"
      ]
     },
     "metadata": {
      "needs_background": "light"
     },
     "output_type": "display_data"
    }
   ],
   "source": [
    "visualize.plot_important_features(SupervisedModels,\n",
    "                               X = trainingData.drop([\"material_id\", \"full_formula\"], axis=1),\n",
    "                               k = numberSplits, \n",
    "                               n = numberRuns,                                      \n",
    "                     prettyNames = prettyNames,\n",
    "                           numPC = numberOfPrincipalComponents,\n",
    "                        approach = InsertApproach,\n",
    "                         numFeat = 15)"
   ]
  },
  {
   "cell_type": "code",
   "execution_count": null,
   "metadata": {},
   "outputs": [],
   "source": []
  },
  {
   "cell_type": "code",
   "execution_count": 24,
   "metadata": {},
   "outputs": [
    {
     "data": {
      "text/markdown": [
       "## Falsely predicted entries\n"
      ],
      "text/plain": [
       "<IPython.core.display.Markdown object>"
      ]
     },
     "metadata": {},
     "output_type": "display_data"
    },
    {
     "data": {
      "text/html": [
       "\n",
       "        <script>\n",
       "            function code_toggle_4277167731138258422() {\n",
       "                $('div.cell.code_cell.rendered.selected').find('div.input').toggle();\n",
       "            }\n",
       "\n",
       "            \n",
       "        </script>\n",
       "\n",
       "        <a href=\"javascript:code_toggle_4277167731138258422()\">Toggle show/hide</a>\n",
       "    "
      ],
      "text/plain": [
       "<IPython.core.display.HTML object>"
      ]
     },
     "execution_count": 24,
     "metadata": {},
     "output_type": "execute_result"
    }
   ],
   "source": [
    "from IPython.display import display, Markdown\n",
    "\n",
    "with open(Path.cwd().parent.parent.parent / \"src\" / \"notebookcodesnippets\" / \"supervised\" / \"falselypredicted.md\", 'r') as fh:\n",
    "    content = fh.read()\n",
    "\n",
    "display(Markdown(content))\n",
    "hide_toggle()"
   ]
  },
  {
   "cell_type": "code",
   "execution_count": 25,
   "metadata": {
    "scrolled": false
   },
   "outputs": [
    {
     "data": {
      "application/vnd.plotly.v1+json": {
       "config": {
        "plotlyServerURL": "https://plot.ly"
       },
       "data": [
        {
         "name": "LOG ",
         "type": "bar",
         "x": [
          "Co4O4",
          "Mn2Cu4Ge2S8",
          "Na1Cl1",
          "Na1Cl1",
          "C8",
          "Tc2B2",
          "Li4Mn2Sn2S8",
          "Hg1H3I1O6",
          "Li8Mn4Sn4S16"
         ],
         "y": [
          25,
          2,
          2,
          5,
          25,
          5,
          1,
          5,
          1
         ]
        },
        {
         "name": "DT ",
         "type": "bar",
         "x": [
          "Mn4Si4N8",
          "K12Mn2Te8",
          "U6F18",
          "Co4O4",
          "Mn2Cu4Ge2S8",
          "Na1Cl1",
          "Na1Cl1",
          "Ni2P2H32N2O20",
          "Os4O4F20",
          "C8",
          "In1O1F2",
          "Tc2B2",
          "I10N4",
          "Li4Mn2Sn2S8",
          "Ca2Co1O3",
          "Hg1H3I1O6",
          "Li8Mn2Sn4Se14",
          "K20Mn12O24",
          "Li8Mn4Sn4S16",
          "Nb24I44",
          "Ni2P2H30O22"
         ],
         "y": [
          1,
          2,
          1,
          6,
          6,
          1,
          3,
          4,
          1,
          5,
          1,
          4,
          1,
          1,
          1,
          5,
          3,
          1,
          1,
          1,
          1
         ]
        },
        {
         "name": "RF ",
         "type": "bar",
         "x": [
          "Co4O4",
          "Mn2Cu4Ge2S8",
          "Na1Cl1",
          "Na1Cl1",
          "C8",
          "Tc2B2",
          "Li4Mn2Sn2S8",
          "Hg1H3I1O6",
          "Li8Mn4Sn4S16"
         ],
         "y": [
          5,
          3,
          2,
          5,
          5,
          5,
          1,
          4,
          1
         ]
        },
        {
         "name": "GB ",
         "type": "bar",
         "x": [
          "U6F18",
          "Co4O4",
          "Mn2Cu4Ge2S8",
          "Na1Cl1",
          "Na1Cl1",
          "Ni2P2H32N2O20",
          "C8",
          "Tc2B2",
          "Mg3Si2O9",
          "Li4Mn2Sn2S8",
          "Hg1H3I1O6",
          "Li8Mn2Sn4Se14",
          "Li8Mn4Sn4S16",
          "Nb24I44"
         ],
         "y": [
          1,
          5,
          3,
          1,
          5,
          1,
          5,
          3,
          1,
          1,
          5,
          5,
          1,
          2
         ]
        }
       ],
       "layout": {
        "autosize": false,
        "barmode": "group",
        "font": {
         "color": "Black",
         "family": "Palatino",
         "size": 12
        },
        "height": 407.3235447076888,
        "template": {
         "data": {
          "bar": [
           {
            "error_x": {
             "color": "#2a3f5f"
            },
            "error_y": {
             "color": "#2a3f5f"
            },
            "marker": {
             "line": {
              "color": "#E5ECF6",
              "width": 0.5
             }
            },
            "type": "bar"
           }
          ],
          "barpolar": [
           {
            "marker": {
             "line": {
              "color": "#E5ECF6",
              "width": 0.5
             }
            },
            "type": "barpolar"
           }
          ],
          "carpet": [
           {
            "aaxis": {
             "endlinecolor": "#2a3f5f",
             "gridcolor": "white",
             "linecolor": "white",
             "minorgridcolor": "white",
             "startlinecolor": "#2a3f5f"
            },
            "baxis": {
             "endlinecolor": "#2a3f5f",
             "gridcolor": "white",
             "linecolor": "white",
             "minorgridcolor": "white",
             "startlinecolor": "#2a3f5f"
            },
            "type": "carpet"
           }
          ],
          "choropleth": [
           {
            "colorbar": {
             "outlinewidth": 0,
             "ticks": ""
            },
            "type": "choropleth"
           }
          ],
          "contour": [
           {
            "colorbar": {
             "outlinewidth": 0,
             "ticks": ""
            },
            "colorscale": [
             [
              0,
              "#0d0887"
             ],
             [
              0.1111111111111111,
              "#46039f"
             ],
             [
              0.2222222222222222,
              "#7201a8"
             ],
             [
              0.3333333333333333,
              "#9c179e"
             ],
             [
              0.4444444444444444,
              "#bd3786"
             ],
             [
              0.5555555555555556,
              "#d8576b"
             ],
             [
              0.6666666666666666,
              "#ed7953"
             ],
             [
              0.7777777777777778,
              "#fb9f3a"
             ],
             [
              0.8888888888888888,
              "#fdca26"
             ],
             [
              1,
              "#f0f921"
             ]
            ],
            "type": "contour"
           }
          ],
          "contourcarpet": [
           {
            "colorbar": {
             "outlinewidth": 0,
             "ticks": ""
            },
            "type": "contourcarpet"
           }
          ],
          "heatmap": [
           {
            "colorbar": {
             "outlinewidth": 0,
             "ticks": ""
            },
            "colorscale": [
             [
              0,
              "#0d0887"
             ],
             [
              0.1111111111111111,
              "#46039f"
             ],
             [
              0.2222222222222222,
              "#7201a8"
             ],
             [
              0.3333333333333333,
              "#9c179e"
             ],
             [
              0.4444444444444444,
              "#bd3786"
             ],
             [
              0.5555555555555556,
              "#d8576b"
             ],
             [
              0.6666666666666666,
              "#ed7953"
             ],
             [
              0.7777777777777778,
              "#fb9f3a"
             ],
             [
              0.8888888888888888,
              "#fdca26"
             ],
             [
              1,
              "#f0f921"
             ]
            ],
            "type": "heatmap"
           }
          ],
          "heatmapgl": [
           {
            "colorbar": {
             "outlinewidth": 0,
             "ticks": ""
            },
            "colorscale": [
             [
              0,
              "#0d0887"
             ],
             [
              0.1111111111111111,
              "#46039f"
             ],
             [
              0.2222222222222222,
              "#7201a8"
             ],
             [
              0.3333333333333333,
              "#9c179e"
             ],
             [
              0.4444444444444444,
              "#bd3786"
             ],
             [
              0.5555555555555556,
              "#d8576b"
             ],
             [
              0.6666666666666666,
              "#ed7953"
             ],
             [
              0.7777777777777778,
              "#fb9f3a"
             ],
             [
              0.8888888888888888,
              "#fdca26"
             ],
             [
              1,
              "#f0f921"
             ]
            ],
            "type": "heatmapgl"
           }
          ],
          "histogram": [
           {
            "marker": {
             "colorbar": {
              "outlinewidth": 0,
              "ticks": ""
             }
            },
            "type": "histogram"
           }
          ],
          "histogram2d": [
           {
            "colorbar": {
             "outlinewidth": 0,
             "ticks": ""
            },
            "colorscale": [
             [
              0,
              "#0d0887"
             ],
             [
              0.1111111111111111,
              "#46039f"
             ],
             [
              0.2222222222222222,
              "#7201a8"
             ],
             [
              0.3333333333333333,
              "#9c179e"
             ],
             [
              0.4444444444444444,
              "#bd3786"
             ],
             [
              0.5555555555555556,
              "#d8576b"
             ],
             [
              0.6666666666666666,
              "#ed7953"
             ],
             [
              0.7777777777777778,
              "#fb9f3a"
             ],
             [
              0.8888888888888888,
              "#fdca26"
             ],
             [
              1,
              "#f0f921"
             ]
            ],
            "type": "histogram2d"
           }
          ],
          "histogram2dcontour": [
           {
            "colorbar": {
             "outlinewidth": 0,
             "ticks": ""
            },
            "colorscale": [
             [
              0,
              "#0d0887"
             ],
             [
              0.1111111111111111,
              "#46039f"
             ],
             [
              0.2222222222222222,
              "#7201a8"
             ],
             [
              0.3333333333333333,
              "#9c179e"
             ],
             [
              0.4444444444444444,
              "#bd3786"
             ],
             [
              0.5555555555555556,
              "#d8576b"
             ],
             [
              0.6666666666666666,
              "#ed7953"
             ],
             [
              0.7777777777777778,
              "#fb9f3a"
             ],
             [
              0.8888888888888888,
              "#fdca26"
             ],
             [
              1,
              "#f0f921"
             ]
            ],
            "type": "histogram2dcontour"
           }
          ],
          "mesh3d": [
           {
            "colorbar": {
             "outlinewidth": 0,
             "ticks": ""
            },
            "type": "mesh3d"
           }
          ],
          "parcoords": [
           {
            "line": {
             "colorbar": {
              "outlinewidth": 0,
              "ticks": ""
             }
            },
            "type": "parcoords"
           }
          ],
          "pie": [
           {
            "automargin": true,
            "type": "pie"
           }
          ],
          "scatter": [
           {
            "marker": {
             "colorbar": {
              "outlinewidth": 0,
              "ticks": ""
             }
            },
            "type": "scatter"
           }
          ],
          "scatter3d": [
           {
            "line": {
             "colorbar": {
              "outlinewidth": 0,
              "ticks": ""
             }
            },
            "marker": {
             "colorbar": {
              "outlinewidth": 0,
              "ticks": ""
             }
            },
            "type": "scatter3d"
           }
          ],
          "scattercarpet": [
           {
            "marker": {
             "colorbar": {
              "outlinewidth": 0,
              "ticks": ""
             }
            },
            "type": "scattercarpet"
           }
          ],
          "scattergeo": [
           {
            "marker": {
             "colorbar": {
              "outlinewidth": 0,
              "ticks": ""
             }
            },
            "type": "scattergeo"
           }
          ],
          "scattergl": [
           {
            "marker": {
             "colorbar": {
              "outlinewidth": 0,
              "ticks": ""
             }
            },
            "type": "scattergl"
           }
          ],
          "scattermapbox": [
           {
            "marker": {
             "colorbar": {
              "outlinewidth": 0,
              "ticks": ""
             }
            },
            "type": "scattermapbox"
           }
          ],
          "scatterpolar": [
           {
            "marker": {
             "colorbar": {
              "outlinewidth": 0,
              "ticks": ""
             }
            },
            "type": "scatterpolar"
           }
          ],
          "scatterpolargl": [
           {
            "marker": {
             "colorbar": {
              "outlinewidth": 0,
              "ticks": ""
             }
            },
            "type": "scatterpolargl"
           }
          ],
          "scatterternary": [
           {
            "marker": {
             "colorbar": {
              "outlinewidth": 0,
              "ticks": ""
             }
            },
            "type": "scatterternary"
           }
          ],
          "surface": [
           {
            "colorbar": {
             "outlinewidth": 0,
             "ticks": ""
            },
            "colorscale": [
             [
              0,
              "#0d0887"
             ],
             [
              0.1111111111111111,
              "#46039f"
             ],
             [
              0.2222222222222222,
              "#7201a8"
             ],
             [
              0.3333333333333333,
              "#9c179e"
             ],
             [
              0.4444444444444444,
              "#bd3786"
             ],
             [
              0.5555555555555556,
              "#d8576b"
             ],
             [
              0.6666666666666666,
              "#ed7953"
             ],
             [
              0.7777777777777778,
              "#fb9f3a"
             ],
             [
              0.8888888888888888,
              "#fdca26"
             ],
             [
              1,
              "#f0f921"
             ]
            ],
            "type": "surface"
           }
          ],
          "table": [
           {
            "cells": {
             "fill": {
              "color": "#EBF0F8"
             },
             "line": {
              "color": "white"
             }
            },
            "header": {
             "fill": {
              "color": "#C8D4E3"
             },
             "line": {
              "color": "white"
             }
            },
            "type": "table"
           }
          ]
         },
         "layout": {
          "annotationdefaults": {
           "arrowcolor": "#2a3f5f",
           "arrowhead": 0,
           "arrowwidth": 1
          },
          "autotypenumbers": "strict",
          "coloraxis": {
           "colorbar": {
            "outlinewidth": 0,
            "ticks": ""
           }
          },
          "colorscale": {
           "diverging": [
            [
             0,
             "#8e0152"
            ],
            [
             0.1,
             "#c51b7d"
            ],
            [
             0.2,
             "#de77ae"
            ],
            [
             0.3,
             "#f1b6da"
            ],
            [
             0.4,
             "#fde0ef"
            ],
            [
             0.5,
             "#f7f7f7"
            ],
            [
             0.6,
             "#e6f5d0"
            ],
            [
             0.7,
             "#b8e186"
            ],
            [
             0.8,
             "#7fbc41"
            ],
            [
             0.9,
             "#4d9221"
            ],
            [
             1,
             "#276419"
            ]
           ],
           "sequential": [
            [
             0,
             "#0d0887"
            ],
            [
             0.1111111111111111,
             "#46039f"
            ],
            [
             0.2222222222222222,
             "#7201a8"
            ],
            [
             0.3333333333333333,
             "#9c179e"
            ],
            [
             0.4444444444444444,
             "#bd3786"
            ],
            [
             0.5555555555555556,
             "#d8576b"
            ],
            [
             0.6666666666666666,
             "#ed7953"
            ],
            [
             0.7777777777777778,
             "#fb9f3a"
            ],
            [
             0.8888888888888888,
             "#fdca26"
            ],
            [
             1,
             "#f0f921"
            ]
           ],
           "sequentialminus": [
            [
             0,
             "#0d0887"
            ],
            [
             0.1111111111111111,
             "#46039f"
            ],
            [
             0.2222222222222222,
             "#7201a8"
            ],
            [
             0.3333333333333333,
             "#9c179e"
            ],
            [
             0.4444444444444444,
             "#bd3786"
            ],
            [
             0.5555555555555556,
             "#d8576b"
            ],
            [
             0.6666666666666666,
             "#ed7953"
            ],
            [
             0.7777777777777778,
             "#fb9f3a"
            ],
            [
             0.8888888888888888,
             "#fdca26"
            ],
            [
             1,
             "#f0f921"
            ]
           ]
          },
          "colorway": [
           "#636efa",
           "#EF553B",
           "#00cc96",
           "#ab63fa",
           "#FFA15A",
           "#19d3f3",
           "#FF6692",
           "#B6E880",
           "#FF97FF",
           "#FECB52"
          ],
          "font": {
           "color": "#2a3f5f"
          },
          "geo": {
           "bgcolor": "white",
           "lakecolor": "white",
           "landcolor": "#E5ECF6",
           "showlakes": true,
           "showland": true,
           "subunitcolor": "white"
          },
          "hoverlabel": {
           "align": "left"
          },
          "hovermode": "closest",
          "mapbox": {
           "style": "light"
          },
          "paper_bgcolor": "white",
          "plot_bgcolor": "#E5ECF6",
          "polar": {
           "angularaxis": {
            "gridcolor": "white",
            "linecolor": "white",
            "ticks": ""
           },
           "bgcolor": "#E5ECF6",
           "radialaxis": {
            "gridcolor": "white",
            "linecolor": "white",
            "ticks": ""
           }
          },
          "scene": {
           "xaxis": {
            "backgroundcolor": "#E5ECF6",
            "gridcolor": "white",
            "gridwidth": 2,
            "linecolor": "white",
            "showbackground": true,
            "ticks": "",
            "zerolinecolor": "white"
           },
           "yaxis": {
            "backgroundcolor": "#E5ECF6",
            "gridcolor": "white",
            "gridwidth": 2,
            "linecolor": "white",
            "showbackground": true,
            "ticks": "",
            "zerolinecolor": "white"
           },
           "zaxis": {
            "backgroundcolor": "#E5ECF6",
            "gridcolor": "white",
            "gridwidth": 2,
            "linecolor": "white",
            "showbackground": true,
            "ticks": "",
            "zerolinecolor": "white"
           }
          },
          "shapedefaults": {
           "line": {
            "color": "#2a3f5f"
           }
          },
          "ternary": {
           "aaxis": {
            "gridcolor": "white",
            "linecolor": "white",
            "ticks": ""
           },
           "baxis": {
            "gridcolor": "white",
            "linecolor": "white",
            "ticks": ""
           },
           "bgcolor": "#E5ECF6",
           "caxis": {
            "gridcolor": "white",
            "linecolor": "white",
            "ticks": ""
           }
          },
          "title": {
           "x": 0.05
          },
          "xaxis": {
           "automargin": true,
           "gridcolor": "white",
           "linecolor": "white",
           "ticks": "",
           "title": {
            "standoff": 15
           },
           "zerolinecolor": "white",
           "zerolinewidth": 2
          },
          "yaxis": {
           "automargin": true,
           "gridcolor": "white",
           "linecolor": "white",
           "ticks": "",
           "title": {
            "standoff": 15
           },
           "zerolinecolor": "white",
           "zerolinewidth": 2
          }
         }
        },
        "title": {
         "text": "False positive (Nruns = 25)"
        },
        "width": 2192.7586133333334,
        "yaxis": {
         "title": {
          "text": "Counts"
         }
        }
       }
      },
      "text/html": [
       "<div>                            <div id=\"d831e264-e609-4d9a-9d68-97194849e118\" class=\"plotly-graph-div\" style=\"height:407.3235447076888px; width:2192.7586133333334px;\"></div>            <script type=\"text/javascript\">                require([\"plotly\"], function(Plotly) {                    window.PLOTLYENV=window.PLOTLYENV || {};                                    if (document.getElementById(\"d831e264-e609-4d9a-9d68-97194849e118\")) {                    Plotly.newPlot(                        \"d831e264-e609-4d9a-9d68-97194849e118\",                        [{\"name\": \"LOG \", \"type\": \"bar\", \"x\": [\"Co4O4\", \"Mn2Cu4Ge2S8\", \"Na1Cl1\", \"Na1Cl1\", \"C8\", \"Tc2B2\", \"Li4Mn2Sn2S8\", \"Hg1H3I1O6\", \"Li8Mn4Sn4S16\"], \"y\": [25.0, 2.0, 2.0, 5.0, 25.0, 5.0, 1.0, 5.0, 1.0]}, {\"name\": \"DT \", \"type\": \"bar\", \"x\": [\"Mn4Si4N8\", \"K12Mn2Te8\", \"U6F18\", \"Co4O4\", \"Mn2Cu4Ge2S8\", \"Na1Cl1\", \"Na1Cl1\", \"Ni2P2H32N2O20\", \"Os4O4F20\", \"C8\", \"In1O1F2\", \"Tc2B2\", \"I10N4\", \"Li4Mn2Sn2S8\", \"Ca2Co1O3\", \"Hg1H3I1O6\", \"Li8Mn2Sn4Se14\", \"K20Mn12O24\", \"Li8Mn4Sn4S16\", \"Nb24I44\", \"Ni2P2H30O22\"], \"y\": [1.0, 2.0, 1.0, 6.0, 6.0, 1.0, 3.0, 4.0, 1.0, 5.0, 1.0, 4.0, 1.0, 1.0, 1.0, 5.0, 3.0, 1.0, 1.0, 1.0, 1.0]}, {\"name\": \"RF \", \"type\": \"bar\", \"x\": [\"Co4O4\", \"Mn2Cu4Ge2S8\", \"Na1Cl1\", \"Na1Cl1\", \"C8\", \"Tc2B2\", \"Li4Mn2Sn2S8\", \"Hg1H3I1O6\", \"Li8Mn4Sn4S16\"], \"y\": [5.0, 3.0, 2.0, 5.0, 5.0, 5.0, 1.0, 4.0, 1.0]}, {\"name\": \"GB \", \"type\": \"bar\", \"x\": [\"U6F18\", \"Co4O4\", \"Mn2Cu4Ge2S8\", \"Na1Cl1\", \"Na1Cl1\", \"Ni2P2H32N2O20\", \"C8\", \"Tc2B2\", \"Mg3Si2O9\", \"Li4Mn2Sn2S8\", \"Hg1H3I1O6\", \"Li8Mn2Sn4Se14\", \"Li8Mn4Sn4S16\", \"Nb24I44\"], \"y\": [1.0, 5.0, 3.0, 1.0, 5.0, 1.0, 5.0, 3.0, 1.0, 1.0, 5.0, 5.0, 1.0, 2.0]}],                        {\"autosize\": false, \"barmode\": \"group\", \"font\": {\"color\": \"Black\", \"family\": \"Palatino\", \"size\": 12}, \"height\": 407.3235447076888, \"template\": {\"data\": {\"bar\": [{\"error_x\": {\"color\": \"#2a3f5f\"}, \"error_y\": {\"color\": \"#2a3f5f\"}, \"marker\": {\"line\": {\"color\": \"#E5ECF6\", \"width\": 0.5}}, \"type\": \"bar\"}], \"barpolar\": [{\"marker\": {\"line\": {\"color\": \"#E5ECF6\", \"width\": 0.5}}, \"type\": \"barpolar\"}], \"carpet\": [{\"aaxis\": {\"endlinecolor\": \"#2a3f5f\", \"gridcolor\": \"white\", \"linecolor\": \"white\", \"minorgridcolor\": \"white\", \"startlinecolor\": \"#2a3f5f\"}, \"baxis\": {\"endlinecolor\": \"#2a3f5f\", \"gridcolor\": \"white\", \"linecolor\": \"white\", \"minorgridcolor\": \"white\", \"startlinecolor\": \"#2a3f5f\"}, \"type\": \"carpet\"}], \"choropleth\": [{\"colorbar\": {\"outlinewidth\": 0, \"ticks\": \"\"}, \"type\": \"choropleth\"}], \"contour\": [{\"colorbar\": {\"outlinewidth\": 0, \"ticks\": \"\"}, \"colorscale\": [[0.0, \"#0d0887\"], [0.1111111111111111, \"#46039f\"], [0.2222222222222222, \"#7201a8\"], [0.3333333333333333, \"#9c179e\"], [0.4444444444444444, \"#bd3786\"], [0.5555555555555556, \"#d8576b\"], [0.6666666666666666, \"#ed7953\"], [0.7777777777777778, \"#fb9f3a\"], [0.8888888888888888, \"#fdca26\"], [1.0, \"#f0f921\"]], \"type\": \"contour\"}], \"contourcarpet\": [{\"colorbar\": {\"outlinewidth\": 0, \"ticks\": \"\"}, \"type\": \"contourcarpet\"}], \"heatmap\": [{\"colorbar\": {\"outlinewidth\": 0, \"ticks\": \"\"}, \"colorscale\": [[0.0, \"#0d0887\"], [0.1111111111111111, \"#46039f\"], [0.2222222222222222, \"#7201a8\"], [0.3333333333333333, \"#9c179e\"], [0.4444444444444444, \"#bd3786\"], [0.5555555555555556, \"#d8576b\"], [0.6666666666666666, \"#ed7953\"], [0.7777777777777778, \"#fb9f3a\"], [0.8888888888888888, \"#fdca26\"], [1.0, \"#f0f921\"]], \"type\": \"heatmap\"}], \"heatmapgl\": [{\"colorbar\": {\"outlinewidth\": 0, \"ticks\": \"\"}, \"colorscale\": [[0.0, \"#0d0887\"], [0.1111111111111111, \"#46039f\"], [0.2222222222222222, \"#7201a8\"], [0.3333333333333333, \"#9c179e\"], [0.4444444444444444, \"#bd3786\"], [0.5555555555555556, \"#d8576b\"], [0.6666666666666666, \"#ed7953\"], [0.7777777777777778, \"#fb9f3a\"], [0.8888888888888888, \"#fdca26\"], [1.0, \"#f0f921\"]], \"type\": \"heatmapgl\"}], \"histogram\": [{\"marker\": {\"colorbar\": {\"outlinewidth\": 0, \"ticks\": \"\"}}, \"type\": \"histogram\"}], \"histogram2d\": [{\"colorbar\": {\"outlinewidth\": 0, \"ticks\": \"\"}, \"colorscale\": [[0.0, \"#0d0887\"], [0.1111111111111111, \"#46039f\"], [0.2222222222222222, \"#7201a8\"], [0.3333333333333333, \"#9c179e\"], [0.4444444444444444, \"#bd3786\"], [0.5555555555555556, \"#d8576b\"], [0.6666666666666666, \"#ed7953\"], [0.7777777777777778, \"#fb9f3a\"], [0.8888888888888888, \"#fdca26\"], [1.0, \"#f0f921\"]], \"type\": \"histogram2d\"}], \"histogram2dcontour\": [{\"colorbar\": {\"outlinewidth\": 0, \"ticks\": \"\"}, \"colorscale\": [[0.0, \"#0d0887\"], [0.1111111111111111, \"#46039f\"], [0.2222222222222222, \"#7201a8\"], [0.3333333333333333, \"#9c179e\"], [0.4444444444444444, \"#bd3786\"], [0.5555555555555556, \"#d8576b\"], [0.6666666666666666, \"#ed7953\"], [0.7777777777777778, \"#fb9f3a\"], [0.8888888888888888, \"#fdca26\"], [1.0, \"#f0f921\"]], \"type\": \"histogram2dcontour\"}], \"mesh3d\": [{\"colorbar\": {\"outlinewidth\": 0, \"ticks\": \"\"}, \"type\": \"mesh3d\"}], \"parcoords\": [{\"line\": {\"colorbar\": {\"outlinewidth\": 0, \"ticks\": \"\"}}, \"type\": \"parcoords\"}], \"pie\": [{\"automargin\": true, \"type\": \"pie\"}], \"scatter\": [{\"marker\": {\"colorbar\": {\"outlinewidth\": 0, \"ticks\": \"\"}}, \"type\": \"scatter\"}], \"scatter3d\": [{\"line\": {\"colorbar\": {\"outlinewidth\": 0, \"ticks\": \"\"}}, \"marker\": {\"colorbar\": {\"outlinewidth\": 0, \"ticks\": \"\"}}, \"type\": \"scatter3d\"}], \"scattercarpet\": [{\"marker\": {\"colorbar\": {\"outlinewidth\": 0, \"ticks\": \"\"}}, \"type\": \"scattercarpet\"}], \"scattergeo\": [{\"marker\": {\"colorbar\": {\"outlinewidth\": 0, \"ticks\": \"\"}}, \"type\": \"scattergeo\"}], \"scattergl\": [{\"marker\": {\"colorbar\": {\"outlinewidth\": 0, \"ticks\": \"\"}}, \"type\": \"scattergl\"}], \"scattermapbox\": [{\"marker\": {\"colorbar\": {\"outlinewidth\": 0, \"ticks\": \"\"}}, \"type\": \"scattermapbox\"}], \"scatterpolar\": [{\"marker\": {\"colorbar\": {\"outlinewidth\": 0, \"ticks\": \"\"}}, \"type\": \"scatterpolar\"}], \"scatterpolargl\": [{\"marker\": {\"colorbar\": {\"outlinewidth\": 0, \"ticks\": \"\"}}, \"type\": \"scatterpolargl\"}], \"scatterternary\": [{\"marker\": {\"colorbar\": {\"outlinewidth\": 0, \"ticks\": \"\"}}, \"type\": \"scatterternary\"}], \"surface\": [{\"colorbar\": {\"outlinewidth\": 0, \"ticks\": \"\"}, \"colorscale\": [[0.0, \"#0d0887\"], [0.1111111111111111, \"#46039f\"], [0.2222222222222222, \"#7201a8\"], [0.3333333333333333, \"#9c179e\"], [0.4444444444444444, \"#bd3786\"], [0.5555555555555556, \"#d8576b\"], [0.6666666666666666, \"#ed7953\"], [0.7777777777777778, \"#fb9f3a\"], [0.8888888888888888, \"#fdca26\"], [1.0, \"#f0f921\"]], \"type\": \"surface\"}], \"table\": [{\"cells\": {\"fill\": {\"color\": \"#EBF0F8\"}, \"line\": {\"color\": \"white\"}}, \"header\": {\"fill\": {\"color\": \"#C8D4E3\"}, \"line\": {\"color\": \"white\"}}, \"type\": \"table\"}]}, \"layout\": {\"annotationdefaults\": {\"arrowcolor\": \"#2a3f5f\", \"arrowhead\": 0, \"arrowwidth\": 1}, \"autotypenumbers\": \"strict\", \"coloraxis\": {\"colorbar\": {\"outlinewidth\": 0, \"ticks\": \"\"}}, \"colorscale\": {\"diverging\": [[0, \"#8e0152\"], [0.1, \"#c51b7d\"], [0.2, \"#de77ae\"], [0.3, \"#f1b6da\"], [0.4, \"#fde0ef\"], [0.5, \"#f7f7f7\"], [0.6, \"#e6f5d0\"], [0.7, \"#b8e186\"], [0.8, \"#7fbc41\"], [0.9, \"#4d9221\"], [1, \"#276419\"]], \"sequential\": [[0.0, \"#0d0887\"], [0.1111111111111111, \"#46039f\"], [0.2222222222222222, \"#7201a8\"], [0.3333333333333333, \"#9c179e\"], [0.4444444444444444, \"#bd3786\"], [0.5555555555555556, \"#d8576b\"], [0.6666666666666666, \"#ed7953\"], [0.7777777777777778, \"#fb9f3a\"], [0.8888888888888888, \"#fdca26\"], [1.0, \"#f0f921\"]], \"sequentialminus\": [[0.0, \"#0d0887\"], [0.1111111111111111, \"#46039f\"], [0.2222222222222222, \"#7201a8\"], [0.3333333333333333, \"#9c179e\"], [0.4444444444444444, \"#bd3786\"], [0.5555555555555556, \"#d8576b\"], [0.6666666666666666, \"#ed7953\"], [0.7777777777777778, \"#fb9f3a\"], [0.8888888888888888, \"#fdca26\"], [1.0, \"#f0f921\"]]}, \"colorway\": [\"#636efa\", \"#EF553B\", \"#00cc96\", \"#ab63fa\", \"#FFA15A\", \"#19d3f3\", \"#FF6692\", \"#B6E880\", \"#FF97FF\", \"#FECB52\"], \"font\": {\"color\": \"#2a3f5f\"}, \"geo\": {\"bgcolor\": \"white\", \"lakecolor\": \"white\", \"landcolor\": \"#E5ECF6\", \"showlakes\": true, \"showland\": true, \"subunitcolor\": \"white\"}, \"hoverlabel\": {\"align\": \"left\"}, \"hovermode\": \"closest\", \"mapbox\": {\"style\": \"light\"}, \"paper_bgcolor\": \"white\", \"plot_bgcolor\": \"#E5ECF6\", \"polar\": {\"angularaxis\": {\"gridcolor\": \"white\", \"linecolor\": \"white\", \"ticks\": \"\"}, \"bgcolor\": \"#E5ECF6\", \"radialaxis\": {\"gridcolor\": \"white\", \"linecolor\": \"white\", \"ticks\": \"\"}}, \"scene\": {\"xaxis\": {\"backgroundcolor\": \"#E5ECF6\", \"gridcolor\": \"white\", \"gridwidth\": 2, \"linecolor\": \"white\", \"showbackground\": true, \"ticks\": \"\", \"zerolinecolor\": \"white\"}, \"yaxis\": {\"backgroundcolor\": \"#E5ECF6\", \"gridcolor\": \"white\", \"gridwidth\": 2, \"linecolor\": \"white\", \"showbackground\": true, \"ticks\": \"\", \"zerolinecolor\": \"white\"}, \"zaxis\": {\"backgroundcolor\": \"#E5ECF6\", \"gridcolor\": \"white\", \"gridwidth\": 2, \"linecolor\": \"white\", \"showbackground\": true, \"ticks\": \"\", \"zerolinecolor\": \"white\"}}, \"shapedefaults\": {\"line\": {\"color\": \"#2a3f5f\"}}, \"ternary\": {\"aaxis\": {\"gridcolor\": \"white\", \"linecolor\": \"white\", \"ticks\": \"\"}, \"baxis\": {\"gridcolor\": \"white\", \"linecolor\": \"white\", \"ticks\": \"\"}, \"bgcolor\": \"#E5ECF6\", \"caxis\": {\"gridcolor\": \"white\", \"linecolor\": \"white\", \"ticks\": \"\"}}, \"title\": {\"x\": 0.05}, \"xaxis\": {\"automargin\": true, \"gridcolor\": \"white\", \"linecolor\": \"white\", \"ticks\": \"\", \"title\": {\"standoff\": 15}, \"zerolinecolor\": \"white\", \"zerolinewidth\": 2}, \"yaxis\": {\"automargin\": true, \"gridcolor\": \"white\", \"linecolor\": \"white\", \"ticks\": \"\", \"title\": {\"standoff\": 15}, \"zerolinecolor\": \"white\", \"zerolinewidth\": 2}}}, \"title\": {\"text\": \"False positive (Nruns = 25)\"}, \"width\": 2192.7586133333334, \"yaxis\": {\"title\": {\"text\": \"Counts\"}}},                        {\"responsive\": true}                    ).then(function(){\n",
       "                            \n",
       "var gd = document.getElementById('d831e264-e609-4d9a-9d68-97194849e118');\n",
       "var x = new MutationObserver(function (mutations, observer) {{\n",
       "        var display = window.getComputedStyle(gd).display;\n",
       "        if (!display || display === 'none') {{\n",
       "            console.log([gd, 'removed!']);\n",
       "            Plotly.purge(gd);\n",
       "            observer.disconnect();\n",
       "        }}\n",
       "}});\n",
       "\n",
       "// Listen for the removal of the full notebook cells\n",
       "var notebookContainer = gd.closest('#notebook-container');\n",
       "if (notebookContainer) {{\n",
       "    x.observe(notebookContainer, {childList: true});\n",
       "}}\n",
       "\n",
       "// Listen for the clearing of the current output cell\n",
       "var outputEl = gd.closest('.output');\n",
       "if (outputEl) {{\n",
       "    x.observe(outputEl, {childList: true});\n",
       "}}\n",
       "\n",
       "                        })                };                });            </script>        </div>"
      ]
     },
     "metadata": {},
     "output_type": "display_data"
    },
    {
     "data": {
      "application/vnd.plotly.v1+json": {
       "config": {
        "plotlyServerURL": "https://plot.ly"
       },
       "data": [
        {
         "name": "LOG ",
         "type": "bar",
         "x": [
          "Al1N1",
          "B4N4",
          "Zn2O2",
          "C8",
          "C12",
          "Si58"
         ],
         "y": [
          1,
          2,
          2,
          1,
          3,
          2
         ]
        },
        {
         "name": "DT ",
         "type": "bar",
         "x": [
          "W2S4",
          "Cd2S2",
          "Al1N1",
          "Mo1S2",
          "W2Se4",
          "Zn2O2",
          "Zn1O1",
          "Mo2S4",
          "Ga1N1",
          "B2N2",
          "W1S2",
          "Al2N2",
          "C8",
          "B4N4",
          "Zn2Se2",
          "C8",
          "B2N2",
          "Ga2N2",
          "C4",
          "Zn2O2",
          "B1N1",
          "C8",
          "Si232",
          "Si58",
          "Si46"
         ],
         "y": [
          2,
          1,
          1,
          3,
          5,
          1,
          7,
          1,
          1,
          1,
          1,
          2,
          1,
          4,
          11,
          2,
          1,
          3,
          1,
          3,
          2,
          1,
          1,
          5,
          1
         ]
        },
        {
         "name": "RF ",
         "type": "bar",
         "x": [
          "W2S4",
          "W2Se4",
          "Zn1O1",
          "Mo2S4",
          "W1S2",
          "C8",
          "B4N4",
          "Zn2Se2",
          "Ga2N2",
          "Zn2O2",
          "Mo2S4",
          "C12",
          "Si58"
         ],
         "y": [
          1,
          1,
          1,
          1,
          1,
          1,
          4,
          2,
          1,
          4,
          1,
          2,
          4
         ]
        },
        {
         "name": "GB ",
         "type": "bar",
         "x": [
          "Al2N2",
          "Al1N1",
          "W2Se4",
          "Zn2O2",
          "Zn1O1",
          "C8",
          "B4N4",
          "Zn2Se2",
          "C8",
          "Zn2O2",
          "C12",
          "Si17C17",
          "Si25C25",
          "Si58"
         ],
         "y": [
          1,
          1,
          4,
          1,
          2,
          1,
          5,
          4,
          1,
          4,
          1,
          2,
          1,
          3
         ]
        }
       ],
       "layout": {
        "autosize": false,
        "barmode": "group",
        "font": {
         "color": "Black",
         "family": "Palatino",
         "size": 12
        },
        "height": 407.3235447076888,
        "template": {
         "data": {
          "bar": [
           {
            "error_x": {
             "color": "#2a3f5f"
            },
            "error_y": {
             "color": "#2a3f5f"
            },
            "marker": {
             "line": {
              "color": "#E5ECF6",
              "width": 0.5
             }
            },
            "type": "bar"
           }
          ],
          "barpolar": [
           {
            "marker": {
             "line": {
              "color": "#E5ECF6",
              "width": 0.5
             }
            },
            "type": "barpolar"
           }
          ],
          "carpet": [
           {
            "aaxis": {
             "endlinecolor": "#2a3f5f",
             "gridcolor": "white",
             "linecolor": "white",
             "minorgridcolor": "white",
             "startlinecolor": "#2a3f5f"
            },
            "baxis": {
             "endlinecolor": "#2a3f5f",
             "gridcolor": "white",
             "linecolor": "white",
             "minorgridcolor": "white",
             "startlinecolor": "#2a3f5f"
            },
            "type": "carpet"
           }
          ],
          "choropleth": [
           {
            "colorbar": {
             "outlinewidth": 0,
             "ticks": ""
            },
            "type": "choropleth"
           }
          ],
          "contour": [
           {
            "colorbar": {
             "outlinewidth": 0,
             "ticks": ""
            },
            "colorscale": [
             [
              0,
              "#0d0887"
             ],
             [
              0.1111111111111111,
              "#46039f"
             ],
             [
              0.2222222222222222,
              "#7201a8"
             ],
             [
              0.3333333333333333,
              "#9c179e"
             ],
             [
              0.4444444444444444,
              "#bd3786"
             ],
             [
              0.5555555555555556,
              "#d8576b"
             ],
             [
              0.6666666666666666,
              "#ed7953"
             ],
             [
              0.7777777777777778,
              "#fb9f3a"
             ],
             [
              0.8888888888888888,
              "#fdca26"
             ],
             [
              1,
              "#f0f921"
             ]
            ],
            "type": "contour"
           }
          ],
          "contourcarpet": [
           {
            "colorbar": {
             "outlinewidth": 0,
             "ticks": ""
            },
            "type": "contourcarpet"
           }
          ],
          "heatmap": [
           {
            "colorbar": {
             "outlinewidth": 0,
             "ticks": ""
            },
            "colorscale": [
             [
              0,
              "#0d0887"
             ],
             [
              0.1111111111111111,
              "#46039f"
             ],
             [
              0.2222222222222222,
              "#7201a8"
             ],
             [
              0.3333333333333333,
              "#9c179e"
             ],
             [
              0.4444444444444444,
              "#bd3786"
             ],
             [
              0.5555555555555556,
              "#d8576b"
             ],
             [
              0.6666666666666666,
              "#ed7953"
             ],
             [
              0.7777777777777778,
              "#fb9f3a"
             ],
             [
              0.8888888888888888,
              "#fdca26"
             ],
             [
              1,
              "#f0f921"
             ]
            ],
            "type": "heatmap"
           }
          ],
          "heatmapgl": [
           {
            "colorbar": {
             "outlinewidth": 0,
             "ticks": ""
            },
            "colorscale": [
             [
              0,
              "#0d0887"
             ],
             [
              0.1111111111111111,
              "#46039f"
             ],
             [
              0.2222222222222222,
              "#7201a8"
             ],
             [
              0.3333333333333333,
              "#9c179e"
             ],
             [
              0.4444444444444444,
              "#bd3786"
             ],
             [
              0.5555555555555556,
              "#d8576b"
             ],
             [
              0.6666666666666666,
              "#ed7953"
             ],
             [
              0.7777777777777778,
              "#fb9f3a"
             ],
             [
              0.8888888888888888,
              "#fdca26"
             ],
             [
              1,
              "#f0f921"
             ]
            ],
            "type": "heatmapgl"
           }
          ],
          "histogram": [
           {
            "marker": {
             "colorbar": {
              "outlinewidth": 0,
              "ticks": ""
             }
            },
            "type": "histogram"
           }
          ],
          "histogram2d": [
           {
            "colorbar": {
             "outlinewidth": 0,
             "ticks": ""
            },
            "colorscale": [
             [
              0,
              "#0d0887"
             ],
             [
              0.1111111111111111,
              "#46039f"
             ],
             [
              0.2222222222222222,
              "#7201a8"
             ],
             [
              0.3333333333333333,
              "#9c179e"
             ],
             [
              0.4444444444444444,
              "#bd3786"
             ],
             [
              0.5555555555555556,
              "#d8576b"
             ],
             [
              0.6666666666666666,
              "#ed7953"
             ],
             [
              0.7777777777777778,
              "#fb9f3a"
             ],
             [
              0.8888888888888888,
              "#fdca26"
             ],
             [
              1,
              "#f0f921"
             ]
            ],
            "type": "histogram2d"
           }
          ],
          "histogram2dcontour": [
           {
            "colorbar": {
             "outlinewidth": 0,
             "ticks": ""
            },
            "colorscale": [
             [
              0,
              "#0d0887"
             ],
             [
              0.1111111111111111,
              "#46039f"
             ],
             [
              0.2222222222222222,
              "#7201a8"
             ],
             [
              0.3333333333333333,
              "#9c179e"
             ],
             [
              0.4444444444444444,
              "#bd3786"
             ],
             [
              0.5555555555555556,
              "#d8576b"
             ],
             [
              0.6666666666666666,
              "#ed7953"
             ],
             [
              0.7777777777777778,
              "#fb9f3a"
             ],
             [
              0.8888888888888888,
              "#fdca26"
             ],
             [
              1,
              "#f0f921"
             ]
            ],
            "type": "histogram2dcontour"
           }
          ],
          "mesh3d": [
           {
            "colorbar": {
             "outlinewidth": 0,
             "ticks": ""
            },
            "type": "mesh3d"
           }
          ],
          "parcoords": [
           {
            "line": {
             "colorbar": {
              "outlinewidth": 0,
              "ticks": ""
             }
            },
            "type": "parcoords"
           }
          ],
          "pie": [
           {
            "automargin": true,
            "type": "pie"
           }
          ],
          "scatter": [
           {
            "marker": {
             "colorbar": {
              "outlinewidth": 0,
              "ticks": ""
             }
            },
            "type": "scatter"
           }
          ],
          "scatter3d": [
           {
            "line": {
             "colorbar": {
              "outlinewidth": 0,
              "ticks": ""
             }
            },
            "marker": {
             "colorbar": {
              "outlinewidth": 0,
              "ticks": ""
             }
            },
            "type": "scatter3d"
           }
          ],
          "scattercarpet": [
           {
            "marker": {
             "colorbar": {
              "outlinewidth": 0,
              "ticks": ""
             }
            },
            "type": "scattercarpet"
           }
          ],
          "scattergeo": [
           {
            "marker": {
             "colorbar": {
              "outlinewidth": 0,
              "ticks": ""
             }
            },
            "type": "scattergeo"
           }
          ],
          "scattergl": [
           {
            "marker": {
             "colorbar": {
              "outlinewidth": 0,
              "ticks": ""
             }
            },
            "type": "scattergl"
           }
          ],
          "scattermapbox": [
           {
            "marker": {
             "colorbar": {
              "outlinewidth": 0,
              "ticks": ""
             }
            },
            "type": "scattermapbox"
           }
          ],
          "scatterpolar": [
           {
            "marker": {
             "colorbar": {
              "outlinewidth": 0,
              "ticks": ""
             }
            },
            "type": "scatterpolar"
           }
          ],
          "scatterpolargl": [
           {
            "marker": {
             "colorbar": {
              "outlinewidth": 0,
              "ticks": ""
             }
            },
            "type": "scatterpolargl"
           }
          ],
          "scatterternary": [
           {
            "marker": {
             "colorbar": {
              "outlinewidth": 0,
              "ticks": ""
             }
            },
            "type": "scatterternary"
           }
          ],
          "surface": [
           {
            "colorbar": {
             "outlinewidth": 0,
             "ticks": ""
            },
            "colorscale": [
             [
              0,
              "#0d0887"
             ],
             [
              0.1111111111111111,
              "#46039f"
             ],
             [
              0.2222222222222222,
              "#7201a8"
             ],
             [
              0.3333333333333333,
              "#9c179e"
             ],
             [
              0.4444444444444444,
              "#bd3786"
             ],
             [
              0.5555555555555556,
              "#d8576b"
             ],
             [
              0.6666666666666666,
              "#ed7953"
             ],
             [
              0.7777777777777778,
              "#fb9f3a"
             ],
             [
              0.8888888888888888,
              "#fdca26"
             ],
             [
              1,
              "#f0f921"
             ]
            ],
            "type": "surface"
           }
          ],
          "table": [
           {
            "cells": {
             "fill": {
              "color": "#EBF0F8"
             },
             "line": {
              "color": "white"
             }
            },
            "header": {
             "fill": {
              "color": "#C8D4E3"
             },
             "line": {
              "color": "white"
             }
            },
            "type": "table"
           }
          ]
         },
         "layout": {
          "annotationdefaults": {
           "arrowcolor": "#2a3f5f",
           "arrowhead": 0,
           "arrowwidth": 1
          },
          "autotypenumbers": "strict",
          "coloraxis": {
           "colorbar": {
            "outlinewidth": 0,
            "ticks": ""
           }
          },
          "colorscale": {
           "diverging": [
            [
             0,
             "#8e0152"
            ],
            [
             0.1,
             "#c51b7d"
            ],
            [
             0.2,
             "#de77ae"
            ],
            [
             0.3,
             "#f1b6da"
            ],
            [
             0.4,
             "#fde0ef"
            ],
            [
             0.5,
             "#f7f7f7"
            ],
            [
             0.6,
             "#e6f5d0"
            ],
            [
             0.7,
             "#b8e186"
            ],
            [
             0.8,
             "#7fbc41"
            ],
            [
             0.9,
             "#4d9221"
            ],
            [
             1,
             "#276419"
            ]
           ],
           "sequential": [
            [
             0,
             "#0d0887"
            ],
            [
             0.1111111111111111,
             "#46039f"
            ],
            [
             0.2222222222222222,
             "#7201a8"
            ],
            [
             0.3333333333333333,
             "#9c179e"
            ],
            [
             0.4444444444444444,
             "#bd3786"
            ],
            [
             0.5555555555555556,
             "#d8576b"
            ],
            [
             0.6666666666666666,
             "#ed7953"
            ],
            [
             0.7777777777777778,
             "#fb9f3a"
            ],
            [
             0.8888888888888888,
             "#fdca26"
            ],
            [
             1,
             "#f0f921"
            ]
           ],
           "sequentialminus": [
            [
             0,
             "#0d0887"
            ],
            [
             0.1111111111111111,
             "#46039f"
            ],
            [
             0.2222222222222222,
             "#7201a8"
            ],
            [
             0.3333333333333333,
             "#9c179e"
            ],
            [
             0.4444444444444444,
             "#bd3786"
            ],
            [
             0.5555555555555556,
             "#d8576b"
            ],
            [
             0.6666666666666666,
             "#ed7953"
            ],
            [
             0.7777777777777778,
             "#fb9f3a"
            ],
            [
             0.8888888888888888,
             "#fdca26"
            ],
            [
             1,
             "#f0f921"
            ]
           ]
          },
          "colorway": [
           "#636efa",
           "#EF553B",
           "#00cc96",
           "#ab63fa",
           "#FFA15A",
           "#19d3f3",
           "#FF6692",
           "#B6E880",
           "#FF97FF",
           "#FECB52"
          ],
          "font": {
           "color": "#2a3f5f"
          },
          "geo": {
           "bgcolor": "white",
           "lakecolor": "white",
           "landcolor": "#E5ECF6",
           "showlakes": true,
           "showland": true,
           "subunitcolor": "white"
          },
          "hoverlabel": {
           "align": "left"
          },
          "hovermode": "closest",
          "mapbox": {
           "style": "light"
          },
          "paper_bgcolor": "white",
          "plot_bgcolor": "#E5ECF6",
          "polar": {
           "angularaxis": {
            "gridcolor": "white",
            "linecolor": "white",
            "ticks": ""
           },
           "bgcolor": "#E5ECF6",
           "radialaxis": {
            "gridcolor": "white",
            "linecolor": "white",
            "ticks": ""
           }
          },
          "scene": {
           "xaxis": {
            "backgroundcolor": "#E5ECF6",
            "gridcolor": "white",
            "gridwidth": 2,
            "linecolor": "white",
            "showbackground": true,
            "ticks": "",
            "zerolinecolor": "white"
           },
           "yaxis": {
            "backgroundcolor": "#E5ECF6",
            "gridcolor": "white",
            "gridwidth": 2,
            "linecolor": "white",
            "showbackground": true,
            "ticks": "",
            "zerolinecolor": "white"
           },
           "zaxis": {
            "backgroundcolor": "#E5ECF6",
            "gridcolor": "white",
            "gridwidth": 2,
            "linecolor": "white",
            "showbackground": true,
            "ticks": "",
            "zerolinecolor": "white"
           }
          },
          "shapedefaults": {
           "line": {
            "color": "#2a3f5f"
           }
          },
          "ternary": {
           "aaxis": {
            "gridcolor": "white",
            "linecolor": "white",
            "ticks": ""
           },
           "baxis": {
            "gridcolor": "white",
            "linecolor": "white",
            "ticks": ""
           },
           "bgcolor": "#E5ECF6",
           "caxis": {
            "gridcolor": "white",
            "linecolor": "white",
            "ticks": ""
           }
          },
          "title": {
           "x": 0.05
          },
          "xaxis": {
           "automargin": true,
           "gridcolor": "white",
           "linecolor": "white",
           "ticks": "",
           "title": {
            "standoff": 15
           },
           "zerolinecolor": "white",
           "zerolinewidth": 2
          },
          "yaxis": {
           "automargin": true,
           "gridcolor": "white",
           "linecolor": "white",
           "ticks": "",
           "title": {
            "standoff": 15
           },
           "zerolinecolor": "white",
           "zerolinewidth": 2
          }
         }
        },
        "title": {
         "text": "False negative (Nruns = 25)"
        },
        "width": 1096.3793066666667,
        "yaxis": {
         "title": {
          "text": "Counts"
         }
        }
       }
      },
      "text/html": [
       "<div>                            <div id=\"3bdb4b81-53fc-4f98-8fd3-bc7fb3bc5042\" class=\"plotly-graph-div\" style=\"height:407.3235447076888px; width:1096.3793066666667px;\"></div>            <script type=\"text/javascript\">                require([\"plotly\"], function(Plotly) {                    window.PLOTLYENV=window.PLOTLYENV || {};                                    if (document.getElementById(\"3bdb4b81-53fc-4f98-8fd3-bc7fb3bc5042\")) {                    Plotly.newPlot(                        \"3bdb4b81-53fc-4f98-8fd3-bc7fb3bc5042\",                        [{\"name\": \"LOG \", \"type\": \"bar\", \"x\": [\"Al1N1\", \"B4N4\", \"Zn2O2\", \"C8\", \"C12\", \"Si58\"], \"y\": [1.0, 2.0, 2.0, 1.0, 3.0, 2.0]}, {\"name\": \"DT \", \"type\": \"bar\", \"x\": [\"W2S4\", \"Cd2S2\", \"Al1N1\", \"Mo1S2\", \"W2Se4\", \"Zn2O2\", \"Zn1O1\", \"Mo2S4\", \"Ga1N1\", \"B2N2\", \"W1S2\", \"Al2N2\", \"C8\", \"B4N4\", \"Zn2Se2\", \"C8\", \"B2N2\", \"Ga2N2\", \"C4\", \"Zn2O2\", \"B1N1\", \"C8\", \"Si232\", \"Si58\", \"Si46\"], \"y\": [2.0, 1.0, 1.0, 3.0, 5.0, 1.0, 7.0, 1.0, 1.0, 1.0, 1.0, 2.0, 1.0, 4.0, 11.0, 2.0, 1.0, 3.0, 1.0, 3.0, 2.0, 1.0, 1.0, 5.0, 1.0]}, {\"name\": \"RF \", \"type\": \"bar\", \"x\": [\"W2S4\", \"W2Se4\", \"Zn1O1\", \"Mo2S4\", \"W1S2\", \"C8\", \"B4N4\", \"Zn2Se2\", \"Ga2N2\", \"Zn2O2\", \"Mo2S4\", \"C12\", \"Si58\"], \"y\": [1.0, 1.0, 1.0, 1.0, 1.0, 1.0, 4.0, 2.0, 1.0, 4.0, 1.0, 2.0, 4.0]}, {\"name\": \"GB \", \"type\": \"bar\", \"x\": [\"Al2N2\", \"Al1N1\", \"W2Se4\", \"Zn2O2\", \"Zn1O1\", \"C8\", \"B4N4\", \"Zn2Se2\", \"C8\", \"Zn2O2\", \"C12\", \"Si17C17\", \"Si25C25\", \"Si58\"], \"y\": [1.0, 1.0, 4.0, 1.0, 2.0, 1.0, 5.0, 4.0, 1.0, 4.0, 1.0, 2.0, 1.0, 3.0]}],                        {\"autosize\": false, \"barmode\": \"group\", \"font\": {\"color\": \"Black\", \"family\": \"Palatino\", \"size\": 12}, \"height\": 407.3235447076888, \"template\": {\"data\": {\"bar\": [{\"error_x\": {\"color\": \"#2a3f5f\"}, \"error_y\": {\"color\": \"#2a3f5f\"}, \"marker\": {\"line\": {\"color\": \"#E5ECF6\", \"width\": 0.5}}, \"type\": \"bar\"}], \"barpolar\": [{\"marker\": {\"line\": {\"color\": \"#E5ECF6\", \"width\": 0.5}}, \"type\": \"barpolar\"}], \"carpet\": [{\"aaxis\": {\"endlinecolor\": \"#2a3f5f\", \"gridcolor\": \"white\", \"linecolor\": \"white\", \"minorgridcolor\": \"white\", \"startlinecolor\": \"#2a3f5f\"}, \"baxis\": {\"endlinecolor\": \"#2a3f5f\", \"gridcolor\": \"white\", \"linecolor\": \"white\", \"minorgridcolor\": \"white\", \"startlinecolor\": \"#2a3f5f\"}, \"type\": \"carpet\"}], \"choropleth\": [{\"colorbar\": {\"outlinewidth\": 0, \"ticks\": \"\"}, \"type\": \"choropleth\"}], \"contour\": [{\"colorbar\": {\"outlinewidth\": 0, \"ticks\": \"\"}, \"colorscale\": [[0.0, \"#0d0887\"], [0.1111111111111111, \"#46039f\"], [0.2222222222222222, \"#7201a8\"], [0.3333333333333333, \"#9c179e\"], [0.4444444444444444, \"#bd3786\"], [0.5555555555555556, \"#d8576b\"], [0.6666666666666666, \"#ed7953\"], [0.7777777777777778, \"#fb9f3a\"], [0.8888888888888888, \"#fdca26\"], [1.0, \"#f0f921\"]], \"type\": \"contour\"}], \"contourcarpet\": [{\"colorbar\": {\"outlinewidth\": 0, \"ticks\": \"\"}, \"type\": \"contourcarpet\"}], \"heatmap\": [{\"colorbar\": {\"outlinewidth\": 0, \"ticks\": \"\"}, \"colorscale\": [[0.0, \"#0d0887\"], [0.1111111111111111, \"#46039f\"], [0.2222222222222222, \"#7201a8\"], [0.3333333333333333, \"#9c179e\"], [0.4444444444444444, \"#bd3786\"], [0.5555555555555556, \"#d8576b\"], [0.6666666666666666, \"#ed7953\"], [0.7777777777777778, \"#fb9f3a\"], [0.8888888888888888, \"#fdca26\"], [1.0, \"#f0f921\"]], \"type\": \"heatmap\"}], \"heatmapgl\": [{\"colorbar\": {\"outlinewidth\": 0, \"ticks\": \"\"}, \"colorscale\": [[0.0, \"#0d0887\"], [0.1111111111111111, \"#46039f\"], [0.2222222222222222, \"#7201a8\"], [0.3333333333333333, \"#9c179e\"], [0.4444444444444444, \"#bd3786\"], [0.5555555555555556, \"#d8576b\"], [0.6666666666666666, \"#ed7953\"], [0.7777777777777778, \"#fb9f3a\"], [0.8888888888888888, \"#fdca26\"], [1.0, \"#f0f921\"]], \"type\": \"heatmapgl\"}], \"histogram\": [{\"marker\": {\"colorbar\": {\"outlinewidth\": 0, \"ticks\": \"\"}}, \"type\": \"histogram\"}], \"histogram2d\": [{\"colorbar\": {\"outlinewidth\": 0, \"ticks\": \"\"}, \"colorscale\": [[0.0, \"#0d0887\"], [0.1111111111111111, \"#46039f\"], [0.2222222222222222, \"#7201a8\"], [0.3333333333333333, \"#9c179e\"], [0.4444444444444444, \"#bd3786\"], [0.5555555555555556, \"#d8576b\"], [0.6666666666666666, \"#ed7953\"], [0.7777777777777778, \"#fb9f3a\"], [0.8888888888888888, \"#fdca26\"], [1.0, \"#f0f921\"]], \"type\": \"histogram2d\"}], \"histogram2dcontour\": [{\"colorbar\": {\"outlinewidth\": 0, \"ticks\": \"\"}, \"colorscale\": [[0.0, \"#0d0887\"], [0.1111111111111111, \"#46039f\"], [0.2222222222222222, \"#7201a8\"], [0.3333333333333333, \"#9c179e\"], [0.4444444444444444, \"#bd3786\"], [0.5555555555555556, \"#d8576b\"], [0.6666666666666666, \"#ed7953\"], [0.7777777777777778, \"#fb9f3a\"], [0.8888888888888888, \"#fdca26\"], [1.0, \"#f0f921\"]], \"type\": \"histogram2dcontour\"}], \"mesh3d\": [{\"colorbar\": {\"outlinewidth\": 0, \"ticks\": \"\"}, \"type\": \"mesh3d\"}], \"parcoords\": [{\"line\": {\"colorbar\": {\"outlinewidth\": 0, \"ticks\": \"\"}}, \"type\": \"parcoords\"}], \"pie\": [{\"automargin\": true, \"type\": \"pie\"}], \"scatter\": [{\"marker\": {\"colorbar\": {\"outlinewidth\": 0, \"ticks\": \"\"}}, \"type\": \"scatter\"}], \"scatter3d\": [{\"line\": {\"colorbar\": {\"outlinewidth\": 0, \"ticks\": \"\"}}, \"marker\": {\"colorbar\": {\"outlinewidth\": 0, \"ticks\": \"\"}}, \"type\": \"scatter3d\"}], \"scattercarpet\": [{\"marker\": {\"colorbar\": {\"outlinewidth\": 0, \"ticks\": \"\"}}, \"type\": \"scattercarpet\"}], \"scattergeo\": [{\"marker\": {\"colorbar\": {\"outlinewidth\": 0, \"ticks\": \"\"}}, \"type\": \"scattergeo\"}], \"scattergl\": [{\"marker\": {\"colorbar\": {\"outlinewidth\": 0, \"ticks\": \"\"}}, \"type\": \"scattergl\"}], \"scattermapbox\": [{\"marker\": {\"colorbar\": {\"outlinewidth\": 0, \"ticks\": \"\"}}, \"type\": \"scattermapbox\"}], \"scatterpolar\": [{\"marker\": {\"colorbar\": {\"outlinewidth\": 0, \"ticks\": \"\"}}, \"type\": \"scatterpolar\"}], \"scatterpolargl\": [{\"marker\": {\"colorbar\": {\"outlinewidth\": 0, \"ticks\": \"\"}}, \"type\": \"scatterpolargl\"}], \"scatterternary\": [{\"marker\": {\"colorbar\": {\"outlinewidth\": 0, \"ticks\": \"\"}}, \"type\": \"scatterternary\"}], \"surface\": [{\"colorbar\": {\"outlinewidth\": 0, \"ticks\": \"\"}, \"colorscale\": [[0.0, \"#0d0887\"], [0.1111111111111111, \"#46039f\"], [0.2222222222222222, \"#7201a8\"], [0.3333333333333333, \"#9c179e\"], [0.4444444444444444, \"#bd3786\"], [0.5555555555555556, \"#d8576b\"], [0.6666666666666666, \"#ed7953\"], [0.7777777777777778, \"#fb9f3a\"], [0.8888888888888888, \"#fdca26\"], [1.0, \"#f0f921\"]], \"type\": \"surface\"}], \"table\": [{\"cells\": {\"fill\": {\"color\": \"#EBF0F8\"}, \"line\": {\"color\": \"white\"}}, \"header\": {\"fill\": {\"color\": \"#C8D4E3\"}, \"line\": {\"color\": \"white\"}}, \"type\": \"table\"}]}, \"layout\": {\"annotationdefaults\": {\"arrowcolor\": \"#2a3f5f\", \"arrowhead\": 0, \"arrowwidth\": 1}, \"autotypenumbers\": \"strict\", \"coloraxis\": {\"colorbar\": {\"outlinewidth\": 0, \"ticks\": \"\"}}, \"colorscale\": {\"diverging\": [[0, \"#8e0152\"], [0.1, \"#c51b7d\"], [0.2, \"#de77ae\"], [0.3, \"#f1b6da\"], [0.4, \"#fde0ef\"], [0.5, \"#f7f7f7\"], [0.6, \"#e6f5d0\"], [0.7, \"#b8e186\"], [0.8, \"#7fbc41\"], [0.9, \"#4d9221\"], [1, \"#276419\"]], \"sequential\": [[0.0, \"#0d0887\"], [0.1111111111111111, \"#46039f\"], [0.2222222222222222, \"#7201a8\"], [0.3333333333333333, \"#9c179e\"], [0.4444444444444444, \"#bd3786\"], [0.5555555555555556, \"#d8576b\"], [0.6666666666666666, \"#ed7953\"], [0.7777777777777778, \"#fb9f3a\"], [0.8888888888888888, \"#fdca26\"], [1.0, \"#f0f921\"]], \"sequentialminus\": [[0.0, \"#0d0887\"], [0.1111111111111111, \"#46039f\"], [0.2222222222222222, \"#7201a8\"], [0.3333333333333333, \"#9c179e\"], [0.4444444444444444, \"#bd3786\"], [0.5555555555555556, \"#d8576b\"], [0.6666666666666666, \"#ed7953\"], [0.7777777777777778, \"#fb9f3a\"], [0.8888888888888888, \"#fdca26\"], [1.0, \"#f0f921\"]]}, \"colorway\": [\"#636efa\", \"#EF553B\", \"#00cc96\", \"#ab63fa\", \"#FFA15A\", \"#19d3f3\", \"#FF6692\", \"#B6E880\", \"#FF97FF\", \"#FECB52\"], \"font\": {\"color\": \"#2a3f5f\"}, \"geo\": {\"bgcolor\": \"white\", \"lakecolor\": \"white\", \"landcolor\": \"#E5ECF6\", \"showlakes\": true, \"showland\": true, \"subunitcolor\": \"white\"}, \"hoverlabel\": {\"align\": \"left\"}, \"hovermode\": \"closest\", \"mapbox\": {\"style\": \"light\"}, \"paper_bgcolor\": \"white\", \"plot_bgcolor\": \"#E5ECF6\", \"polar\": {\"angularaxis\": {\"gridcolor\": \"white\", \"linecolor\": \"white\", \"ticks\": \"\"}, \"bgcolor\": \"#E5ECF6\", \"radialaxis\": {\"gridcolor\": \"white\", \"linecolor\": \"white\", \"ticks\": \"\"}}, \"scene\": {\"xaxis\": {\"backgroundcolor\": \"#E5ECF6\", \"gridcolor\": \"white\", \"gridwidth\": 2, \"linecolor\": \"white\", \"showbackground\": true, \"ticks\": \"\", \"zerolinecolor\": \"white\"}, \"yaxis\": {\"backgroundcolor\": \"#E5ECF6\", \"gridcolor\": \"white\", \"gridwidth\": 2, \"linecolor\": \"white\", \"showbackground\": true, \"ticks\": \"\", \"zerolinecolor\": \"white\"}, \"zaxis\": {\"backgroundcolor\": \"#E5ECF6\", \"gridcolor\": \"white\", \"gridwidth\": 2, \"linecolor\": \"white\", \"showbackground\": true, \"ticks\": \"\", \"zerolinecolor\": \"white\"}}, \"shapedefaults\": {\"line\": {\"color\": \"#2a3f5f\"}}, \"ternary\": {\"aaxis\": {\"gridcolor\": \"white\", \"linecolor\": \"white\", \"ticks\": \"\"}, \"baxis\": {\"gridcolor\": \"white\", \"linecolor\": \"white\", \"ticks\": \"\"}, \"bgcolor\": \"#E5ECF6\", \"caxis\": {\"gridcolor\": \"white\", \"linecolor\": \"white\", \"ticks\": \"\"}}, \"title\": {\"x\": 0.05}, \"xaxis\": {\"automargin\": true, \"gridcolor\": \"white\", \"linecolor\": \"white\", \"ticks\": \"\", \"title\": {\"standoff\": 15}, \"zerolinecolor\": \"white\", \"zerolinewidth\": 2}, \"yaxis\": {\"automargin\": true, \"gridcolor\": \"white\", \"linecolor\": \"white\", \"ticks\": \"\", \"title\": {\"standoff\": 15}, \"zerolinecolor\": \"white\", \"zerolinewidth\": 2}}}, \"title\": {\"text\": \"False negative (Nruns = 25)\"}, \"width\": 1096.3793066666667, \"yaxis\": {\"title\": {\"text\": \"Counts\"}}},                        {\"responsive\": true}                    ).then(function(){\n",
       "                            \n",
       "var gd = document.getElementById('3bdb4b81-53fc-4f98-8fd3-bc7fb3bc5042');\n",
       "var x = new MutationObserver(function (mutations, observer) {{\n",
       "        var display = window.getComputedStyle(gd).display;\n",
       "        if (!display || display === 'none') {{\n",
       "            console.log([gd, 'removed!']);\n",
       "            Plotly.purge(gd);\n",
       "            observer.disconnect();\n",
       "        }}\n",
       "}});\n",
       "\n",
       "// Listen for the removal of the full notebook cells\n",
       "var notebookContainer = gd.closest('#notebook-container');\n",
       "if (notebookContainer) {{\n",
       "    x.observe(notebookContainer, {childList: true});\n",
       "}}\n",
       "\n",
       "// Listen for the clearing of the current output cell\n",
       "var outputEl = gd.closest('.output');\n",
       "if (outputEl) {{\n",
       "    x.observe(outputEl, {childList: true});\n",
       "}}\n",
       "\n",
       "                        })                };                });            </script>        </div>"
      ]
     },
     "metadata": {},
     "output_type": "display_data"
    }
   ],
   "source": [
    "visualize.plot_confusion_metrics(SupervisedModels, prettyNames, trainingData,\n",
    "                                 k = numberSplits,\n",
    "                                 n = numberRuns, \n",
    "                       prettyNames = prettyNames,\n",
    "                             numPC = numberOfPrincipalComponents,\n",
    "                          approach = InsertApproach)"
   ]
  },
  {
   "cell_type": "code",
   "execution_count": 26,
   "metadata": {
    "scrolled": false
   },
   "outputs": [
    {
     "data": {
      "image/png": "[encoded data removed]",
      "text/plain": [
       "<Figure size 307.205x189.863 with 1 Axes>"
      ]
     },
     "metadata": {
      "needs_background": "light"
     },
     "output_type": "display_data"
    },
    {
     "data": {
      "image/png": "[encoded data removed]",
      "text/plain": [
       "<Figure size 307.205x189.863 with 1 Axes>"
      ]
     },
     "metadata": {
      "needs_background": "light"
     },
     "output_type": "display_data"
    },
    {
     "data": {
      "image/png": "[encoded data removed]",
      "text/plain": [
       "<Figure size 307.205x189.863 with 1 Axes>"
      ]
     },
     "metadata": {
      "needs_background": "light"
     },
     "output_type": "display_data"
    },
    {
     "data": {
      "image/png": "[encoded data removed]",
      "text/plain": [
       "<Figure size 307.205x189.863 with 1 Axes>"
      ]
     },
     "metadata": {
      "needs_background": "light"
     },
     "output_type": "display_data"
    }
   ],
   "source": [
    "visualize.confusion_matrixQT(SupervisedModels, trainingTarget,                      \n",
    "                             prettyNames = prettyNames,\n",
    "                           numPC = numberOfPrincipalComponents,\n",
    "                        approach = InsertApproach)"
   ]
  },
  {
   "cell_type": "code",
   "execution_count": null,
   "metadata": {},
   "outputs": [],
   "source": []
  },
  {
   "cell_type": "code",
   "execution_count": 27,
   "metadata": {},
   "outputs": [
    {
     "data": {
      "text/markdown": [
       "# Predicting solid-state qubit candidates\n",
       "\n",
       "It is time to make the prediction based on the best estimators and features possible. The information of each optimal estimator is stored within the algorithm as pipeline objects. \n"
      ],
      "text/plain": [
       "<IPython.core.display.Markdown object>"
      ]
     },
     "metadata": {},
     "output_type": "display_data"
    },
    {
     "data": {
      "text/html": [
       "\n",
       "        <script>\n",
       "            function code_toggle_17879102701353425435() {\n",
       "                $('div.cell.code_cell.rendered.selected').find('div.input').toggle();\n",
       "            }\n",
       "\n",
       "            \n",
       "        </script>\n",
       "\n",
       "        <a href=\"javascript:code_toggle_17879102701353425435()\">Toggle show/hide</a>\n",
       "    "
      ],
      "text/plain": [
       "<IPython.core.display.HTML object>"
      ]
     },
     "execution_count": 27,
     "metadata": {},
     "output_type": "execute_result"
    }
   ],
   "source": [
    "from IPython.display import display, Markdown\n",
    "\n",
    "with open(Path.cwd().parent.parent.parent / \"src\" / \"notebookcodesnippets\" / \"supervised\" / \"predictions.md\", 'r') as fh:\n",
    "    content = fh.read()\n",
    "\n",
    "display(Markdown(content))\n",
    "hide_toggle()"
   ]
  },
  {
   "cell_type": "code",
   "execution_count": 28,
   "metadata": {},
   "outputs": [
    {
     "name": "stderr",
     "output_type": "stream",
     "text": [
      "4it [00:02,  1.40it/s]\n"
     ]
    }
   ],
   "source": [
    "Summary                 = pd.DataFrame({}, dtype=\"string\")\n",
    "Summary[\"material_id\"]  = testSet[\"material_id\"]\n",
    "Summary[\"full_formula\"] = testSet[\"full_formula\"]\n",
    "Summary[\"pretty_formula\"] = testSet[\"pretty_formula\"]\n",
    "\n",
    "PredictedCandidates = pd.Series({}, dtype=\"string\")\n",
    "\n",
    "#threshold = numberSplits*numberRuns/2 #50% when equal\n",
    "trainSet = trainingData.drop([\"material_id\", \"full_formula\"], axis=1)\n",
    "testData = testSet.drop([\"pretty_formula\", \"candidate\", \"full_formula\", \"material_id\"], axis=1)\n",
    "fittedAlgorithms = [] \n",
    "\n",
    "for i, algorithm in tqdm(enumerate(Algorithms)):\n",
    "    \n",
    "    # Train the final model with the best estimators\n",
    "    fittedAlgorithm = train_model.fitAlgorithm(algorithm, \n",
    "                                    trainingData   = trainSet,#trainSet[trainSet.columns[SupervisedModels[Abbreviations[i]][\"importantKeys\"]>threshold]],\\\n",
    "                                    trainingTarget = trainingTarget.values.reshape(-1,),)\n",
    "    \n",
    "    fittedAlgorithms.append(fittedAlgorithm)\n",
    "    \n",
    "    # Predict the final model on unseen data\n",
    "    PredictedCandidates[Abbreviations[i]],\\\n",
    "    PredictedCandidates[Abbreviations[i]+\"Prob\"] = predict_model.runPredictions(fittedAlgorithm,\\\n",
    "                                                        testData = testData)#[testData.columns[SupervisedModels[Abbreviations[i]][\"importantKeys\"]>threshold]])"
   ]
  },
  {
   "cell_type": "code",
   "execution_count": 29,
   "metadata": {},
   "outputs": [
    {
     "name": "stdout",
     "output_type": "stream",
     "text": [
      "LOG  predict the number of candidates as: 842\n",
      "DT  predict the number of candidates as: 1197\n",
      "RF  predict the number of candidates as: 543\n",
      "GB  predict the number of candidates as: 596\n"
     ]
    }
   ],
   "source": [
    "for abbreviation in Abbreviations:\n",
    "    Summary[abbreviation]            = PredictedCandidates[abbreviation]\n",
    "    Summary[abbreviation + \"Prob\"]   = PredictedCandidates[abbreviation + \"Prob\"]\n",
    "    print(\"{} predict the number of candidates as: {}\".format(abbreviation, int(np.sum(PredictedCandidates[abbreviation]))))"
   ]
  },
  {
   "cell_type": "code",
   "execution_count": 30,
   "metadata": {},
   "outputs": [
    {
     "data": {
      "text/html": [
       "<div>\n",
       "<style scoped>\n",
       "    .dataframe tbody tr th:only-of-type {\n",
       "        vertical-align: middle;\n",
       "    }\n",
       "\n",
       "    .dataframe tbody tr th {\n",
       "        vertical-align: top;\n",
       "    }\n",
       "\n",
       "    .dataframe thead th {\n",
       "        text-align: right;\n",
       "    }\n",
       "</style>\n",
       "<table border=\"1\" class=\"dataframe\">\n",
       "  <thead>\n",
       "    <tr style=\"text-align: right;\">\n",
       "      <th></th>\n",
       "      <th>material_id</th>\n",
       "      <th>full_formula</th>\n",
       "      <th>pretty_formula</th>\n",
       "      <th>LOG</th>\n",
       "      <th>LOG Prob</th>\n",
       "      <th>DT</th>\n",
       "      <th>DT Prob</th>\n",
       "      <th>RF</th>\n",
       "      <th>RF Prob</th>\n",
       "      <th>GB</th>\n",
       "      <th>GB Prob</th>\n",
       "    </tr>\n",
       "  </thead>\n",
       "  <tbody>\n",
       "    <tr>\n",
       "      <th>589</th>\n",
       "      <td>mvc-12905</td>\n",
       "      <td>Fe4O8</td>\n",
       "      <td>FeO2</td>\n",
       "      <td>0.0</td>\n",
       "      <td>0.039074</td>\n",
       "      <td>0.0</td>\n",
       "      <td>0.0</td>\n",
       "      <td>0.0</td>\n",
       "      <td>0.122546</td>\n",
       "      <td>0.0</td>\n",
       "      <td>0.000084</td>\n",
       "    </tr>\n",
       "    <tr>\n",
       "      <th>590</th>\n",
       "      <td>mp-7</td>\n",
       "      <td>S6</td>\n",
       "      <td>S</td>\n",
       "      <td>1.0</td>\n",
       "      <td>0.978347</td>\n",
       "      <td>1.0</td>\n",
       "      <td>1.0</td>\n",
       "      <td>1.0</td>\n",
       "      <td>0.583934</td>\n",
       "      <td>1.0</td>\n",
       "      <td>0.998227</td>\n",
       "    </tr>\n",
       "    <tr>\n",
       "      <th>591</th>\n",
       "      <td>mp-14</td>\n",
       "      <td>Se3</td>\n",
       "      <td>Se</td>\n",
       "      <td>1.0</td>\n",
       "      <td>0.996969</td>\n",
       "      <td>1.0</td>\n",
       "      <td>1.0</td>\n",
       "      <td>1.0</td>\n",
       "      <td>0.747606</td>\n",
       "      <td>1.0</td>\n",
       "      <td>0.999798</td>\n",
       "    </tr>\n",
       "    <tr>\n",
       "      <th>592</th>\n",
       "      <td>mp-19</td>\n",
       "      <td>Te3</td>\n",
       "      <td>Te</td>\n",
       "      <td>1.0</td>\n",
       "      <td>0.995230</td>\n",
       "      <td>1.0</td>\n",
       "      <td>1.0</td>\n",
       "      <td>1.0</td>\n",
       "      <td>0.720981</td>\n",
       "      <td>1.0</td>\n",
       "      <td>0.999888</td>\n",
       "    </tr>\n",
       "    <tr>\n",
       "      <th>593</th>\n",
       "      <td>mp-25</td>\n",
       "      <td>N8</td>\n",
       "      <td>N2</td>\n",
       "      <td>1.0</td>\n",
       "      <td>0.977147</td>\n",
       "      <td>1.0</td>\n",
       "      <td>1.0</td>\n",
       "      <td>1.0</td>\n",
       "      <td>0.596804</td>\n",
       "      <td>1.0</td>\n",
       "      <td>0.957901</td>\n",
       "    </tr>\n",
       "    <tr>\n",
       "      <th>...</th>\n",
       "      <td>...</td>\n",
       "      <td>...</td>\n",
       "      <td>...</td>\n",
       "      <td>...</td>\n",
       "      <td>...</td>\n",
       "      <td>...</td>\n",
       "      <td>...</td>\n",
       "      <td>...</td>\n",
       "      <td>...</td>\n",
       "      <td>...</td>\n",
       "      <td>...</td>\n",
       "    </tr>\n",
       "    <tr>\n",
       "      <th>25128</th>\n",
       "      <td>mp-1293833</td>\n",
       "      <td>0</td>\n",
       "      <td>0</td>\n",
       "      <td>0.0</td>\n",
       "      <td>0.000862</td>\n",
       "      <td>0.0</td>\n",
       "      <td>0.0</td>\n",
       "      <td>0.0</td>\n",
       "      <td>0.008821</td>\n",
       "      <td>0.0</td>\n",
       "      <td>0.000084</td>\n",
       "    </tr>\n",
       "    <tr>\n",
       "      <th>25129</th>\n",
       "      <td>mp-1296711</td>\n",
       "      <td>La2Co2O6</td>\n",
       "      <td>LaCoO3</td>\n",
       "      <td>0.0</td>\n",
       "      <td>0.011056</td>\n",
       "      <td>0.0</td>\n",
       "      <td>0.0</td>\n",
       "      <td>0.0</td>\n",
       "      <td>0.175604</td>\n",
       "      <td>0.0</td>\n",
       "      <td>0.000084</td>\n",
       "    </tr>\n",
       "    <tr>\n",
       "      <th>25130</th>\n",
       "      <td>mp-1299874</td>\n",
       "      <td>Li4La16Co4O32</td>\n",
       "      <td>LiLa4CoO8</td>\n",
       "      <td>0.0</td>\n",
       "      <td>0.007259</td>\n",
       "      <td>0.0</td>\n",
       "      <td>0.0</td>\n",
       "      <td>0.0</td>\n",
       "      <td>0.164529</td>\n",
       "      <td>0.0</td>\n",
       "      <td>0.000084</td>\n",
       "    </tr>\n",
       "    <tr>\n",
       "      <th>25131</th>\n",
       "      <td>mp-1304797</td>\n",
       "      <td>Sr12In4Ni4O24</td>\n",
       "      <td>Sr3InNiO6</td>\n",
       "      <td>0.0</td>\n",
       "      <td>0.003926</td>\n",
       "      <td>0.0</td>\n",
       "      <td>0.0</td>\n",
       "      <td>0.0</td>\n",
       "      <td>0.023569</td>\n",
       "      <td>0.0</td>\n",
       "      <td>0.000084</td>\n",
       "    </tr>\n",
       "    <tr>\n",
       "      <th>25132</th>\n",
       "      <td>mp-1542038</td>\n",
       "      <td>Cs2Sn2Se6</td>\n",
       "      <td>CsSnSe3</td>\n",
       "      <td>0.0</td>\n",
       "      <td>0.003741</td>\n",
       "      <td>0.0</td>\n",
       "      <td>0.0</td>\n",
       "      <td>0.0</td>\n",
       "      <td>0.140521</td>\n",
       "      <td>0.0</td>\n",
       "      <td>0.000356</td>\n",
       "    </tr>\n",
       "  </tbody>\n",
       "</table>\n",
       "<p>24544 rows × 11 columns</p>\n",
       "</div>"
      ],
      "text/plain": [
       "      material_id   full_formula pretty_formula  LOG   LOG Prob  DT   DT Prob  \\\n",
       "589     mvc-12905          Fe4O8           FeO2   0.0  0.039074  0.0      0.0   \n",
       "590          mp-7             S6              S   1.0  0.978347  1.0      1.0   \n",
       "591         mp-14            Se3             Se   1.0  0.996969  1.0      1.0   \n",
       "592         mp-19            Te3             Te   1.0  0.995230  1.0      1.0   \n",
       "593         mp-25             N8             N2   1.0  0.977147  1.0      1.0   \n",
       "...           ...            ...            ...   ...       ...  ...      ...   \n",
       "25128  mp-1293833              0              0   0.0  0.000862  0.0      0.0   \n",
       "25129  mp-1296711       La2Co2O6         LaCoO3   0.0  0.011056  0.0      0.0   \n",
       "25130  mp-1299874  Li4La16Co4O32      LiLa4CoO8   0.0  0.007259  0.0      0.0   \n",
       "25131  mp-1304797  Sr12In4Ni4O24      Sr3InNiO6   0.0  0.003926  0.0      0.0   \n",
       "25132  mp-1542038      Cs2Sn2Se6        CsSnSe3   0.0  0.003741  0.0      0.0   \n",
       "\n",
       "       RF    RF Prob  GB    GB Prob  \n",
       "589    0.0  0.122546  0.0  0.000084  \n",
       "590    1.0  0.583934  1.0  0.998227  \n",
       "591    1.0  0.747606  1.0  0.999798  \n",
       "592    1.0  0.720981  1.0  0.999888  \n",
       "593    1.0  0.596804  1.0  0.957901  \n",
       "...    ...       ...  ...       ...  \n",
       "25128  0.0  0.008821  0.0  0.000084  \n",
       "25129  0.0  0.175604  0.0  0.000084  \n",
       "25130  0.0  0.164529  0.0  0.000084  \n",
       "25131  0.0  0.023569  0.0  0.000084  \n",
       "25132  0.0  0.140521  0.0  0.000356  \n",
       "\n",
       "[24544 rows x 11 columns]"
      ]
     },
     "execution_count": 30,
     "metadata": {},
     "output_type": "execute_result"
    }
   ],
   "source": [
    "Summary"
   ]
  },
  {
   "cell_type": "code",
   "execution_count": 31,
   "metadata": {},
   "outputs": [
    {
     "data": {
      "text/markdown": [
       "## Save the summary and models\n"
      ],
      "text/plain": [
       "<IPython.core.display.Markdown object>"
      ]
     },
     "metadata": {},
     "output_type": "display_data"
    },
    {
     "data": {
      "text/html": [
       "\n",
       "        <script>\n",
       "            function code_toggle_18113156415621811325() {\n",
       "                $('div.cell.code_cell.rendered.selected').find('div.input').toggle();\n",
       "            }\n",
       "\n",
       "            \n",
       "        </script>\n",
       "\n",
       "        <a href=\"javascript:code_toggle_18113156415621811325()\">Toggle show/hide</a>\n",
       "    "
      ],
      "text/plain": [
       "<IPython.core.display.HTML object>"
      ]
     },
     "execution_count": 31,
     "metadata": {},
     "output_type": "execute_result"
    }
   ],
   "source": [
    "from IPython.display import display, Markdown\n",
    "\n",
    "with open(Path.cwd().parent.parent.parent / \"src\" / \"notebookcodesnippets\" / \"supervised\" / \"save.md\", 'r') as fh:\n",
    "    content = fh.read()\n",
    "\n",
    "display(Markdown(content))\n",
    "hide_toggle()"
   ]
  },
  {
   "cell_type": "code",
   "execution_count": 32,
   "metadata": {},
   "outputs": [
    {
     "name": "stderr",
     "output_type": "stream",
     "text": [
      "4it [00:00, 449.15it/s]\n"
     ]
    }
   ],
   "source": [
    "for i, fitted_algorithm in tqdm(enumerate(fittedAlgorithms)):\n",
    "    file_path = Path(models_dir / InsertApproach / \"trained-models\" / Path(\"PCA-\" + str(numberOfPrincipalComponents) + \"-\" + prettyNames[i] + \".pkl\"))\n",
    "    with file_path.open(\"wb\") as fp:\n",
    "        pickle.dump(fitted_algorithm, fp)\n",
    "        \n",
    "file_path = Path(models_dir / InsertApproach /  \"summary\" / Path(\"PCA-\" + str(numberOfPrincipalComponents) + \"-\" + \"summary.pkl\"))\n",
    "with file_path.open(\"wb\") as fp:\n",
    "        pickle.dump(Summary, fp)"
   ]
  },
  {
   "cell_type": "code",
   "execution_count": null,
   "metadata": {},
   "outputs": [],
   "source": []
  }
 ],
 "metadata": {
  "kernelspec": {
   "display_name": "Python 3 (ipykernel)",
   "language": "python",
   "name": "python3"
  },
  "language_info": {
   "codemirror_mode": {
    "name": "ipython",
    "version": 3
   },
   "file_extension": ".py",
   "mimetype": "text/x-python",
   "name": "python",
   "nbconvert_exporter": "python",
   "pygments_lexer": "ipython3",
   "version": "3.8.12"
  }
 },
 "nbformat": 4,
 "nbformat_minor": 4
}
