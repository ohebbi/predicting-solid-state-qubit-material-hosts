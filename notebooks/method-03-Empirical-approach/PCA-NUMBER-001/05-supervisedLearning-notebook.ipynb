{
 "cells": [
  {
   "cell_type": "code",
   "execution_count": 1,
   "metadata": {},
   "outputs": [
    {
     "data": {
      "text/html": [
       "\n",
       "        <script>\n",
       "            function code_toggle_6555033901778576826() {\n",
       "                $('div.cell.code_cell.rendered.selected').find('div.input').toggle();\n",
       "            }\n",
       "\n",
       "            \n",
       "        </script>\n",
       "\n",
       "        <a href=\"javascript:code_toggle_6555033901778576826()\">Toggle show/hide</a>\n",
       "    "
      ],
      "text/plain": [
       "<IPython.core.display.HTML object>"
      ]
     },
     "execution_count": 1,
     "metadata": {},
     "output_type": "execute_result"
    }
   ],
   "source": [
    "from pathlib import Path\n",
    "from src.notebookcodesnippets.hideInputs import hide_toggle \n",
    "\n",
    "hide_toggle()"
   ]
  },
  {
   "cell_type": "code",
   "execution_count": 2,
   "metadata": {},
   "outputs": [
    {
     "data": {
      "text/markdown": [
       "# 05-Supervised learning\n",
       "\n",
       "In this notebook we will train a model based on the previous 4 notebooks. This includes inspecting, finding the optimal hyperparameters (with many visualizations) and finally predict with the optimal model that has been found. This notebook is the same as every other supervised notebook in this project, but differs in training set, principal components and results. Therefore, to provide easy implementations, the notebook has been made modular to a certain degree, in particular for further implementation of other machine learning algorithms. It should be relatively straight forward to add more algorithms.\n",
       "\n",
       "## Table of contents\n",
       "\n",
       "- Imports and reading of data\n",
       "- Algorithms\n",
       "- Methods for finding optimal hyperparameters\n",
       "- Optimal hyperparameter search\n",
       "    - Visualizing the optimal parameters for dimensionality reduction\n",
       "    - Visualizing confusion metrics\n",
       "    - ROC-AUC  and precision recall curves\n",
       "    - Visualizing the cross-validated trained models\n",
       "    - Visualizing relevant features\n",
       "    - Falsely predicted entries\n",
       "- Predicting solid-state qubit candidates\n",
       "    - Save the summary and models\n",
       "\n",
       "The cell under provides the editorial difference between the different supervised notebooks in this project. \n"
      ],
      "text/plain": [
       "<IPython.core.display.Markdown object>"
      ]
     },
     "metadata": {},
     "output_type": "display_data"
    },
    {
     "data": {
      "text/html": [
       "\n",
       "        <script>\n",
       "            function code_toggle_305821952701964329() {\n",
       "                $('div.cell.code_cell.rendered.selected').find('div.input').toggle();\n",
       "            }\n",
       "\n",
       "            \n",
       "        </script>\n",
       "\n",
       "        <a href=\"javascript:code_toggle_305821952701964329()\">Toggle show/hide</a>\n",
       "    "
      ],
      "text/plain": [
       "<IPython.core.display.HTML object>"
      ]
     },
     "execution_count": 2,
     "metadata": {},
     "output_type": "execute_result"
    }
   ],
   "source": [
    "from IPython.display import display, Markdown\n",
    "\n",
    "with open(Path.cwd().parent.parent.parent / \"src\" / \"notebookcodesnippets\" / \"supervised\" / \"intro.md\", 'r') as fh:\n",
    "    content = fh.read()\n",
    "\n",
    "display(Markdown(content))\n",
    "hide_toggle()"
   ]
  },
  {
   "cell_type": "code",
   "execution_count": 3,
   "metadata": {},
   "outputs": [],
   "source": [
    "title = \"Insightful approach\"\n",
    "InsertApproach = \"03-insightful-approach\"\n",
    "numberOfPrincipalComponents = 1"
   ]
  },
  {
   "cell_type": "markdown",
   "metadata": {},
   "source": [
    "# Imports and reading of data\n",
    "\n",
    "Most of the code used in this notebook is found in the src library."
   ]
  },
  {
   "cell_type": "code",
   "execution_count": 4,
   "metadata": {},
   "outputs": [
    {
     "data": {
      "text/html": [
       "\n",
       "        <script>\n",
       "            function code_toggle_4012584143336885646() {\n",
       "                $('div.cell.code_cell.rendered.selected').find('div.input').toggle();\n",
       "            }\n",
       "\n",
       "            \n",
       "        </script>\n",
       "\n",
       "        <a href=\"javascript:code_toggle_4012584143336885646()\">Toggle show/hide</a>\n",
       "    "
      ],
      "text/plain": [
       "<IPython.core.display.HTML object>"
      ]
     },
     "execution_count": 4,
     "metadata": {},
     "output_type": "execute_result"
    }
   ],
   "source": [
    "# Optional: Load the \"autoreload\" extension so that code can change\n",
    "%load_ext autoreload\n",
    "\n",
    "#OPTIONAL: Always reload modules so that as you change code in src, it gets loaded\n",
    "%autoreload 2\n",
    "\n",
    "hide_toggle()"
   ]
  },
  {
   "cell_type": "code",
   "execution_count": 5,
   "metadata": {},
   "outputs": [
    {
     "name": "stdout",
     "output_type": "stream",
     "text": [
      "Current data directory /home/oliver/Dokumenter/masterprosjekt/predicting-solid-state-qubit-candidates/data\n",
      "\n",
      "If you use the ChemEnv tool for your research, please consider citing the following reference(s) :\n",
      "==================================================================================================\n",
      "David Waroquiers, Xavier Gonze, Gian-Marco Rignanese, Cathrin Welker-Nieuwoudt, Frank Rosowski,\n",
      "Michael Goebel, Stephan Schenk, Peter Degelmann, Rute Andre, Robert Glaum, and Geoffroy Hautier,\n",
      "\"Statistical analysis of coordination environments in oxides\",\n",
      "Chem. Mater., 2017, 29 (19), pp 8346-8360,\n",
      "DOI: 10.1021/acs.chemmater.7b02766\n",
      "\n"
     ]
    },
    {
     "data": {
      "text/html": [
       "\n",
       "        <script>\n",
       "            function code_toggle_17288261718810759281() {\n",
       "                $('div.cell.code_cell.rendered.selected').find('div.input').toggle();\n",
       "            }\n",
       "\n",
       "            \n",
       "        </script>\n",
       "\n",
       "        <a href=\"javascript:code_toggle_17288261718810759281()\">Toggle show/hide</a>\n",
       "    "
      ],
      "text/plain": [
       "<IPython.core.display.HTML object>"
      ]
     },
     "execution_count": 5,
     "metadata": {},
     "output_type": "execute_result"
    }
   ],
   "source": [
    "import sys\n",
    "sys.path.insert(0, \"../\")\n",
    "\n",
    "data_dir = Path.cwd().parent.parent.parent / \"data\"\n",
    "print(\"Current data directory {}\".format(data_dir))\n",
    "models_dir = Path.cwd().parent.parent.parent / \"models\" \n",
    "\n",
    "# src\n",
    "from src.models import train_model, predict_model\n",
    "from src.features import build_features\n",
    "from src.visualization import visualize\n",
    "\n",
    "#Standard libraries\n",
    "import numpy as np\n",
    "import pandas as pd\n",
    "import pickle\n",
    "\n",
    "#Models\n",
    "from sklearn.ensemble import RandomForestClassifier, GradientBoostingClassifier\n",
    "from sklearn.linear_model import LogisticRegression\n",
    "from sklearn.tree import DecisionTreeClassifier\n",
    "\n",
    "# CV\n",
    "from sklearn.model_selection import RepeatedStratifiedKFold\n",
    "\n",
    "#visualizations\n",
    "import plotly.graph_objs as go\n",
    "from tqdm import tqdm\n",
    "\n",
    "# setting random seed for reproducibility\n",
    "random_state=1\n",
    "hide_toggle()"
   ]
  },
  {
   "cell_type": "code",
   "execution_count": 6,
   "metadata": {},
   "outputs": [
    {
     "data": {
      "text/html": [
       "<div>\n",
       "<style scoped>\n",
       "    .dataframe tbody tr th:only-of-type {\n",
       "        vertical-align: middle;\n",
       "    }\n",
       "\n",
       "    .dataframe tbody tr th {\n",
       "        vertical-align: top;\n",
       "    }\n",
       "\n",
       "    .dataframe thead th {\n",
       "        text-align: right;\n",
       "    }\n",
       "</style>\n",
       "<table border=\"1\" class=\"dataframe\">\n",
       "  <thead>\n",
       "    <tr style=\"text-align: right;\">\n",
       "      <th></th>\n",
       "      <th>material_id</th>\n",
       "      <th>full_formula</th>\n",
       "      <th>AtomicOrbitals|HOMO_character</th>\n",
       "      <th>AtomicOrbitals|HOMO_element</th>\n",
       "      <th>AtomicOrbitals|HOMO_energy</th>\n",
       "      <th>AtomicOrbitals|LUMO_character</th>\n",
       "      <th>AtomicOrbitals|LUMO_element</th>\n",
       "      <th>AtomicOrbitals|LUMO_energy</th>\n",
       "      <th>AtomicPackingEfficiency|dist from 1 clusters |APE| &lt; 0.010</th>\n",
       "      <th>AtomicPackingEfficiency|dist from 3 clusters |APE| &lt; 0.010</th>\n",
       "      <th>...</th>\n",
       "      <th>AFLOWML|ml_ael_bulk_modulus_vrh</th>\n",
       "      <th>AFLOWML|ml_ael_shear_modulus_vrh</th>\n",
       "      <th>AFLOWML|ml_agl_debye</th>\n",
       "      <th>AFLOWML|ml_agl_heat_capacity_Cp_300K</th>\n",
       "      <th>AFLOWML|ml_agl_heat_capacity_Cp_300K_per_atom</th>\n",
       "      <th>AFLOWML|ml_agl_heat_capacity_Cv_300K</th>\n",
       "      <th>AFLOWML|ml_agl_heat_capacity_Cv_300K_per_atom</th>\n",
       "      <th>AFLOWML|ml_agl_thermal_conductivity_300K</th>\n",
       "      <th>AFLOWML|ml_agl_thermal_expansion_300K</th>\n",
       "      <th>AFLOWML|ml_egap_type_Insulator</th>\n",
       "    </tr>\n",
       "  </thead>\n",
       "  <tbody>\n",
       "    <tr>\n",
       "      <th>0</th>\n",
       "      <td>mvc-12905</td>\n",
       "      <td>Fe4O8</td>\n",
       "      <td>3.0</td>\n",
       "      <td>26</td>\n",
       "      <td>-0.295049</td>\n",
       "      <td>3.0</td>\n",
       "      <td>26</td>\n",
       "      <td>-0.295049</td>\n",
       "      <td>0.040992</td>\n",
       "      <td>0.067233</td>\n",
       "      <td>...</td>\n",
       "      <td>131.745</td>\n",
       "      <td>74.980</td>\n",
       "      <td>559.793</td>\n",
       "      <td>29.522</td>\n",
       "      <td>2.614</td>\n",
       "      <td>29.011</td>\n",
       "      <td>2.488</td>\n",
       "      <td>2.762</td>\n",
       "      <td>0.000060</td>\n",
       "      <td>1</td>\n",
       "    </tr>\n",
       "    <tr>\n",
       "      <th>1</th>\n",
       "      <td>mp-24</td>\n",
       "      <td>C8</td>\n",
       "      <td>2.0</td>\n",
       "      <td>6</td>\n",
       "      <td>-0.199186</td>\n",
       "      <td>2.0</td>\n",
       "      <td>6</td>\n",
       "      <td>-0.199186</td>\n",
       "      <td>1.000000</td>\n",
       "      <td>1.000000</td>\n",
       "      <td>...</td>\n",
       "      <td>382.355</td>\n",
       "      <td>490.162</td>\n",
       "      <td>2012.191</td>\n",
       "      <td>4.036</td>\n",
       "      <td>0.679</td>\n",
       "      <td>4.262</td>\n",
       "      <td>0.634</td>\n",
       "      <td>3.043</td>\n",
       "      <td>0.000086</td>\n",
       "      <td>1</td>\n",
       "    </tr>\n",
       "    <tr>\n",
       "      <th>2</th>\n",
       "      <td>mp-47</td>\n",
       "      <td>C4</td>\n",
       "      <td>2.0</td>\n",
       "      <td>6</td>\n",
       "      <td>-0.199186</td>\n",
       "      <td>2.0</td>\n",
       "      <td>6</td>\n",
       "      <td>-0.199186</td>\n",
       "      <td>1.000000</td>\n",
       "      <td>1.000000</td>\n",
       "      <td>...</td>\n",
       "      <td>404.186</td>\n",
       "      <td>521.822</td>\n",
       "      <td>2076.203</td>\n",
       "      <td>1.740</td>\n",
       "      <td>0.629</td>\n",
       "      <td>1.816</td>\n",
       "      <td>0.588</td>\n",
       "      <td>3.223</td>\n",
       "      <td>0.000086</td>\n",
       "      <td>1</td>\n",
       "    </tr>\n",
       "    <tr>\n",
       "      <th>3</th>\n",
       "      <td>mp-66</td>\n",
       "      <td>C2</td>\n",
       "      <td>2.0</td>\n",
       "      <td>6</td>\n",
       "      <td>-0.199186</td>\n",
       "      <td>2.0</td>\n",
       "      <td>6</td>\n",
       "      <td>-0.199186</td>\n",
       "      <td>1.000000</td>\n",
       "      <td>1.000000</td>\n",
       "      <td>...</td>\n",
       "      <td>416.966</td>\n",
       "      <td>505.647</td>\n",
       "      <td>2070.786</td>\n",
       "      <td>1.149</td>\n",
       "      <td>0.658</td>\n",
       "      <td>1.139</td>\n",
       "      <td>0.617</td>\n",
       "      <td>4.279</td>\n",
       "      <td>0.000086</td>\n",
       "      <td>1</td>\n",
       "    </tr>\n",
       "    <tr>\n",
       "      <th>4</th>\n",
       "      <td>mp-149</td>\n",
       "      <td>Si2</td>\n",
       "      <td>2.0</td>\n",
       "      <td>14</td>\n",
       "      <td>-0.153293</td>\n",
       "      <td>2.0</td>\n",
       "      <td>14</td>\n",
       "      <td>-0.153293</td>\n",
       "      <td>1.000000</td>\n",
       "      <td>1.000000</td>\n",
       "      <td>...</td>\n",
       "      <td>79.455</td>\n",
       "      <td>49.213</td>\n",
       "      <td>560.299</td>\n",
       "      <td>5.108</td>\n",
       "      <td>2.666</td>\n",
       "      <td>4.739</td>\n",
       "      <td>2.577</td>\n",
       "      <td>3.417</td>\n",
       "      <td>0.000061</td>\n",
       "      <td>1</td>\n",
       "    </tr>\n",
       "    <tr>\n",
       "      <th>...</th>\n",
       "      <td>...</td>\n",
       "      <td>...</td>\n",
       "      <td>...</td>\n",
       "      <td>...</td>\n",
       "      <td>...</td>\n",
       "      <td>...</td>\n",
       "      <td>...</td>\n",
       "      <td>...</td>\n",
       "      <td>...</td>\n",
       "      <td>...</td>\n",
       "      <td>...</td>\n",
       "      <td>...</td>\n",
       "      <td>...</td>\n",
       "      <td>...</td>\n",
       "      <td>...</td>\n",
       "      <td>...</td>\n",
       "      <td>...</td>\n",
       "      <td>...</td>\n",
       "      <td>...</td>\n",
       "      <td>...</td>\n",
       "      <td>...</td>\n",
       "    </tr>\n",
       "    <tr>\n",
       "      <th>585</th>\n",
       "      <td>mp-1275839</td>\n",
       "      <td>Co4Bi24S8O64</td>\n",
       "      <td>3.0</td>\n",
       "      <td>27</td>\n",
       "      <td>-0.322368</td>\n",
       "      <td>3.0</td>\n",
       "      <td>27</td>\n",
       "      <td>-0.322368</td>\n",
       "      <td>0.034641</td>\n",
       "      <td>0.052087</td>\n",
       "      <td>...</td>\n",
       "      <td>119.163</td>\n",
       "      <td>58.263</td>\n",
       "      <td>362.421</td>\n",
       "      <td>122.952</td>\n",
       "      <td>2.800</td>\n",
       "      <td>118.318</td>\n",
       "      <td>2.709</td>\n",
       "      <td>2.690</td>\n",
       "      <td>0.000052</td>\n",
       "      <td>1</td>\n",
       "    </tr>\n",
       "    <tr>\n",
       "      <th>586</th>\n",
       "      <td>mp-1291058</td>\n",
       "      <td>Sr4Mn2Mo2O12</td>\n",
       "      <td>3.0</td>\n",
       "      <td>25</td>\n",
       "      <td>-0.266540</td>\n",
       "      <td>3.0</td>\n",
       "      <td>25</td>\n",
       "      <td>-0.266540</td>\n",
       "      <td>0.052116</td>\n",
       "      <td>0.058661</td>\n",
       "      <td>...</td>\n",
       "      <td>127.341</td>\n",
       "      <td>81.354</td>\n",
       "      <td>521.151</td>\n",
       "      <td>51.377</td>\n",
       "      <td>2.650</td>\n",
       "      <td>53.364</td>\n",
       "      <td>2.515</td>\n",
       "      <td>2.749</td>\n",
       "      <td>0.000060</td>\n",
       "      <td>0</td>\n",
       "    </tr>\n",
       "    <tr>\n",
       "      <th>587</th>\n",
       "      <td>mp-1291630</td>\n",
       "      <td>Fe12O16</td>\n",
       "      <td>3.0</td>\n",
       "      <td>26</td>\n",
       "      <td>-0.295049</td>\n",
       "      <td>3.0</td>\n",
       "      <td>26</td>\n",
       "      <td>-0.295049</td>\n",
       "      <td>0.091832</td>\n",
       "      <td>0.135247</td>\n",
       "      <td>...</td>\n",
       "      <td>148.954</td>\n",
       "      <td>82.942</td>\n",
       "      <td>521.152</td>\n",
       "      <td>64.432</td>\n",
       "      <td>2.666</td>\n",
       "      <td>63.321</td>\n",
       "      <td>2.496</td>\n",
       "      <td>2.841</td>\n",
       "      <td>0.000060</td>\n",
       "      <td>0</td>\n",
       "    </tr>\n",
       "    <tr>\n",
       "      <th>588</th>\n",
       "      <td>mp-1298346</td>\n",
       "      <td>Sr8Co4O16</td>\n",
       "      <td>3.0</td>\n",
       "      <td>27</td>\n",
       "      <td>-0.322368</td>\n",
       "      <td>3.0</td>\n",
       "      <td>27</td>\n",
       "      <td>-0.322368</td>\n",
       "      <td>0.057864</td>\n",
       "      <td>0.095274</td>\n",
       "      <td>...</td>\n",
       "      <td>123.001</td>\n",
       "      <td>72.603</td>\n",
       "      <td>505.797</td>\n",
       "      <td>34.850</td>\n",
       "      <td>2.733</td>\n",
       "      <td>35.375</td>\n",
       "      <td>2.654</td>\n",
       "      <td>2.725</td>\n",
       "      <td>0.000061</td>\n",
       "      <td>0</td>\n",
       "    </tr>\n",
       "    <tr>\n",
       "      <th>589</th>\n",
       "      <td>mp-1539137</td>\n",
       "      <td>Rb1Cr5S8</td>\n",
       "      <td>3.0</td>\n",
       "      <td>24</td>\n",
       "      <td>-0.118123</td>\n",
       "      <td>3.0</td>\n",
       "      <td>24</td>\n",
       "      <td>-0.118123</td>\n",
       "      <td>0.033111</td>\n",
       "      <td>0.074127</td>\n",
       "      <td>...</td>\n",
       "      <td>62.446</td>\n",
       "      <td>31.222</td>\n",
       "      <td>322.497</td>\n",
       "      <td>39.483</td>\n",
       "      <td>2.957</td>\n",
       "      <td>38.302</td>\n",
       "      <td>2.773</td>\n",
       "      <td>2.708</td>\n",
       "      <td>0.000061</td>\n",
       "      <td>1</td>\n",
       "    </tr>\n",
       "  </tbody>\n",
       "</table>\n",
       "<p>590 rows × 677 columns</p>\n",
       "</div>"
      ],
      "text/plain": [
       "    material_id  full_formula  AtomicOrbitals|HOMO_character  \\\n",
       "0     mvc-12905         Fe4O8                            3.0   \n",
       "1         mp-24            C8                            2.0   \n",
       "2         mp-47            C4                            2.0   \n",
       "3         mp-66            C2                            2.0   \n",
       "4        mp-149           Si2                            2.0   \n",
       "..          ...           ...                            ...   \n",
       "585  mp-1275839  Co4Bi24S8O64                            3.0   \n",
       "586  mp-1291058  Sr4Mn2Mo2O12                            3.0   \n",
       "587  mp-1291630       Fe12O16                            3.0   \n",
       "588  mp-1298346     Sr8Co4O16                            3.0   \n",
       "589  mp-1539137      Rb1Cr5S8                            3.0   \n",
       "\n",
       "     AtomicOrbitals|HOMO_element  AtomicOrbitals|HOMO_energy  \\\n",
       "0                             26                   -0.295049   \n",
       "1                              6                   -0.199186   \n",
       "2                              6                   -0.199186   \n",
       "3                              6                   -0.199186   \n",
       "4                             14                   -0.153293   \n",
       "..                           ...                         ...   \n",
       "585                           27                   -0.322368   \n",
       "586                           25                   -0.266540   \n",
       "587                           26                   -0.295049   \n",
       "588                           27                   -0.322368   \n",
       "589                           24                   -0.118123   \n",
       "\n",
       "     AtomicOrbitals|LUMO_character  AtomicOrbitals|LUMO_element  \\\n",
       "0                              3.0                           26   \n",
       "1                              2.0                            6   \n",
       "2                              2.0                            6   \n",
       "3                              2.0                            6   \n",
       "4                              2.0                           14   \n",
       "..                             ...                          ...   \n",
       "585                            3.0                           27   \n",
       "586                            3.0                           25   \n",
       "587                            3.0                           26   \n",
       "588                            3.0                           27   \n",
       "589                            3.0                           24   \n",
       "\n",
       "     AtomicOrbitals|LUMO_energy  \\\n",
       "0                     -0.295049   \n",
       "1                     -0.199186   \n",
       "2                     -0.199186   \n",
       "3                     -0.199186   \n",
       "4                     -0.153293   \n",
       "..                          ...   \n",
       "585                   -0.322368   \n",
       "586                   -0.266540   \n",
       "587                   -0.295049   \n",
       "588                   -0.322368   \n",
       "589                   -0.118123   \n",
       "\n",
       "     AtomicPackingEfficiency|dist from 1 clusters |APE| < 0.010  \\\n",
       "0                                             0.040992            \n",
       "1                                             1.000000            \n",
       "2                                             1.000000            \n",
       "3                                             1.000000            \n",
       "4                                             1.000000            \n",
       "..                                                 ...            \n",
       "585                                           0.034641            \n",
       "586                                           0.052116            \n",
       "587                                           0.091832            \n",
       "588                                           0.057864            \n",
       "589                                           0.033111            \n",
       "\n",
       "     AtomicPackingEfficiency|dist from 3 clusters |APE| < 0.010  ...  \\\n",
       "0                                             0.067233           ...   \n",
       "1                                             1.000000           ...   \n",
       "2                                             1.000000           ...   \n",
       "3                                             1.000000           ...   \n",
       "4                                             1.000000           ...   \n",
       "..                                                 ...           ...   \n",
       "585                                           0.052087           ...   \n",
       "586                                           0.058661           ...   \n",
       "587                                           0.135247           ...   \n",
       "588                                           0.095274           ...   \n",
       "589                                           0.074127           ...   \n",
       "\n",
       "     AFLOWML|ml_ael_bulk_modulus_vrh  AFLOWML|ml_ael_shear_modulus_vrh  \\\n",
       "0                            131.745                            74.980   \n",
       "1                            382.355                           490.162   \n",
       "2                            404.186                           521.822   \n",
       "3                            416.966                           505.647   \n",
       "4                             79.455                            49.213   \n",
       "..                               ...                               ...   \n",
       "585                          119.163                            58.263   \n",
       "586                          127.341                            81.354   \n",
       "587                          148.954                            82.942   \n",
       "588                          123.001                            72.603   \n",
       "589                           62.446                            31.222   \n",
       "\n",
       "     AFLOWML|ml_agl_debye  AFLOWML|ml_agl_heat_capacity_Cp_300K  \\\n",
       "0                 559.793                                29.522   \n",
       "1                2012.191                                 4.036   \n",
       "2                2076.203                                 1.740   \n",
       "3                2070.786                                 1.149   \n",
       "4                 560.299                                 5.108   \n",
       "..                    ...                                   ...   \n",
       "585               362.421                               122.952   \n",
       "586               521.151                                51.377   \n",
       "587               521.152                                64.432   \n",
       "588               505.797                                34.850   \n",
       "589               322.497                                39.483   \n",
       "\n",
       "     AFLOWML|ml_agl_heat_capacity_Cp_300K_per_atom  \\\n",
       "0                                            2.614   \n",
       "1                                            0.679   \n",
       "2                                            0.629   \n",
       "3                                            0.658   \n",
       "4                                            2.666   \n",
       "..                                             ...   \n",
       "585                                          2.800   \n",
       "586                                          2.650   \n",
       "587                                          2.666   \n",
       "588                                          2.733   \n",
       "589                                          2.957   \n",
       "\n",
       "     AFLOWML|ml_agl_heat_capacity_Cv_300K  \\\n",
       "0                                  29.011   \n",
       "1                                   4.262   \n",
       "2                                   1.816   \n",
       "3                                   1.139   \n",
       "4                                   4.739   \n",
       "..                                    ...   \n",
       "585                               118.318   \n",
       "586                                53.364   \n",
       "587                                63.321   \n",
       "588                                35.375   \n",
       "589                                38.302   \n",
       "\n",
       "     AFLOWML|ml_agl_heat_capacity_Cv_300K_per_atom  \\\n",
       "0                                            2.488   \n",
       "1                                            0.634   \n",
       "2                                            0.588   \n",
       "3                                            0.617   \n",
       "4                                            2.577   \n",
       "..                                             ...   \n",
       "585                                          2.709   \n",
       "586                                          2.515   \n",
       "587                                          2.496   \n",
       "588                                          2.654   \n",
       "589                                          2.773   \n",
       "\n",
       "     AFLOWML|ml_agl_thermal_conductivity_300K  \\\n",
       "0                                       2.762   \n",
       "1                                       3.043   \n",
       "2                                       3.223   \n",
       "3                                       4.279   \n",
       "4                                       3.417   \n",
       "..                                        ...   \n",
       "585                                     2.690   \n",
       "586                                     2.749   \n",
       "587                                     2.841   \n",
       "588                                     2.725   \n",
       "589                                     2.708   \n",
       "\n",
       "     AFLOWML|ml_agl_thermal_expansion_300K  AFLOWML|ml_egap_type_Insulator  \n",
       "0                                 0.000060                               1  \n",
       "1                                 0.000086                               1  \n",
       "2                                 0.000086                               1  \n",
       "3                                 0.000086                               1  \n",
       "4                                 0.000061                               1  \n",
       "..                                     ...                             ...  \n",
       "585                               0.000052                               1  \n",
       "586                               0.000060                               0  \n",
       "587                               0.000060                               0  \n",
       "588                               0.000061                               0  \n",
       "589                               0.000061                               1  \n",
       "\n",
       "[590 rows x 677 columns]"
      ]
     },
     "execution_count": 6,
     "metadata": {},
     "output_type": "execute_result"
    }
   ],
   "source": [
    "data   = pd.read_pickle(data_dir / \"processed\" / \"processedData.pkl\")\n",
    "trainingData   = pd.read_pickle(data_dir / InsertApproach / \"processed\" / \"trainingData.pkl\")\n",
    "trainingTarget= pd.read_pickle(data_dir / InsertApproach / \"processed\" / \"trainingTarget.pkl\")\n",
    "testSet       = pd.read_pickle(data_dir / InsertApproach / \"processed\" / \"testSet.pkl\")\n",
    "\n",
    "trainingData"
   ]
  },
  {
   "cell_type": "code",
   "execution_count": 7,
   "metadata": {},
   "outputs": [
    {
     "data": {
      "text/html": [
       "<div>\n",
       "<style scoped>\n",
       "    .dataframe tbody tr th:only-of-type {\n",
       "        vertical-align: middle;\n",
       "    }\n",
       "\n",
       "    .dataframe tbody tr th {\n",
       "        vertical-align: top;\n",
       "    }\n",
       "\n",
       "    .dataframe thead th {\n",
       "        text-align: right;\n",
       "    }\n",
       "</style>\n",
       "<table border=\"1\" class=\"dataframe\">\n",
       "  <thead>\n",
       "    <tr style=\"text-align: right;\">\n",
       "      <th></th>\n",
       "      <th>material_id</th>\n",
       "      <th>pretty_formula</th>\n",
       "      <th>full_formula</th>\n",
       "      <th>candidate</th>\n",
       "      <th>AtomicOrbitals|HOMO_character</th>\n",
       "      <th>AtomicOrbitals|HOMO_element</th>\n",
       "      <th>AtomicOrbitals|HOMO_energy</th>\n",
       "      <th>AtomicOrbitals|LUMO_character</th>\n",
       "      <th>AtomicOrbitals|LUMO_element</th>\n",
       "      <th>AtomicOrbitals|LUMO_energy</th>\n",
       "      <th>...</th>\n",
       "      <th>AFLOWML|ml_ael_bulk_modulus_vrh</th>\n",
       "      <th>AFLOWML|ml_ael_shear_modulus_vrh</th>\n",
       "      <th>AFLOWML|ml_agl_debye</th>\n",
       "      <th>AFLOWML|ml_agl_heat_capacity_Cp_300K</th>\n",
       "      <th>AFLOWML|ml_agl_heat_capacity_Cp_300K_per_atom</th>\n",
       "      <th>AFLOWML|ml_agl_heat_capacity_Cv_300K</th>\n",
       "      <th>AFLOWML|ml_agl_heat_capacity_Cv_300K_per_atom</th>\n",
       "      <th>AFLOWML|ml_agl_thermal_conductivity_300K</th>\n",
       "      <th>AFLOWML|ml_agl_thermal_expansion_300K</th>\n",
       "      <th>AFLOWML|ml_egap_type_Insulator</th>\n",
       "    </tr>\n",
       "  </thead>\n",
       "  <tbody>\n",
       "    <tr>\n",
       "      <th>590</th>\n",
       "      <td>mp-7</td>\n",
       "      <td>S</td>\n",
       "      <td>S6</td>\n",
       "      <td>NaN</td>\n",
       "      <td>2.0</td>\n",
       "      <td>16</td>\n",
       "      <td>-0.261676</td>\n",
       "      <td>2.0</td>\n",
       "      <td>16</td>\n",
       "      <td>-0.261676</td>\n",
       "      <td>...</td>\n",
       "      <td>3.790</td>\n",
       "      <td>3.930</td>\n",
       "      <td>377.683</td>\n",
       "      <td>16.791</td>\n",
       "      <td>2.886</td>\n",
       "      <td>17.163</td>\n",
       "      <td>2.762</td>\n",
       "      <td>3.440</td>\n",
       "      <td>0.000070</td>\n",
       "      <td>1</td>\n",
       "    </tr>\n",
       "    <tr>\n",
       "      <th>591</th>\n",
       "      <td>mp-14</td>\n",
       "      <td>Se</td>\n",
       "      <td>Se3</td>\n",
       "      <td>NaN</td>\n",
       "      <td>2.0</td>\n",
       "      <td>34</td>\n",
       "      <td>-0.245806</td>\n",
       "      <td>2.0</td>\n",
       "      <td>34</td>\n",
       "      <td>-0.245806</td>\n",
       "      <td>...</td>\n",
       "      <td>28.294</td>\n",
       "      <td>6.569</td>\n",
       "      <td>146.767</td>\n",
       "      <td>9.680</td>\n",
       "      <td>3.106</td>\n",
       "      <td>8.771</td>\n",
       "      <td>2.926</td>\n",
       "      <td>3.010</td>\n",
       "      <td>0.000062</td>\n",
       "      <td>1</td>\n",
       "    </tr>\n",
       "    <tr>\n",
       "      <th>592</th>\n",
       "      <td>mp-19</td>\n",
       "      <td>Te</td>\n",
       "      <td>Te3</td>\n",
       "      <td>NaN</td>\n",
       "      <td>2.0</td>\n",
       "      <td>52</td>\n",
       "      <td>-0.226594</td>\n",
       "      <td>2.0</td>\n",
       "      <td>52</td>\n",
       "      <td>-0.226594</td>\n",
       "      <td>...</td>\n",
       "      <td>31.893</td>\n",
       "      <td>6.225</td>\n",
       "      <td>121.481</td>\n",
       "      <td>10.146</td>\n",
       "      <td>3.089</td>\n",
       "      <td>9.237</td>\n",
       "      <td>2.954</td>\n",
       "      <td>3.166</td>\n",
       "      <td>0.000054</td>\n",
       "      <td>0</td>\n",
       "    </tr>\n",
       "    <tr>\n",
       "      <th>593</th>\n",
       "      <td>mp-25</td>\n",
       "      <td>N2</td>\n",
       "      <td>N8</td>\n",
       "      <td>NaN</td>\n",
       "      <td>2.0</td>\n",
       "      <td>7</td>\n",
       "      <td>-0.266297</td>\n",
       "      <td>2.0</td>\n",
       "      <td>7</td>\n",
       "      <td>-0.266297</td>\n",
       "      <td>...</td>\n",
       "      <td>-4.641</td>\n",
       "      <td>0.572</td>\n",
       "      <td>537.473</td>\n",
       "      <td>21.673</td>\n",
       "      <td>2.667</td>\n",
       "      <td>21.106</td>\n",
       "      <td>2.612</td>\n",
       "      <td>3.211</td>\n",
       "      <td>0.000063</td>\n",
       "      <td>1</td>\n",
       "    </tr>\n",
       "    <tr>\n",
       "      <th>594</th>\n",
       "      <td>mp-77</td>\n",
       "      <td>S</td>\n",
       "      <td>S32</td>\n",
       "      <td>NaN</td>\n",
       "      <td>2.0</td>\n",
       "      <td>16</td>\n",
       "      <td>-0.261676</td>\n",
       "      <td>2.0</td>\n",
       "      <td>16</td>\n",
       "      <td>-0.261676</td>\n",
       "      <td>...</td>\n",
       "      <td>1.628</td>\n",
       "      <td>4.560</td>\n",
       "      <td>369.771</td>\n",
       "      <td>96.933</td>\n",
       "      <td>2.851</td>\n",
       "      <td>88.575</td>\n",
       "      <td>2.744</td>\n",
       "      <td>2.637</td>\n",
       "      <td>0.000070</td>\n",
       "      <td>1</td>\n",
       "    </tr>\n",
       "    <tr>\n",
       "      <th>...</th>\n",
       "      <td>...</td>\n",
       "      <td>...</td>\n",
       "      <td>...</td>\n",
       "      <td>...</td>\n",
       "      <td>...</td>\n",
       "      <td>...</td>\n",
       "      <td>...</td>\n",
       "      <td>...</td>\n",
       "      <td>...</td>\n",
       "      <td>...</td>\n",
       "      <td>...</td>\n",
       "      <td>...</td>\n",
       "      <td>...</td>\n",
       "      <td>...</td>\n",
       "      <td>...</td>\n",
       "      <td>...</td>\n",
       "      <td>...</td>\n",
       "      <td>...</td>\n",
       "      <td>...</td>\n",
       "      <td>...</td>\n",
       "      <td>...</td>\n",
       "    </tr>\n",
       "    <tr>\n",
       "      <th>25199</th>\n",
       "      <td>mp-1304797</td>\n",
       "      <td>Sr3InNiO6</td>\n",
       "      <td>Sr12In4Ni4O24</td>\n",
       "      <td>NaN</td>\n",
       "      <td>2.0</td>\n",
       "      <td>8</td>\n",
       "      <td>-0.338381</td>\n",
       "      <td>2.0</td>\n",
       "      <td>8</td>\n",
       "      <td>-0.338381</td>\n",
       "      <td>...</td>\n",
       "      <td>123.836</td>\n",
       "      <td>60.361</td>\n",
       "      <td>383.857</td>\n",
       "      <td>120.443</td>\n",
       "      <td>2.850</td>\n",
       "      <td>121.983</td>\n",
       "      <td>2.753</td>\n",
       "      <td>2.534</td>\n",
       "      <td>0.000060</td>\n",
       "      <td>1</td>\n",
       "    </tr>\n",
       "    <tr>\n",
       "      <th>25200</th>\n",
       "      <td>mp-1541522</td>\n",
       "      <td>BiPO4</td>\n",
       "      <td>Bi2P2O8</td>\n",
       "      <td>NaN</td>\n",
       "      <td>2.0</td>\n",
       "      <td>8</td>\n",
       "      <td>-0.338381</td>\n",
       "      <td>2.0</td>\n",
       "      <td>8</td>\n",
       "      <td>-0.338381</td>\n",
       "      <td>...</td>\n",
       "      <td>130.120</td>\n",
       "      <td>48.373</td>\n",
       "      <td>427.679</td>\n",
       "      <td>30.488</td>\n",
       "      <td>2.796</td>\n",
       "      <td>29.473</td>\n",
       "      <td>2.710</td>\n",
       "      <td>2.576</td>\n",
       "      <td>0.000052</td>\n",
       "      <td>1</td>\n",
       "    </tr>\n",
       "    <tr>\n",
       "      <th>25201</th>\n",
       "      <td>mp-1541714</td>\n",
       "      <td>Cs3As2Cl9</td>\n",
       "      <td>Cs3As2Cl9</td>\n",
       "      <td>NaN</td>\n",
       "      <td>2.0</td>\n",
       "      <td>17</td>\n",
       "      <td>-0.320380</td>\n",
       "      <td>2.0</td>\n",
       "      <td>33</td>\n",
       "      <td>-0.197497</td>\n",
       "      <td>...</td>\n",
       "      <td>8.625</td>\n",
       "      <td>4.178</td>\n",
       "      <td>184.421</td>\n",
       "      <td>41.898</td>\n",
       "      <td>3.269</td>\n",
       "      <td>40.290</td>\n",
       "      <td>2.963</td>\n",
       "      <td>3.284</td>\n",
       "      <td>0.000049</td>\n",
       "      <td>1</td>\n",
       "    </tr>\n",
       "    <tr>\n",
       "      <th>25202</th>\n",
       "      <td>mp-1542038</td>\n",
       "      <td>CsSnSe3</td>\n",
       "      <td>Cs2Sn2Se6</td>\n",
       "      <td>NaN</td>\n",
       "      <td>2.0</td>\n",
       "      <td>34</td>\n",
       "      <td>-0.245806</td>\n",
       "      <td>2.0</td>\n",
       "      <td>34</td>\n",
       "      <td>-0.245806</td>\n",
       "      <td>...</td>\n",
       "      <td>19.554</td>\n",
       "      <td>11.324</td>\n",
       "      <td>154.514</td>\n",
       "      <td>30.391</td>\n",
       "      <td>3.139</td>\n",
       "      <td>28.917</td>\n",
       "      <td>2.938</td>\n",
       "      <td>2.698</td>\n",
       "      <td>0.000047</td>\n",
       "      <td>1</td>\n",
       "    </tr>\n",
       "    <tr>\n",
       "      <th>25203</th>\n",
       "      <td>mp-1542939</td>\n",
       "      <td>BaMo(PO4)2</td>\n",
       "      <td>Ba1Mo1P2O8</td>\n",
       "      <td>NaN</td>\n",
       "      <td>2.0</td>\n",
       "      <td>8</td>\n",
       "      <td>-0.338381</td>\n",
       "      <td>2.0</td>\n",
       "      <td>8</td>\n",
       "      <td>-0.338381</td>\n",
       "      <td>...</td>\n",
       "      <td>123.648</td>\n",
       "      <td>69.069</td>\n",
       "      <td>521.900</td>\n",
       "      <td>30.666</td>\n",
       "      <td>2.645</td>\n",
       "      <td>30.733</td>\n",
       "      <td>2.620</td>\n",
       "      <td>2.728</td>\n",
       "      <td>0.000052</td>\n",
       "      <td>1</td>\n",
       "    </tr>\n",
       "  </tbody>\n",
       "</table>\n",
       "<p>24614 rows × 679 columns</p>\n",
       "</div>"
      ],
      "text/plain": [
       "      material_id pretty_formula   full_formula  candidate  \\\n",
       "590          mp-7              S             S6        NaN   \n",
       "591         mp-14             Se            Se3        NaN   \n",
       "592         mp-19             Te            Te3        NaN   \n",
       "593         mp-25             N2             N8        NaN   \n",
       "594         mp-77              S            S32        NaN   \n",
       "...           ...            ...            ...        ...   \n",
       "25199  mp-1304797      Sr3InNiO6  Sr12In4Ni4O24        NaN   \n",
       "25200  mp-1541522          BiPO4        Bi2P2O8        NaN   \n",
       "25201  mp-1541714      Cs3As2Cl9      Cs3As2Cl9        NaN   \n",
       "25202  mp-1542038        CsSnSe3      Cs2Sn2Se6        NaN   \n",
       "25203  mp-1542939     BaMo(PO4)2     Ba1Mo1P2O8        NaN   \n",
       "\n",
       "       AtomicOrbitals|HOMO_character  AtomicOrbitals|HOMO_element  \\\n",
       "590                              2.0                           16   \n",
       "591                              2.0                           34   \n",
       "592                              2.0                           52   \n",
       "593                              2.0                            7   \n",
       "594                              2.0                           16   \n",
       "...                              ...                          ...   \n",
       "25199                            2.0                            8   \n",
       "25200                            2.0                            8   \n",
       "25201                            2.0                           17   \n",
       "25202                            2.0                           34   \n",
       "25203                            2.0                            8   \n",
       "\n",
       "       AtomicOrbitals|HOMO_energy  AtomicOrbitals|LUMO_character  \\\n",
       "590                     -0.261676                            2.0   \n",
       "591                     -0.245806                            2.0   \n",
       "592                     -0.226594                            2.0   \n",
       "593                     -0.266297                            2.0   \n",
       "594                     -0.261676                            2.0   \n",
       "...                           ...                            ...   \n",
       "25199                   -0.338381                            2.0   \n",
       "25200                   -0.338381                            2.0   \n",
       "25201                   -0.320380                            2.0   \n",
       "25202                   -0.245806                            2.0   \n",
       "25203                   -0.338381                            2.0   \n",
       "\n",
       "       AtomicOrbitals|LUMO_element  AtomicOrbitals|LUMO_energy  ...  \\\n",
       "590                             16                   -0.261676  ...   \n",
       "591                             34                   -0.245806  ...   \n",
       "592                             52                   -0.226594  ...   \n",
       "593                              7                   -0.266297  ...   \n",
       "594                             16                   -0.261676  ...   \n",
       "...                            ...                         ...  ...   \n",
       "25199                            8                   -0.338381  ...   \n",
       "25200                            8                   -0.338381  ...   \n",
       "25201                           33                   -0.197497  ...   \n",
       "25202                           34                   -0.245806  ...   \n",
       "25203                            8                   -0.338381  ...   \n",
       "\n",
       "       AFLOWML|ml_ael_bulk_modulus_vrh  AFLOWML|ml_ael_shear_modulus_vrh  \\\n",
       "590                              3.790                             3.930   \n",
       "591                             28.294                             6.569   \n",
       "592                             31.893                             6.225   \n",
       "593                             -4.641                             0.572   \n",
       "594                              1.628                             4.560   \n",
       "...                                ...                               ...   \n",
       "25199                          123.836                            60.361   \n",
       "25200                          130.120                            48.373   \n",
       "25201                            8.625                             4.178   \n",
       "25202                           19.554                            11.324   \n",
       "25203                          123.648                            69.069   \n",
       "\n",
       "       AFLOWML|ml_agl_debye  AFLOWML|ml_agl_heat_capacity_Cp_300K  \\\n",
       "590                 377.683                                16.791   \n",
       "591                 146.767                                 9.680   \n",
       "592                 121.481                                10.146   \n",
       "593                 537.473                                21.673   \n",
       "594                 369.771                                96.933   \n",
       "...                     ...                                   ...   \n",
       "25199               383.857                               120.443   \n",
       "25200               427.679                                30.488   \n",
       "25201               184.421                                41.898   \n",
       "25202               154.514                                30.391   \n",
       "25203               521.900                                30.666   \n",
       "\n",
       "       AFLOWML|ml_agl_heat_capacity_Cp_300K_per_atom  \\\n",
       "590                                            2.886   \n",
       "591                                            3.106   \n",
       "592                                            3.089   \n",
       "593                                            2.667   \n",
       "594                                            2.851   \n",
       "...                                              ...   \n",
       "25199                                          2.850   \n",
       "25200                                          2.796   \n",
       "25201                                          3.269   \n",
       "25202                                          3.139   \n",
       "25203                                          2.645   \n",
       "\n",
       "       AFLOWML|ml_agl_heat_capacity_Cv_300K  \\\n",
       "590                                  17.163   \n",
       "591                                   8.771   \n",
       "592                                   9.237   \n",
       "593                                  21.106   \n",
       "594                                  88.575   \n",
       "...                                     ...   \n",
       "25199                               121.983   \n",
       "25200                                29.473   \n",
       "25201                                40.290   \n",
       "25202                                28.917   \n",
       "25203                                30.733   \n",
       "\n",
       "       AFLOWML|ml_agl_heat_capacity_Cv_300K_per_atom  \\\n",
       "590                                            2.762   \n",
       "591                                            2.926   \n",
       "592                                            2.954   \n",
       "593                                            2.612   \n",
       "594                                            2.744   \n",
       "...                                              ...   \n",
       "25199                                          2.753   \n",
       "25200                                          2.710   \n",
       "25201                                          2.963   \n",
       "25202                                          2.938   \n",
       "25203                                          2.620   \n",
       "\n",
       "       AFLOWML|ml_agl_thermal_conductivity_300K  \\\n",
       "590                                       3.440   \n",
       "591                                       3.010   \n",
       "592                                       3.166   \n",
       "593                                       3.211   \n",
       "594                                       2.637   \n",
       "...                                         ...   \n",
       "25199                                     2.534   \n",
       "25200                                     2.576   \n",
       "25201                                     3.284   \n",
       "25202                                     2.698   \n",
       "25203                                     2.728   \n",
       "\n",
       "       AFLOWML|ml_agl_thermal_expansion_300K  AFLOWML|ml_egap_type_Insulator  \n",
       "590                                 0.000070                               1  \n",
       "591                                 0.000062                               1  \n",
       "592                                 0.000054                               0  \n",
       "593                                 0.000063                               1  \n",
       "594                                 0.000070                               1  \n",
       "...                                      ...                             ...  \n",
       "25199                               0.000060                               1  \n",
       "25200                               0.000052                               1  \n",
       "25201                               0.000049                               1  \n",
       "25202                               0.000047                               1  \n",
       "25203                               0.000052                               1  \n",
       "\n",
       "[24614 rows x 679 columns]"
      ]
     },
     "execution_count": 7,
     "metadata": {},
     "output_type": "execute_result"
    }
   ],
   "source": [
    "testSet"
   ]
  },
  {
   "cell_type": "code",
   "execution_count": 8,
   "metadata": {},
   "outputs": [
    {
     "data": {
      "text/markdown": [
       "# Algorithms\n",
       "Below we define the algorithm to use and its abbreviation. Parameters that are optional to tune are the parameters to the algorithms, with the default value as their optimised value. Another parameter to tune is how many cross-validations one wants to iterate through for the analysis. In addition, one has to find the best features for a new algorithm which will be added further down in the notebook.\n"
      ],
      "text/plain": [
       "<IPython.core.display.Markdown object>"
      ]
     },
     "metadata": {},
     "output_type": "display_data"
    },
    {
     "data": {
      "text/html": [
       "\n",
       "        <script>\n",
       "            function code_toggle_17869983339221183941() {\n",
       "                $('div.cell.code_cell.rendered.selected').find('div.input').toggle();\n",
       "            }\n",
       "\n",
       "            \n",
       "        </script>\n",
       "\n",
       "        <a href=\"javascript:code_toggle_17869983339221183941()\">Toggle show/hide</a>\n",
       "    "
      ],
      "text/plain": [
       "<IPython.core.display.HTML object>"
      ]
     },
     "execution_count": 8,
     "metadata": {},
     "output_type": "execute_result"
    }
   ],
   "source": [
    "from IPython.display import display, Markdown\n",
    "\n",
    "with open(Path.cwd().parent.parent.parent / \"src\" / \"notebookcodesnippets\" / \"supervised\" / \"algorithms.md\", 'r') as fh:\n",
    "    content = fh.read()\n",
    "\n",
    "display(Markdown(content))\n",
    "hide_toggle()"
   ]
  },
  {
   "cell_type": "code",
   "execution_count": 9,
   "metadata": {},
   "outputs": [],
   "source": [
    "InsertAlgorithms    = [LogisticRegression        (random_state = random_state, max_iter=200),\n",
    "                       DecisionTreeClassifier    (random_state = random_state, max_features = \"auto\"),\n",
    "                       RandomForestClassifier    (random_state = random_state, max_features = \"auto\", max_depth=6),\\\n",
    "                       GradientBoostingClassifier(random_state = random_state, max_features = \"auto\")]\n",
    "InsertAbbreviations = [\"LOG\", \"DT\", \"RF\", \"GB\"]\n",
    "InsertprettyNames   = [\"Logistic regression\", \"Decision Tree\", \"Random Forest\", \"Gradient Boost\"]"
   ]
  },
  {
   "cell_type": "code",
   "execution_count": 10,
   "metadata": {},
   "outputs": [
    {
     "data": {
      "text/markdown": [
       "# Methods for finding optimal hyperparameters\n",
       "\n",
       "### Cross-validation\n",
       "\n",
       "Cross-validation is a technique to evaluate predictive models by partitioning the original sample into a training set to train the model, and a test set to evaluate it. It is crucial that we avoid at all cost to fit anything to the test data, since this will introduce bias in the model and might reduce the generalization potential of a model.\n",
       "\n",
       "### k-fold cross-validation\n",
       "\n",
       "In k-fold cross-validation, the sample is partioned into k equal sized subsamples. Of the k samples, a single sample is used as validation set while the remaining k-1 samples are used as training data. The process is then repeated k-times, such that each of the k-th subsample is used as validation set exactly one time. Therefore, all observations are used for both training and validation, and each observation is used for validation exactly once. The k results from the folds can then be averaged to produce an estimate.\n",
       "\n",
       "### Stratified k-fold cross-validation\n",
       "\n",
       "In stratified k-fold cross validation, the fold that is selected contains roughly the same proportions of existing class labels.\n",
       "\n",
       "### n-repeated stratified k-fold cross-validation\n",
       "\n",
       "In n-repeated stratified k-fold cross-validation, the stratified k-fold cross-validation is repeated n times, which yields n random partitions of the original sample. The n results can be averaged to produce a single estimation.\n",
       "\n",
       "## Sample size\n",
       "To not discrimate a class, we make sure that each class is equally represented in the subsamples. Underneath shows a brief overview of the different methods involved to deal with this challenge.\n",
       "\n",
       "### Random oversampling of minority class\n",
       "\n",
       "Random oversampling can be achived by randomly duplicating examples from the minority class and adding them to the training dataset.\n",
       "\n",
       "The approach can be effective to algorithms that are vulnerable to a skewed dsitribution, however, it can also affect algorithms to overfit the minority class.\n",
       "\n",
       "### Random Undersampling of majority class\n",
       "\n",
       "Random undersampling involves randomly selecting examples from the majority class to delete from the training dataset.\n",
       "\n",
       "This can prove problematic, since the loss of data can make the decision boundary between minority and majority instances harder to learn. Additionally, there is a chance that the model might loose valuable information.\n",
       "\n",
       "### Both oversampling and undersampling\n",
       "\n",
       "A third option might be to combine the two of them.\n",
       "\n",
       "\n",
       "# Optimal hyperparameters search\n",
       "\n",
       "In this section we will find the optimal parameters used for the various algorithms. We will use imblearn's Pipeline to provide the option of implementing sampling such as SMOTE and RandomUnderSampler. The advantage of using imblearn instead of sklearn, is that sklearn's pipeline will fit the samplers to the validation data as well, while imblearn only fit the resamplers to the training data. We store the best estimators and use them again under this section.\n",
       "\n",
       "It is possible to have a large search over a wide amount of properties, but that is indeed extremely cpu-demanding. Therefore, we restrict ourself to the standard choice of some properties, but include a search for properties that can reduce the variance.\n",
       "\n",
       "## Standardscaler and principal component analysis\n",
       "Since we will scale the data, it is neccessary to combine the target and training data and scale it together. We fit the standardscaler to the training data, and then transform the test data with the same scaling as we fitted from the training data. Thereafter, we will apply a principal component analysis to potentially reduce the dimensions of the data.\n"
      ],
      "text/plain": [
       "<IPython.core.display.Markdown object>"
      ]
     },
     "metadata": {},
     "output_type": "display_data"
    },
    {
     "data": {
      "text/html": [
       "\n",
       "        <script>\n",
       "            function code_toggle_16966573191238942622() {\n",
       "                $('div.cell.code_cell.rendered.selected').find('div.input').toggle();\n",
       "            }\n",
       "\n",
       "            \n",
       "        </script>\n",
       "\n",
       "        <a href=\"javascript:code_toggle_16966573191238942622()\">Toggle show/hide</a>\n",
       "    "
      ],
      "text/plain": [
       "<IPython.core.display.HTML object>"
      ]
     },
     "execution_count": 10,
     "metadata": {},
     "output_type": "execute_result"
    }
   ],
   "source": [
    "from IPython.display import display, Markdown\n",
    "\n",
    "with open(Path.cwd().parent.parent.parent / \"src\" / \"notebookcodesnippets\" / \"supervised\" / \"optimalparameters.md\", 'r') as fh:\n",
    "    content = fh.read()\n",
    "\n",
    "display(Markdown(content))\n",
    "hide_toggle()"
   ]
  },
  {
   "cell_type": "code",
   "execution_count": 11,
   "metadata": {},
   "outputs": [],
   "source": [
    "# Optional to include any sampling method. Default is none. \n",
    "includeSampleMethods = [\"\"]#, \"under\", \"over\", \"both\"]"
   ]
  },
  {
   "cell_type": "code",
   "execution_count": 12,
   "metadata": {},
   "outputs": [],
   "source": [
    "numberRuns   = 5\n",
    "numberSplits = 5\n",
    "\n",
    "rskfold = RepeatedStratifiedKFold(n_splits=numberSplits, n_repeats=numberRuns, random_state=random_state)"
   ]
  },
  {
   "cell_type": "code",
   "execution_count": 13,
   "metadata": {
    "scrolled": false
   },
   "outputs": [
    {
     "name": "stderr",
     "output_type": "stream",
     "text": [
      "\r",
      "0it [00:00, ?it/s]"
     ]
    },
    {
     "name": "stdout",
     "output_type": "stream",
     "text": [
      "Finding best params for: LOG \n",
      "Fitting 25 folds for each of 14 candidates, totalling 350 fits\n"
     ]
    },
    {
     "name": "stderr",
     "output_type": "stream",
     "text": [
      "\r",
      "1it [00:11, 11.50s/it]"
     ]
    },
    {
     "name": "stdout",
     "output_type": "stream",
     "text": [
      "Pipeline(steps=[('scale', StandardScaler()), ('pca', PCA(n_components=1)),\n",
      "                ('model',\n",
      "                 LogisticRegression(C=0.001, max_iter=200, random_state=1))])\n",
      "Finding best params for: DT \n",
      "Fitting 25 folds for each of 7 candidates, totalling 175 fits\n"
     ]
    },
    {
     "name": "stderr",
     "output_type": "stream",
     "text": [
      "\r",
      "2it [00:15,  6.89s/it]"
     ]
    },
    {
     "name": "stdout",
     "output_type": "stream",
     "text": [
      "Pipeline(steps=[('scale', StandardScaler()), ('pca', PCA(n_components=1)),\n",
      "                ('model',\n",
      "                 DecisionTreeClassifier(max_depth=1, max_features='sqrt',\n",
      "                                        random_state=1))])\n",
      "Finding best params for: RF \n",
      "Fitting 25 folds for each of 7 candidates, totalling 175 fits\n"
     ]
    },
    {
     "name": "stderr",
     "output_type": "stream",
     "text": [
      "\r",
      "3it [00:25,  8.64s/it]"
     ]
    },
    {
     "name": "stdout",
     "output_type": "stream",
     "text": [
      "Pipeline(steps=[('scale', StandardScaler()), ('pca', PCA(n_components=1)),\n",
      "                ('model', RandomForestClassifier(max_depth=2, random_state=1))])\n",
      "Finding best params for: GB \n",
      "Fitting 25 folds for each of 7 candidates, totalling 175 fits\n"
     ]
    },
    {
     "name": "stderr",
     "output_type": "stream",
     "text": [
      "4it [00:33,  8.31s/it]"
     ]
    },
    {
     "name": "stdout",
     "output_type": "stream",
     "text": [
      "Pipeline(steps=[('scale', StandardScaler()), ('pca', PCA(n_components=1)),\n",
      "                ('model',\n",
      "                 GradientBoostingClassifier(max_depth=1, max_features='auto',\n",
      "                                            random_state=1))])\n"
     ]
    },
    {
     "name": "stderr",
     "output_type": "stream",
     "text": [
      "\n"
     ]
    }
   ],
   "source": [
    "ModelsBestParams = pd.Series({}, dtype=\"string\")\n",
    "\n",
    "Abbreviations = []\n",
    "prettyNames   = []\n",
    "Algorithms = []\n",
    "\n",
    "for i, algorithm in tqdm(enumerate(InsertAlgorithms)):\n",
    "    for method in includeSampleMethods:\n",
    "        print(\"Finding best params for: {}\".format(InsertAbbreviations[i] + \" \" + method))\n",
    "        bestEstimator, ModelsBestParams[InsertAbbreviations[i] + \" \" + method] = train_model.applyGridSearch(\n",
    "                                                                             X = trainingData.drop([\"material_id\", \"full_formula\"], axis=1), \n",
    "                                                                             y = trainingTarget.values.reshape(-1,),\n",
    "                                                                        model = algorithm, \n",
    "                                                                           cv = rskfold,\n",
    "                                                                        numPC = numberOfPrincipalComponents,\n",
    "                                                                 sampleMethod = method)\n",
    "        Abbreviations.append(InsertAbbreviations[i] + \" \" + method)\n",
    "        prettyNames.append(InsertAbbreviations[i] + \" \" + method)\n",
    "        Algorithms.append(bestEstimator)"
   ]
  },
  {
   "cell_type": "code",
   "execution_count": 14,
   "metadata": {},
   "outputs": [
    {
     "data": {
      "text/markdown": [
       "## Visualizing the optimal parameters for dimensionality reduction\n"
      ],
      "text/plain": [
       "<IPython.core.display.Markdown object>"
      ]
     },
     "metadata": {},
     "output_type": "display_data"
    },
    {
     "data": {
      "text/html": [
       "\n",
       "        <script>\n",
       "            function code_toggle_5555505895643174085() {\n",
       "                $('div.cell.code_cell.rendered.selected').find('div.input').toggle();\n",
       "            }\n",
       "\n",
       "            \n",
       "        </script>\n",
       "\n",
       "        <a href=\"javascript:code_toggle_5555505895643174085()\">Toggle show/hide</a>\n",
       "    "
      ],
      "text/plain": [
       "<IPython.core.display.HTML object>"
      ]
     },
     "execution_count": 14,
     "metadata": {},
     "output_type": "execute_result"
    }
   ],
   "source": [
    "from IPython.display import display, Markdown\n",
    "\n",
    "with open(Path.cwd().parent.parent.parent / \"src\" / \"notebookcodesnippets\" / \"supervised\" / \"visualoptimalparameters.md\", 'r') as fh:\n",
    "    content = fh.read()\n",
    "\n",
    "display(Markdown(content))\n",
    "hide_toggle()"
   ]
  },
  {
   "cell_type": "code",
   "execution_count": 15,
   "metadata": {
    "scrolled": false
   },
   "outputs": [
    {
     "data": {
      "text/html": [
       "<div>\n",
       "<style scoped>\n",
       "    .dataframe tbody tr th:only-of-type {\n",
       "        vertical-align: middle;\n",
       "    }\n",
       "\n",
       "    .dataframe tbody tr th {\n",
       "        vertical-align: top;\n",
       "    }\n",
       "\n",
       "    .dataframe thead th {\n",
       "        text-align: right;\n",
       "    }\n",
       "</style>\n",
       "<table border=\"1\" class=\"dataframe\">\n",
       "  <thead>\n",
       "    <tr style=\"text-align: right;\">\n",
       "      <th></th>\n",
       "      <th></th>\n",
       "      <th>mean_test_accuracy</th>\n",
       "      <th>std_test_accuracy</th>\n",
       "      <th>mean_test_f1</th>\n",
       "      <th>std_test_f1</th>\n",
       "    </tr>\n",
       "    <tr>\n",
       "      <th>param_pca__n_components</th>\n",
       "      <th></th>\n",
       "      <th></th>\n",
       "      <th></th>\n",
       "      <th></th>\n",
       "      <th></th>\n",
       "    </tr>\n",
       "  </thead>\n",
       "  <tbody>\n",
       "    <tr>\n",
       "      <th>1</th>\n",
       "      <th>0</th>\n",
       "      <td>0.940678</td>\n",
       "      <td>0.018874</td>\n",
       "      <td>0.901242</td>\n",
       "      <td>0.030295</td>\n",
       "    </tr>\n",
       "  </tbody>\n",
       "</table>\n",
       "</div>"
      ],
      "text/plain": [
       "                           mean_test_accuracy  std_test_accuracy  \\\n",
       "param_pca__n_components                                            \n",
       "1                       0            0.940678           0.018874   \n",
       "\n",
       "                           mean_test_f1  std_test_f1  \n",
       "param_pca__n_components                               \n",
       "1                       0      0.901242     0.030295  "
      ]
     },
     "metadata": {},
     "output_type": "display_data"
    },
    {
     "data": {
      "image/png": "[encoded data removed]",
      "text/plain": [
       "<Figure size 204.803x204.803 with 1 Axes>"
      ]
     },
     "metadata": {
      "needs_background": "light"
     },
     "output_type": "display_data"
    },
    {
     "data": {
      "text/html": [
       "<div>\n",
       "<style scoped>\n",
       "    .dataframe tbody tr th:only-of-type {\n",
       "        vertical-align: middle;\n",
       "    }\n",
       "\n",
       "    .dataframe tbody tr th {\n",
       "        vertical-align: top;\n",
       "    }\n",
       "\n",
       "    .dataframe thead th {\n",
       "        text-align: right;\n",
       "    }\n",
       "</style>\n",
       "<table border=\"1\" class=\"dataframe\">\n",
       "  <thead>\n",
       "    <tr style=\"text-align: right;\">\n",
       "      <th></th>\n",
       "      <th></th>\n",
       "      <th>mean_test_accuracy</th>\n",
       "      <th>std_test_accuracy</th>\n",
       "      <th>mean_test_f1</th>\n",
       "      <th>std_test_f1</th>\n",
       "    </tr>\n",
       "    <tr>\n",
       "      <th>param_pca__n_components</th>\n",
       "      <th></th>\n",
       "      <th></th>\n",
       "      <th></th>\n",
       "      <th></th>\n",
       "      <th></th>\n",
       "    </tr>\n",
       "  </thead>\n",
       "  <tbody>\n",
       "    <tr>\n",
       "      <th>1</th>\n",
       "      <th>0</th>\n",
       "      <td>0.940678</td>\n",
       "      <td>0.017118</td>\n",
       "      <td>0.901935</td>\n",
       "      <td>0.026785</td>\n",
       "    </tr>\n",
       "  </tbody>\n",
       "</table>\n",
       "</div>"
      ],
      "text/plain": [
       "                           mean_test_accuracy  std_test_accuracy  \\\n",
       "param_pca__n_components                                            \n",
       "1                       0            0.940678           0.017118   \n",
       "\n",
       "                           mean_test_f1  std_test_f1  \n",
       "param_pca__n_components                               \n",
       "1                       0      0.901935     0.026785  "
      ]
     },
     "metadata": {},
     "output_type": "display_data"
    },
    {
     "data": {
      "image/png": "[encoded data removed]",
      "text/plain": [
       "<Figure size 204.803x204.803 with 1 Axes>"
      ]
     },
     "metadata": {
      "needs_background": "light"
     },
     "output_type": "display_data"
    },
    {
     "data": {
      "text/html": [
       "<div>\n",
       "<style scoped>\n",
       "    .dataframe tbody tr th:only-of-type {\n",
       "        vertical-align: middle;\n",
       "    }\n",
       "\n",
       "    .dataframe tbody tr th {\n",
       "        vertical-align: top;\n",
       "    }\n",
       "\n",
       "    .dataframe thead th {\n",
       "        text-align: right;\n",
       "    }\n",
       "</style>\n",
       "<table border=\"1\" class=\"dataframe\">\n",
       "  <thead>\n",
       "    <tr style=\"text-align: right;\">\n",
       "      <th></th>\n",
       "      <th></th>\n",
       "      <th>mean_test_accuracy</th>\n",
       "      <th>std_test_accuracy</th>\n",
       "      <th>mean_test_f1</th>\n",
       "      <th>std_test_f1</th>\n",
       "    </tr>\n",
       "    <tr>\n",
       "      <th>param_pca__n_components</th>\n",
       "      <th></th>\n",
       "      <th></th>\n",
       "      <th></th>\n",
       "      <th></th>\n",
       "      <th></th>\n",
       "    </tr>\n",
       "  </thead>\n",
       "  <tbody>\n",
       "    <tr>\n",
       "      <th>1</th>\n",
       "      <th>1</th>\n",
       "      <td>0.941017</td>\n",
       "      <td>0.017854</td>\n",
       "      <td>0.901699</td>\n",
       "      <td>0.028838</td>\n",
       "    </tr>\n",
       "  </tbody>\n",
       "</table>\n",
       "</div>"
      ],
      "text/plain": [
       "                           mean_test_accuracy  std_test_accuracy  \\\n",
       "param_pca__n_components                                            \n",
       "1                       1            0.941017           0.017854   \n",
       "\n",
       "                           mean_test_f1  std_test_f1  \n",
       "param_pca__n_components                               \n",
       "1                       1      0.901699     0.028838  "
      ]
     },
     "metadata": {},
     "output_type": "display_data"
    },
    {
     "data": {
      "image/png": "[encoded data removed]",
      "text/plain": [
       "<Figure size 204.803x204.803 with 1 Axes>"
      ]
     },
     "metadata": {
      "needs_background": "light"
     },
     "output_type": "display_data"
    },
    {
     "data": {
      "text/html": [
       "<div>\n",
       "<style scoped>\n",
       "    .dataframe tbody tr th:only-of-type {\n",
       "        vertical-align: middle;\n",
       "    }\n",
       "\n",
       "    .dataframe tbody tr th {\n",
       "        vertical-align: top;\n",
       "    }\n",
       "\n",
       "    .dataframe thead th {\n",
       "        text-align: right;\n",
       "    }\n",
       "</style>\n",
       "<table border=\"1\" class=\"dataframe\">\n",
       "  <thead>\n",
       "    <tr style=\"text-align: right;\">\n",
       "      <th></th>\n",
       "      <th></th>\n",
       "      <th>mean_test_accuracy</th>\n",
       "      <th>std_test_accuracy</th>\n",
       "      <th>mean_test_f1</th>\n",
       "      <th>std_test_f1</th>\n",
       "    </tr>\n",
       "    <tr>\n",
       "      <th>param_pca__n_components</th>\n",
       "      <th></th>\n",
       "      <th></th>\n",
       "      <th></th>\n",
       "      <th></th>\n",
       "      <th></th>\n",
       "    </tr>\n",
       "  </thead>\n",
       "  <tbody>\n",
       "    <tr>\n",
       "      <th>1</th>\n",
       "      <th>0</th>\n",
       "      <td>0.94</td>\n",
       "      <td>0.017437</td>\n",
       "      <td>0.899892</td>\n",
       "      <td>0.028336</td>\n",
       "    </tr>\n",
       "  </tbody>\n",
       "</table>\n",
       "</div>"
      ],
      "text/plain": [
       "                           mean_test_accuracy  std_test_accuracy  \\\n",
       "param_pca__n_components                                            \n",
       "1                       0                0.94           0.017437   \n",
       "\n",
       "                           mean_test_f1  std_test_f1  \n",
       "param_pca__n_components                               \n",
       "1                       0      0.899892     0.028336  "
      ]
     },
     "metadata": {},
     "output_type": "display_data"
    },
    {
     "data": {
      "image/png": "[encoded data removed]",
      "text/plain": [
       "<Figure size 204.803x204.803 with 1 Axes>"
      ]
     },
     "metadata": {
      "needs_background": "light"
     },
     "output_type": "display_data"
    }
   ],
   "source": [
    "visualize.principalComponentsVSscores(X = trainingData.drop([\"material_id\", \"full_formula\"], axis=1),\n",
    "                                     ModelsBestParams = ModelsBestParams,\n",
    "                                     prettyNames = prettyNames,\n",
    "                                     numPC = numberOfPrincipalComponents,\n",
    "                                     approach = InsertApproach)"
   ]
  },
  {
   "cell_type": "code",
   "execution_count": 16,
   "metadata": {},
   "outputs": [
    {
     "data": {
      "image/png": "[encoded data removed]",
      "text/plain": [
       "<Figure size 204.803x204.803 with 1 Axes>"
      ]
     },
     "metadata": {
      "needs_background": "light"
     },
     "output_type": "display_data"
    },
    {
     "data": {
      "image/png": "[encoded data removed]",
      "text/plain": [
       "<Figure size 204.803x204.803 with 1 Axes>"
      ]
     },
     "metadata": {
      "needs_background": "light"
     },
     "output_type": "display_data"
    },
    {
     "data": {
      "image/png": "[encoded data removed]",
      "text/plain": [
       "<Figure size 204.803x204.803 with 1 Axes>"
      ]
     },
     "metadata": {
      "needs_background": "light"
     },
     "output_type": "display_data"
    },
    {
     "data": {
      "image/png": "[encoded data removed]",
      "text/plain": [
       "<Figure size 204.803x204.803 with 1 Axes>"
      ]
     },
     "metadata": {
      "needs_background": "light"
     },
     "output_type": "display_data"
    }
   ],
   "source": [
    "visualize.gridsearchVSscores(X = trainingData.drop([\"material_id\", \"full_formula\"], axis=1), \n",
    "                             ModelsBestParams = ModelsBestParams,\n",
    "                            prettyNames = prettyNames,\n",
    "                            approach = InsertApproach)"
   ]
  },
  {
   "cell_type": "code",
   "execution_count": 17,
   "metadata": {},
   "outputs": [
    {
     "data": {
      "text/markdown": [
       "## ROC-AUC and precision recall curves\n"
      ],
      "text/plain": [
       "<IPython.core.display.Markdown object>"
      ]
     },
     "metadata": {},
     "output_type": "display_data"
    },
    {
     "data": {
      "text/html": [
       "\n",
       "        <script>\n",
       "            function code_toggle_6473856624743205106() {\n",
       "                $('div.cell.code_cell.rendered.selected').find('div.input').toggle();\n",
       "            }\n",
       "\n",
       "            \n",
       "        </script>\n",
       "\n",
       "        <a href=\"javascript:code_toggle_6473856624743205106()\">Toggle show/hide</a>\n",
       "    "
      ],
      "text/plain": [
       "<IPython.core.display.HTML object>"
      ]
     },
     "execution_count": 17,
     "metadata": {},
     "output_type": "execute_result"
    }
   ],
   "source": [
    "from IPython.display import display, Markdown\n",
    "\n",
    "with open(Path.cwd().parent.parent.parent / \"src\" / \"notebookcodesnippets\" / \"supervised\" / \"roc-auc.md\", 'r') as fh:\n",
    "    content = fh.read()\n",
    "\n",
    "display(Markdown(content))\n",
    "hide_toggle() "
   ]
  },
  {
   "cell_type": "code",
   "execution_count": null,
   "metadata": {
    "scrolled": false
   },
   "outputs": [
    {
     "name": "stderr",
     "output_type": "stream",
     "text": [
      "\r",
      "0it [00:00, ?it/s]"
     ]
    },
    {
     "name": "stdout",
     "output_type": "stream",
     "text": [
      "Current training algorithm: LOG \n"
     ]
    },
    {
     "name": "stderr",
     "output_type": "stream",
     "text": [
      "25it [00:06,  3.97it/s]\n"
     ]
    },
    {
     "data": {
      "image/png": "[encoded data removed]",
      "text/plain": [
       "<Figure size 409.606x409.606 with 1 Axes>"
      ]
     },
     "metadata": {
      "needs_background": "light"
     },
     "output_type": "display_data"
    },
    {
     "data": {
      "image/png": "[encoded data removed]",
      "text/plain": [
       "<Figure size 409.606x409.606 with 1 Axes>"
      ]
     },
     "metadata": {
      "needs_background": "light"
     },
     "output_type": "display_data"
    },
    {
     "name": "stderr",
     "output_type": "stream",
     "text": [
      "\r",
      "0it [00:00, ?it/s]"
     ]
    },
    {
     "name": "stdout",
     "output_type": "stream",
     "text": [
      "Mean accuracy:0.94068\n",
      "Standard deviation:0.01887\n",
      "f1-score:0.90909\n",
      "Current training algorithm: DT \n"
     ]
    },
    {
     "name": "stderr",
     "output_type": "stream",
     "text": [
      "25it [00:06,  3.89it/s]\n"
     ]
    },
    {
     "data": {
      "image/png": "[encoded data removed]",
      "text/plain": [
       "<Figure size 409.606x409.606 with 1 Axes>"
      ]
     },
     "metadata": {
      "needs_background": "light"
     },
     "output_type": "display_data"
    },
    {
     "data": {
      "image/png": "[encoded data removed]",
      "text/plain": [
       "<Figure size 409.606x409.606 with 1 Axes>"
      ]
     },
     "metadata": {
      "needs_background": "light"
     },
     "output_type": "display_data"
    },
    {
     "name": "stderr",
     "output_type": "stream",
     "text": [
      "\r",
      "0it [00:00, ?it/s]"
     ]
    },
    {
     "name": "stdout",
     "output_type": "stream",
     "text": [
      "Mean accuracy:0.94068\n",
      "Standard deviation:0.01712\n",
      "f1-score:0.89744\n",
      "Current training algorithm: RF \n"
     ]
    },
    {
     "name": "stderr",
     "output_type": "stream",
     "text": [
      "25it [00:16,  1.56it/s]\n"
     ]
    },
    {
     "data": {
      "image/png": "[encoded data removed]",
      "text/plain": [
       "<Figure size 409.606x409.606 with 1 Axes>"
      ]
     },
     "metadata": {
      "needs_background": "light"
     },
     "output_type": "display_data"
    },
    {
     "data": {
      "image/png": "[encoded data removed]",
      "text/plain": [
       "<Figure size 409.606x409.606 with 1 Axes>"
      ]
     },
     "metadata": {
      "needs_background": "light"
     },
     "output_type": "display_data"
    },
    {
     "name": "stderr",
     "output_type": "stream",
     "text": [
      "\r",
      "0it [00:00, ?it/s]"
     ]
    },
    {
     "name": "stdout",
     "output_type": "stream",
     "text": [
      "Mean accuracy:0.94102\n",
      "Standard deviation:0.01785\n",
      "f1-score:0.90909\n",
      "Current training algorithm: GB \n"
     ]
    },
    {
     "name": "stderr",
     "output_type": "stream",
     "text": [
      "21it [00:44,  2.12s/it]"
     ]
    }
   ],
   "source": [
    "SupervisedModels = pd.Series({}, dtype=\"string\")\n",
    "\n",
    "for i, algorithm in enumerate(Algorithms): \n",
    "    print(\"Current training algorithm: {}\".format(prettyNames[i]))\n",
    "    SupervisedModels[Abbreviations[i]] = (\n",
    "        visualize.evaluatePrecisionRecallMetrics(classifier  = algorithm, \n",
    "                                     X = trainingData.drop([\"material_id\", \"full_formula\"], axis=1), \n",
    "                                     y = trainingTarget.values.reshape(-1,),\n",
    "                                     k = numberSplits,\n",
    "                                     n = numberRuns,\n",
    "                                    cv = rskfold,\n",
    "                     featureImportance = True,\n",
    "                                 title = prettyNames[i],\n",
    "                                 numPC = numberOfPrincipalComponents,\n",
    "                              approach = InsertApproach )\n",
    "    )"
   ]
  },
  {
   "cell_type": "code",
   "execution_count": null,
   "metadata": {},
   "outputs": [],
   "source": [
    "from IPython.display import display, Markdown\n",
    "\n",
    "with open(Path.cwd().parent.parent.parent / \"src\" / \"notebookcodesnippets\" / \"supervised\" / \"visualize-cv.md\", 'r') as fh:\n",
    "    content = fh.read()\n",
    "\n",
    "display(Markdown(content))\n",
    "hide_toggle()"
   ]
  },
  {
   "cell_type": "code",
   "execution_count": null,
   "metadata": {
    "scrolled": false
   },
   "outputs": [],
   "source": [
    "visualize.plot_accuracy(SupervisedModels, prettyNames,                                       \n",
    "                     prettyNames = prettyNames,\n",
    "                           numPC = numberOfPrincipalComponents,\n",
    "                        approach = InsertApproach)"
   ]
  },
  {
   "cell_type": "code",
   "execution_count": null,
   "metadata": {},
   "outputs": [],
   "source": [
    "from IPython.display import display, Markdown\n",
    "\n",
    "with open(Path.cwd().parent.parent.parent / \"src\" / \"notebookcodesnippets\" / \"supervised\" / \"visualizerelevant.md\", 'r') as fh:\n",
    "    content = fh.read()\n",
    "\n",
    "display(Markdown(content))\n",
    "hide_toggle()"
   ]
  },
  {
   "cell_type": "code",
   "execution_count": null,
   "metadata": {
    "scrolled": false
   },
   "outputs": [],
   "source": [
    "visualize.plot_important_features(SupervisedModels,\n",
    "                               X = trainingData.drop([\"material_id\", \"full_formula\"], axis=1),\n",
    "                               k = numberSplits, \n",
    "                               n = numberRuns,                                      \n",
    "                     prettyNames = prettyNames,\n",
    "                           numPC = numberOfPrincipalComponents,\n",
    "                        approach = InsertApproach)"
   ]
  },
  {
   "cell_type": "code",
   "execution_count": null,
   "metadata": {},
   "outputs": [],
   "source": [
    "from IPython.display import display, Markdown\n",
    "\n",
    "with open(Path.cwd().parent.parent.parent / \"src\" / \"notebookcodesnippets\" / \"supervised\" / \"falselypredicted.md\", 'r') as fh:\n",
    "    content = fh.read()\n",
    "\n",
    "display(Markdown(content))\n",
    "hide_toggle()"
   ]
  },
  {
   "cell_type": "code",
   "execution_count": null,
   "metadata": {
    "scrolled": false
   },
   "outputs": [],
   "source": [
    "visualize.plot_confusion_metrics(SupervisedModels, prettyNames, trainingData,\n",
    "                                 k = numberSplits,\n",
    "                                 n = numberRuns, \n",
    "                       prettyNames = prettyNames,\n",
    "                             numPC = numberOfPrincipalComponents,\n",
    "                          approach = InsertApproach)"
   ]
  },
  {
   "cell_type": "code",
   "execution_count": null,
   "metadata": {
    "scrolled": false
   },
   "outputs": [],
   "source": [
    "visualize.confusion_matrixQT(SupervisedModels, trainingTarget,                      \n",
    "                             prettyNames = prettyNames,\n",
    "                           numPC = numberOfPrincipalComponents,\n",
    "                        approach = InsertApproach)"
   ]
  },
  {
   "cell_type": "code",
   "execution_count": null,
   "metadata": {},
   "outputs": [],
   "source": []
  },
  {
   "cell_type": "code",
   "execution_count": null,
   "metadata": {},
   "outputs": [],
   "source": [
    "from IPython.display import display, Markdown\n",
    "\n",
    "with open(Path.cwd().parent.parent.parent / \"src\" / \"notebookcodesnippets\" / \"supervised\" / \"predictions.md\", 'r') as fh:\n",
    "    content = fh.read()\n",
    "\n",
    "display(Markdown(content))\n",
    "hide_toggle()"
   ]
  },
  {
   "cell_type": "code",
   "execution_count": null,
   "metadata": {},
   "outputs": [],
   "source": [
    "Summary                 = pd.DataFrame({}, dtype=\"string\")\n",
    "Summary[\"material_id\"]  = testSet[\"material_id\"]\n",
    "Summary[\"full_formula\"] = testSet[\"full_formula\"]\n",
    "Summary[\"pretty_formula\"] = testSet[\"pretty_formula\"]\n",
    "\n",
    "PredictedCandidates = pd.Series({}, dtype=\"string\")\n",
    "\n",
    "threshold = numberSplits*numberRuns/2 #50% when equal\n",
    "trainSet = trainingData.drop([\"material_id\", \"full_formula\"], axis=1)\n",
    "testData = testSet.drop([\"pretty_formula\", \"candidate\", \"full_formula\", \"material_id\"], axis=1)\n",
    "fittedAlgorithms = [] \n",
    "\n",
    "for i, algorithm in tqdm(enumerate(Algorithms)):\n",
    "    \n",
    "    # Train the final model with the best estimators\n",
    "    fittedAlgorithm = train_model.fitAlgorithm(algorithm, \n",
    "                                    trainingData   = trainSet,#trainSet[trainSet.columns[SupervisedModels[Abbreviations[i]][\"importantKeys\"]>threshold]],\\\n",
    "                                    trainingTarget = trainingTarget.values.reshape(-1,),)\n",
    "    \n",
    "    fittedAlgorithms.append(fittedAlgorithm)\n",
    "    \n",
    "    # Predict the final model on unseen data\n",
    "    PredictedCandidates[Abbreviations[i]],\\\n",
    "    PredictedCandidates[Abbreviations[i]+\"Prob\"] = predict_model.runPredictions(fittedAlgorithm,\\\n",
    "                                                        testData = testData)#[testData.columns[SupervisedModels[Abbreviations[i]][\"importantKeys\"]>threshold]])"
   ]
  },
  {
   "cell_type": "code",
   "execution_count": null,
   "metadata": {},
   "outputs": [],
   "source": [
    "for abbreviation in Abbreviations:\n",
    "    Summary[abbreviation]            = PredictedCandidates[abbreviation]\n",
    "    Summary[abbreviation + \"Prob\"]   = PredictedCandidates[abbreviation + \"Prob\"]\n",
    "    print(\"{} predict the number of candidates as: {}\".format(abbreviation, int(np.sum(PredictedCandidates[abbreviation]))))"
   ]
  },
  {
   "cell_type": "code",
   "execution_count": null,
   "metadata": {},
   "outputs": [],
   "source": [
    "Summary"
   ]
  },
  {
   "cell_type": "code",
   "execution_count": null,
   "metadata": {},
   "outputs": [],
   "source": [
    "from IPython.display import display, Markdown\n",
    "\n",
    "with open(Path.cwd().parent.parent.parent / \"src\" / \"notebookcodesnippets\" / \"supervised\" / \"save.md\", 'r') as fh:\n",
    "    content = fh.read()\n",
    "\n",
    "display(Markdown(content))\n",
    "hide_toggle()"
   ]
  },
  {
   "cell_type": "code",
   "execution_count": null,
   "metadata": {},
   "outputs": [],
   "source": [
    "file_path = Path(models_dir / InsertApproach / \"trained-models\")\n",
    "Path(file_path).mkdir(parents=True, exist_ok=True)\n",
    "for i, fitted_algorithm in tqdm(enumerate(fittedAlgorithms)):\n",
    "    file_path = Path(models_dir / InsertApproach / \"trained-models\" / Path(\"PCA-\" + str(numberOfPrincipalComponents) + \"-\" + prettyNames[i] + \".pkl\"))\n",
    "    with file_path.open(\"wb\") as fp:\n",
    "        pickle.dump(fitted_algorithm, fp)\n",
    "        \n",
    "\n",
    "file_path = (models_dir / InsertApproach /  \"summary\")\n",
    "Path(Path(models_dir / InsertApproach /  \"summary\")).mkdir(parents=True, exist_ok=True)\n",
    "\n",
    "file_path = Path(models_dir / InsertApproach /  \"summary\" / Path(\"PCA-\" + str(numberOfPrincipalComponents) + \"-\" + \"summary.pkl\"))\n",
    "with file_path.open(\"wb\") as fp:\n",
    "        pickle.dump(Summary, fp)"
   ]
  },
  {
   "cell_type": "code",
   "execution_count": null,
   "metadata": {},
   "outputs": [],
   "source": []
  }
 ],
 "metadata": {
  "kernelspec": {
   "display_name": "Python 3",
   "language": "python",
   "name": "python3"
  },
  "language_info": {
   "codemirror_mode": {
    "name": "ipython",
    "version": 3
   },
   "file_extension": ".py",
   "mimetype": "text/x-python",
   "name": "python",
   "nbconvert_exporter": "python",
   "pygments_lexer": "ipython3",
   "version": "3.8.5"
  }
 },
 "nbformat": 4,
 "nbformat_minor": 4
}
